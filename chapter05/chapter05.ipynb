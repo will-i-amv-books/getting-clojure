{
 "cells": [
  {
   "cell_type": "markdown",
   "metadata": {},
   "source": [
    "# More Capable Functions"
   ]
  },
  {
   "cell_type": "markdown",
   "metadata": {},
   "source": [
    "N-arity and variadic functions"
   ]
  },
  {
   "cell_type": "code",
   "execution_count": 1,
   "metadata": {},
   "outputs": [
    {
     "data": {
      "text/plain": [
       "#'user/greet"
      ]
     },
     "execution_count": 1,
     "metadata": {},
     "output_type": "execute_result"
    }
   ],
   "source": [
    ";; A simple function that takes a variable number of args\n",
    ";; (a multi-arity function)\n",
    "\n",
    "(defn greet\n",
    "    ([to-whom] \n",
    "        (println \"Welcome to Blotts Books\" to-whom))\n",
    "    ([message to-whom] \n",
    "        (println message to-whom)))\n"
   ]
  },
  {
   "cell_type": "code",
   "execution_count": 2,
   "metadata": {},
   "outputs": [
    {
     "name": "stdout",
     "output_type": "stream",
     "text": [
      "Welcome to Blotts Books Dolly\n"
     ]
    },
    {
     "data": {
      "text/plain": [
       "nil"
      ]
     },
     "execution_count": 2,
     "metadata": {},
     "output_type": "execute_result"
    }
   ],
   "source": [
    "(greet \"Dolly\")\n"
   ]
  },
  {
   "cell_type": "code",
   "execution_count": 3,
   "metadata": {},
   "outputs": [
    {
     "name": "stdout",
     "output_type": "stream",
     "text": [
      "Howdy Stranger\n"
     ]
    },
    {
     "data": {
      "text/plain": [
       "nil"
      ]
     },
     "execution_count": 3,
     "metadata": {},
     "output_type": "execute_result"
    }
   ],
   "source": [
    "(greet \"Howdy\" \"Stranger\")\n"
   ]
  },
  {
   "cell_type": "code",
   "execution_count": 4,
   "metadata": {},
   "outputs": [
    {
     "data": {
      "text/plain": [
       "#'user/greet"
      ]
     },
     "execution_count": 4,
     "metadata": {},
     "output_type": "execute_result"
    }
   ],
   "source": [
    ";; One of the arities of the function can be expressed in terms of the other\n",
    "\n",
    "(defn greet\n",
    "    ([to-whom]\n",
    "        (greet \"Welcome to Blotts Books\" to-whom)) ; Expressed in terms of the other arity\n",
    "    ([message to-whom] \n",
    "        (println message to-whom)))\n"
   ]
  },
  {
   "cell_type": "code",
   "execution_count": 8,
   "metadata": {},
   "outputs": [
    {
     "name": "stdout",
     "output_type": "stream",
     "text": [
      "My arguments are: (7 true nil)\n"
     ]
    },
    {
     "data": {
      "text/plain": [
       "nil"
      ]
     },
     "execution_count": 8,
     "metadata": {},
     "output_type": "execute_result"
    }
   ],
   "source": [
    ";; A function that takes an arbitrary number of args\n",
    ";; (a variadic function)\n",
    "\n",
    "(defn print-any-args [& args] ; The '&' symbol means a variable number of args\n",
    "    (println \"My arguments are:\" args))\n",
    "\n",
    "(print-any-args 7 true nil) ; The args are printed as a collection  \n"
   ]
  },
  {
   "cell_type": "code",
   "execution_count": 10,
   "metadata": {},
   "outputs": [
    {
     "data": {
      "text/plain": [
       "#'user/new-first-argument"
      ]
     },
     "execution_count": 10,
     "metadata": {},
     "output_type": "execute_result"
    }
   ],
   "source": [
    ";; Functions can have ordinary args before '&', as follows\n",
    "\n",
    "(defn first-argument [& args]\n",
    "    (first args))\n",
    "\n",
    "(defn new-first-argument [x & args] \n",
    "    x)\n"
   ]
  },
  {
   "cell_type": "code",
   "execution_count": 11,
   "metadata": {},
   "outputs": [
    {
     "data": {
      "text/plain": [
       "1"
      ]
     },
     "execution_count": 11,
     "metadata": {},
     "output_type": "execute_result"
    }
   ],
   "source": [
    "(first-argument 1 2 3)"
   ]
  },
  {
   "cell_type": "code",
   "execution_count": 12,
   "metadata": {},
   "outputs": [
    {
     "data": {
      "text/plain": [
       "1"
      ]
     },
     "execution_count": 12,
     "metadata": {},
     "output_type": "execute_result"
    }
   ],
   "source": [
    "(new-first-argument 1 2 3)"
   ]
  },
  {
   "cell_type": "markdown",
   "metadata": {},
   "source": [
    "Multimethods"
   ]
  },
  {
   "cell_type": "code",
   "execution_count": 17,
   "metadata": {},
   "outputs": [
    {
     "data": {
      "text/plain": [
       "[\"1984\" \"Orwell\"]"
      ]
     },
     "execution_count": 17,
     "metadata": {},
     "output_type": "execute_result"
    }
   ],
   "source": [
    ";; Given the following formats of book data\n",
    "\n",
    "{:title \"War and Peace\" :author \"Tolstoy\"}\n",
    "\n",
    "{:book \"Emma\" :by \"Austen\"}\n",
    "\n",
    "[\"1984\" \"Orwell\"]\n"
   ]
  },
  {
   "cell_type": "code",
   "execution_count": 19,
   "metadata": {},
   "outputs": [
    {
     "data": {
      "text/plain": [
       "#'user/normalize-book"
      ]
     },
     "execution_count": 19,
     "metadata": {},
     "output_type": "execute_result"
    }
   ],
   "source": [
    ";; A function that normalizes the format of book \n",
    ";; can be written as follows\n",
    ";; (It works, but with a growing number of book formats it will get ugly fast)\n",
    "\n",
    "(defn normalize-book [book]\n",
    "    (if (vector? book)\n",
    "        {:title (first book) :author (second book)}\n",
    "        (if (contains? book :title)\n",
    "            book\n",
    "            {:title (:book book) :author (:by book)})))\n"
   ]
  },
  {
   "cell_type": "code",
   "execution_count": 20,
   "metadata": {},
   "outputs": [
    {
     "data": {
      "text/plain": [
       "{:title \"War and Peace\", :author \"Tolstoy\"}"
      ]
     },
     "execution_count": 20,
     "metadata": {},
     "output_type": "execute_result"
    }
   ],
   "source": [
    "(normalize-book {:title \"War and Peace\" :author \"Tolstoy\"})\n"
   ]
  },
  {
   "cell_type": "code",
   "execution_count": 21,
   "metadata": {},
   "outputs": [
    {
     "data": {
      "text/plain": [
       "{:title \"Emma\", :author \"Austen\"}"
      ]
     },
     "execution_count": 21,
     "metadata": {},
     "output_type": "execute_result"
    }
   ],
   "source": [
    "(normalize-book {:book \"Emma\" :by \"Austen\"})\n"
   ]
  },
  {
   "cell_type": "code",
   "execution_count": 22,
   "metadata": {},
   "outputs": [
    {
     "data": {
      "text/plain": [
       "{:title \"1984\", :author \"Orwell\"}"
      ]
     },
     "execution_count": 22,
     "metadata": {},
     "output_type": "execute_result"
    }
   ],
   "source": [
    "(normalize-book [\"1984\" \"Orwell\"])\n"
   ]
  },
  {
   "cell_type": "code",
   "execution_count": 27,
   "metadata": {},
   "outputs": [
    {
     "data": {
      "text/plain": [
       ":vector-book"
      ]
     },
     "execution_count": 27,
     "metadata": {},
     "output_type": "execute_result"
    }
   ],
   "source": [
    ";; A function that returns keywords based on the book's format\n",
    ";; to be used later to define a multimethod\n",
    "\n",
    "(defn dispatch-book-format [book]\n",
    "    (cond\n",
    "        (vector? book) :vector-book\n",
    "        (contains? book :title) :standard-map\n",
    "        (contains? book :book) :alternative-map))\n",
    "\n",
    "(dispatch-book-format [\"1984\" \"Orwell\"])\n"
   ]
  },
  {
   "cell_type": "code",
   "execution_count": 26,
   "metadata": {},
   "outputs": [
    {
     "data": {
      "text/plain": [
       "nil"
      ]
     },
     "execution_count": 26,
     "metadata": {},
     "output_type": "execute_result"
    }
   ],
   "source": [
    ";; Defining a multimethod from the last dispatcher function\n",
    "\n",
    "(defmulti normalize-book dispatch-book-format)\n"
   ]
  },
  {
   "cell_type": "code",
   "execution_count": 35,
   "metadata": {},
   "outputs": [
    {
     "data": {
      "text/plain": [
       "{:title \"1984\", :author \"Orwell\"}"
      ]
     },
     "execution_count": 35,
     "metadata": {},
     "output_type": "execute_result"
    }
   ],
   "source": [
    ";; Implementing the last multimethod for the possible values\n",
    ";; returned from the dispatch function\n",
    "\n",
    "(defmethod normalize-book :vector-book [book]\n",
    "    {:title (first book) :author (second book)})\n",
    "\n",
    "(normalize-book [\"1984\" \"Orwell\"])\n"
   ]
  },
  {
   "cell_type": "code",
   "execution_count": 36,
   "metadata": {},
   "outputs": [
    {
     "data": {
      "text/plain": [
       "{:title \"War and Peace\", :author \"Tolstoy\"}"
      ]
     },
     "execution_count": 36,
     "metadata": {},
     "output_type": "execute_result"
    }
   ],
   "source": [
    "(defmethod normalize-book :standard-map [book]\n",
    "    book)\n",
    "\n",
    "(normalize-book {:title \"War and Peace\" :author \"Tolstoy\"})\n"
   ]
  },
  {
   "cell_type": "code",
   "execution_count": 34,
   "metadata": {},
   "outputs": [
    {
     "data": {
      "text/plain": [
       "{:title \"Emma\", :author \"Austen\"}"
      ]
     },
     "execution_count": 34,
     "metadata": {},
     "output_type": "execute_result"
    }
   ],
   "source": [
    "(defmethod normalize-book :alternative-map [book]\n",
    "    {:title (:book book) :author (:by book)})\n",
    "\n",
    "(normalize-book {:book \"Emma\" :by \"Austen\"})\n"
   ]
  },
  {
   "cell_type": "code",
   "execution_count": 46,
   "metadata": {},
   "outputs": [
    {
     "data": {
      "text/plain": [
       "#'user/books"
      ]
     },
     "execution_count": 46,
     "metadata": {},
     "output_type": "execute_result"
    }
   ],
   "source": [
    ";; A new colection of books with a new keyword :genre,\n",
    ";; which should be processed somehow by the last multimethod\n",
    "\n",
    "(def books [{:title \"Pride and Prejudice\" :author \"Austen\" :genre :romance}\n",
    "            {:title \"World War Z\" :author \"Brooks\" :genre :zombie}])\n"
   ]
  },
  {
   "cell_type": "code",
   "execution_count": 50,
   "metadata": {},
   "outputs": [
    {
     "data": {
      "text/plain": [
       "#multifn[book-description 0x73ecc2fe]"
      ]
     },
     "execution_count": 50,
     "metadata": {},
     "output_type": "execute_result"
    }
   ],
   "source": [
    ";; In case another keyword is present (:genre in this case), \n",
    ";; a separate multimethod can be created independently, as follows\n",
    "\n",
    "(defmulti book-description :genre)\n",
    "\n",
    "(defmethod book-description :romance [book]\n",
    "    (str \"The heart warming new romance by \" (:author book)))\n",
    "\n",
    "(defmethod book-description :zombie [book]\n",
    "    (str \"The heart consuming new zombie adventure by \" (:author book)))\n"
   ]
  },
  {
   "cell_type": "code",
   "execution_count": 51,
   "metadata": {},
   "outputs": [
    {
     "data": {
      "text/plain": [
       "\"The heart warming new romance by Austen\""
      ]
     },
     "execution_count": 51,
     "metadata": {},
     "output_type": "execute_result"
    }
   ],
   "source": [
    "(book-description (first books))"
   ]
  },
  {
   "cell_type": "code",
   "execution_count": 52,
   "metadata": {},
   "outputs": [
    {
     "data": {
      "text/plain": [
       "\"The heart consuming new zombie adventure by Brooks\""
      ]
     },
     "execution_count": 52,
     "metadata": {},
     "output_type": "execute_result"
    }
   ],
   "source": [
    "(book-description (last books))"
   ]
  },
  {
   "cell_type": "code",
   "execution_count": 47,
   "metadata": {},
   "outputs": [
    {
     "data": {
      "text/plain": [
       "\"The heart warming and consuming new romance by Grahame-Smith\""
      ]
     },
     "execution_count": 47,
     "metadata": {},
     "output_type": "execute_result"
    }
   ],
   "source": [
    ";; If there are new genres, a new method can be implemented\n",
    ";; to handle it, as follows\n",
    "\n",
    "(def ppz {:title \"Pride and Prejudice and Zombies\"\n",
    "          :author \"Grahame-Smith\"\n",
    "          :genre :zombie-romance})\n",
    "\n",
    "(defmethod book-description :zombie-romance [book]\n",
    "    (str \"The heart warming and consuming new romance by \" (:author book)))\n",
    "\n",
    "(book-description ppz)"
   ]
  },
  {
   "cell_type": "markdown",
   "metadata": {},
   "source": [
    "Recursive functions"
   ]
  },
  {
   "cell_type": "code",
   "execution_count": 53,
   "metadata": {},
   "outputs": [
    {
     "data": {
      "text/plain": [
       "#'user/books"
      ]
     },
     "execution_count": 53,
     "metadata": {},
     "output_type": "execute_result"
    }
   ],
   "source": [
    ";; Given the following books map\n",
    "\n",
    "(def books\n",
    "    [{:title \"Jaws\" :copies-sold 2000000}\n",
    "     {:title \"Emma\" :copies-sold 3000000}\n",
    "     {:title \"2001\" :copies-sold 4000000}])\n"
   ]
  },
  {
   "cell_type": "code",
   "execution_count": 54,
   "metadata": {},
   "outputs": [
    {
     "data": {
      "text/plain": [
       "9000000"
      ]
     },
     "execution_count": 54,
     "metadata": {},
     "output_type": "execute_result"
    }
   ],
   "source": [
    ";; To get the sum of the copies sold, \n",
    ";; a recursive function can be defined as follows\n",
    "\n",
    "(defn sum-copies\n",
    "    ([books] \n",
    "        (sum-copies books 0))\n",
    "    ([books total]\n",
    "        (if (empty? books)\n",
    "        total\n",
    "        (sum-copies ; Note the recursion here\n",
    "            (rest books)\n",
    "            (+ total (:copies-sold (first books)))))))\n",
    "\n",
    "(sum-copies books)\n"
   ]
  },
  {
   "cell_type": "code",
   "execution_count": 59,
   "metadata": {},
   "outputs": [
    {
     "data": {
      "text/plain": [
       "9000000"
      ]
     },
     "execution_count": 59,
     "metadata": {},
     "output_type": "execute_result"
    }
   ],
   "source": [
    ";; The last function will blow the stack with a large collection.\n",
    ";; To avoid that, the 'recur' function can be used as follows\n",
    "\n",
    "(defn sum-copies\n",
    "    ([books] (sum-copies books 0))\n",
    "    ([books total]\n",
    "        (if (empty? books)\n",
    "            total\n",
    "            (recur\n",
    "                (rest books)\n",
    "                (+ total (:copies-sold (first books)))))))\n",
    "\n",
    "(sum-copies books)"
   ]
  },
  {
   "cell_type": "code",
   "execution_count": 61,
   "metadata": {},
   "outputs": [
    {
     "data": {
      "text/plain": [
       "9000000"
      ]
     },
     "execution_count": 61,
     "metadata": {},
     "output_type": "execute_result"
    }
   ],
   "source": [
    ";; The last function can be made even shorter\n",
    ";; with the 'loop' function, as follows\n",
    "\n",
    "(defn sum-copies [books]\n",
    "    (loop [books books total 0]\n",
    "        (if (empty? books)\n",
    "            total\n",
    "            (recur (rest books) (+ total (:copies-sold (first books)))))))\n",
    "\n",
    "(sum-copies books)\n"
   ]
  },
  {
   "cell_type": "markdown",
   "metadata": {},
   "source": [
    "Docstrings"
   ]
  },
  {
   "cell_type": "code",
   "execution_count": 67,
   "metadata": {},
   "outputs": [
    {
     "data": {
      "text/plain": [
       "3.5"
      ]
     },
     "execution_count": 67,
     "metadata": {},
     "output_type": "execute_result"
    }
   ],
   "source": [
    "\"\"\"\n",
    "To describe a function's purpose, it's ok to describe it with standard comments\n",
    "\"\"\"\n",
    "\n",
    ";; Return the average of the two parameters.\n",
    "\n",
    "(defn average [a b]\n",
    "    (/ (+ a b) 2.0))\n",
    "\n",
    "(average 4 3)"
   ]
  },
  {
   "cell_type": "code",
   "execution_count": 71,
   "metadata": {},
   "outputs": [
    {
     "data": {
      "text/plain": [
       "3.5"
      ]
     },
     "execution_count": 71,
     "metadata": {},
     "output_type": "execute_result"
    }
   ],
   "source": [
    ";; But a more idiomatic way is to use docstrings, as follows\n",
    "\n",
    "(defn average-2 \n",
    "    \"Return the average of a and b.\"\n",
    "    [a b]\n",
    "    (/ (+ a b) 2.0))\n",
    "\n",
    "(average-2 4 3)\n"
   ]
  },
  {
   "cell_type": "markdown",
   "metadata": {},
   "source": [
    "Pre and Post-conditions"
   ]
  },
  {
   "cell_type": "code",
   "execution_count": 86,
   "metadata": {},
   "outputs": [
    {
     "data": {
      "text/plain": [
       "#'user/publish-book"
      ]
     },
     "execution_count": 86,
     "metadata": {},
     "output_type": "execute_result"
    }
   ],
   "source": [
    ";; In case you want to check some property of the args (a map, in this case)\n",
    ";; a conditional checking can be written at the start of the function, as follows\n",
    "\n",
    "(defn publish-book [book]\n",
    "    (when-not (contains? book :title)\n",
    "        (throw (ex-info \"Books must contain :title\" {:book book})))\n",
    "    (println book))\n"
   ]
  },
  {
   "cell_type": "code",
   "execution_count": 85,
   "metadata": {},
   "outputs": [
    {
     "name": "stdout",
     "output_type": "stream",
     "text": [
      "{:title War and Peace, :author Tolstoy}\n"
     ]
    },
    {
     "data": {
      "text/plain": [
       "nil"
      ]
     },
     "execution_count": 85,
     "metadata": {},
     "output_type": "execute_result"
    }
   ],
   "source": [
    "(publish-book {:title \"War and Peace\" :author \"Tolstoy\"}) ; Pass the checking"
   ]
  },
  {
   "cell_type": "code",
   "execution_count": 100,
   "metadata": {},
   "outputs": [
    {
     "name": "stderr",
     "output_type": "stream",
     "text": [
      "Execution error (AssertionError) at user/publish-book (REPL:1).\n",
      "Assert failed: (:title book)\n"
     ]
    },
    {
     "ename": "class java.lang.AssertionError",
     "evalue": "",
     "output_type": "error",
     "traceback": [
      "   core.clj:  3214 clojure.core$eval/invokeStatic",
      "   core.clj:  3210 clojure.core$eval/invoke",
      "   main.clj:   437 clojure.main$repl$read_eval_print__9086$fn__9089/invoke",
      "   main.clj:   458 clojure.main$repl$fn__9095/invoke",
      "   main.clj:   368 clojure.main$repl/doInvoke",
      "RestFn.java:  1523 clojure.lang.RestFn/invoke",
      "   AFn.java:    22 clojure.lang.AFn/run",
      "   AFn.java:    22 clojure.lang.AFn/run",
      "Thread.java:   745 java.lang.Thread/run"
     ]
    }
   ],
   "source": [
    "(publish-book {:author \"Tolstoy\"}) ; Doesn't pass the checking"
   ]
  },
  {
   "cell_type": "code",
   "execution_count": 91,
   "metadata": {},
   "outputs": [
    {
     "data": {
      "text/plain": [
       "#'user/publish-book-2"
      ]
     },
     "execution_count": 91,
     "metadata": {},
     "output_type": "execute_result"
    }
   ],
   "source": [
    ";; But Clojure provides a keyword for the last functionality, \n",
    ";; the :pre (for pre-conditional) keyword\n",
    "\n",
    "(defn publish-book-2 [book]\n",
    "    {:pre [(:title book)]} ; The pre-conditional should be a vector of expressions\n",
    "    (println book))\n"
   ]
  },
  {
   "cell_type": "code",
   "execution_count": 92,
   "metadata": {},
   "outputs": [
    {
     "name": "stdout",
     "output_type": "stream",
     "text": [
      "{:title War and Peace, :author Tolstoy}\n"
     ]
    },
    {
     "data": {
      "text/plain": [
       "nil"
      ]
     },
     "execution_count": 92,
     "metadata": {},
     "output_type": "execute_result"
    }
   ],
   "source": [
    "(publish-book-2 {:title \"War and Peace\" :author \"Tolstoy\"}) ; Pass the pre-condition"
   ]
  },
  {
   "cell_type": "code",
   "execution_count": 93,
   "metadata": {},
   "outputs": [
    {
     "name": "stderr",
     "output_type": "stream",
     "text": [
      "Execution error (AssertionError) at user/publish-book-2 (REPL:1).\n",
      "Assert failed: (:title book)\n"
     ]
    },
    {
     "ename": "class java.lang.AssertionError",
     "evalue": "",
     "output_type": "error",
     "traceback": [
      "   core.clj:  3214 clojure.core$eval/invokeStatic",
      "   core.clj:  3210 clojure.core$eval/invoke",
      "   main.clj:   437 clojure.main$repl$read_eval_print__9086$fn__9089/invoke",
      "   main.clj:   458 clojure.main$repl$fn__9095/invoke",
      "   main.clj:   368 clojure.main$repl/doInvoke",
      "RestFn.java:  1523 clojure.lang.RestFn/invoke",
      "   AFn.java:    22 clojure.lang.AFn/run",
      "   AFn.java:    22 clojure.lang.AFn/run",
      "Thread.java:   745 java.lang.Thread/run"
     ]
    }
   ],
   "source": [
    "(publish-book-2 {:author \"Tolstoy\"}) ; Doesn't pass the pre-condition"
   ]
  },
  {
   "cell_type": "code",
   "execution_count": 98,
   "metadata": {},
   "outputs": [
    {
     "data": {
      "text/plain": [
       "#'user/publish-book-3"
      ]
     },
     "execution_count": 98,
     "metadata": {},
     "output_type": "execute_result"
    }
   ],
   "source": [
    ";; A similar functionality but for return values is present \n",
    ";; in the :post (for post-conditional) keyword\n",
    "\n",
    "\n",
    "(defn publish-book-3 [book]\n",
    "    {:pre [(:title book) (:author book)]\n",
    "     :post [(boolean? %)]} ; The post-conditional should be a vector of expressions\n",
    "    (map? book))\n"
   ]
  },
  {
   "cell_type": "code",
   "execution_count": 99,
   "metadata": {},
   "outputs": [
    {
     "data": {
      "text/plain": [
       "true"
      ]
     },
     "execution_count": 99,
     "metadata": {},
     "output_type": "execute_result"
    }
   ],
   "source": [
    "(publish-book-3 {:title \"War and Peace\" :author \"Tolstoy\"})"
   ]
  },
  {
   "cell_type": "markdown",
   "metadata": {},
   "source": [
    "Issues with functions"
   ]
  },
  {
   "cell_type": "code",
   "execution_count": 102,
   "metadata": {},
   "outputs": [
    {
     "name": "stderr",
     "output_type": "stream",
     "text": [
      "Syntax error compiling fn* at (REPL:3:1).\n",
      "Can't have fixed arity function with more params than variadic function\n"
     ]
    },
    {
     "ename": "class clojure.lang.Compiler$CompilerException",
     "evalue": "",
     "output_type": "error",
     "traceback": [
      "  Util.java:   221 clojure.lang.Util/runtimeException",
      "   core.clj:  3214 clojure.core$eval/invokeStatic",
      "   core.clj:  3210 clojure.core$eval/invoke",
      "   main.clj:   437 clojure.main$repl$read_eval_print__9086$fn__9089/invoke",
      "   main.clj:   458 clojure.main$repl$fn__9095/invoke",
      "   main.clj:   368 clojure.main$repl/doInvoke",
      "RestFn.java:  1523 clojure.lang.RestFn/invoke",
      "   AFn.java:    22 clojure.lang.AFn/run",
      "   AFn.java:    22 clojure.lang.AFn/run",
      "Thread.java:   745 java.lang.Thread/run"
     ]
    }
   ],
   "source": [
    ";; Trying to define a n-ary function with overlapping args throws an exception\n",
    "\n",
    "(defn one-two-or-more\n",
    "    ([a] (println \"One arg:\" a))\n",
    "    ; It's not clear which of the 2 below should be called when there are 2 args\n",
    "    ([a b] (println \"Two args:\" a b))\n",
    "    ([& more] (println \"More than two:\" more))) \n"
   ]
  },
  {
   "cell_type": "code",
   "execution_count": 103,
   "metadata": {},
   "outputs": [
    {
     "data": {
      "text/plain": [
       "#'user/one-two-or-more"
      ]
     },
     "execution_count": 103,
     "metadata": {},
     "output_type": "execute_result"
    }
   ],
   "source": [
    ";; To avoid ambiguities, the last function should be modified as follows\n",
    "\n",
    "(defn one-two-or-more\n",
    "    ([a] (println \"One arg:\" a))\n",
    "    ([a b] (println \"Two args:\" a b))\n",
    "    ([a b & more] (println \"More than two:\" a b more)))\n"
   ]
  },
  {
   "cell_type": "code",
   "execution_count": 105,
   "metadata": {},
   "outputs": [
    {
     "data": {
      "text/plain": [
       "#'user/chatty-multi-average"
      ]
     },
     "execution_count": 105,
     "metadata": {},
     "output_type": "execute_result"
    }
   ],
   "source": [
    ";; Functions with multiple body expressions should not be confused\n",
    ";; with multi-arity functions\n",
    "\n",
    "(defn chatty-average\n",
    "    ([a b]\n",
    "        (println \"chatty-average function called with 2 arguments\")\n",
    "        (println \"** first argument:\" a)\n",
    "        (println \"** second argument:\" b)\n",
    "        (/ (+ a b) 2.0)))\n",
    "\n",
    "(defn chatty-multi-average\n",
    "    ([a b]\n",
    "        (println \"chatty-average function called with 2 arguments\")\n",
    "        (/ (+ a b) 2.0))\n",
    "    ([a b c]\n",
    "        (println \"chatty-average function called with 3 arguments\")\n",
    "        (/ (+ a b c) 3.0)))\n"
   ]
  },
  {
   "cell_type": "code",
   "execution_count": 107,
   "metadata": {},
   "outputs": [
    {
     "name": "stdout",
     "output_type": "stream",
     "text": [
      "chatty-average function called with 2 arguments\n",
      "** first argument: 2\n",
      "** second argument: 3\n"
     ]
    },
    {
     "data": {
      "text/plain": [
       "2.5"
      ]
     },
     "execution_count": 107,
     "metadata": {},
     "output_type": "execute_result"
    }
   ],
   "source": [
    "(chatty-average 2 3)"
   ]
  },
  {
   "cell_type": "code",
   "execution_count": 108,
   "metadata": {},
   "outputs": [
    {
     "name": "stdout",
     "output_type": "stream",
     "text": [
      "chatty-average function called with 2 arguments\n"
     ]
    },
    {
     "data": {
      "text/plain": [
       "2.5"
      ]
     },
     "execution_count": 108,
     "metadata": {},
     "output_type": "execute_result"
    }
   ],
   "source": [
    "(chatty-multi-average 2 3)"
   ]
  }
 ],
 "metadata": {
  "kernelspec": {
   "display_name": "Clojure (clojupyter=0.3.2=1)",
   "language": "clojure",
   "name": "python397jvsc74a57bd089a790bea3b9cadff6bf73491f7cf161e4e94bfc015afe6a535623fbe4142b79"
  },
  "language_info": {
   "file_extension": ".clj",
   "mimetype": "text/x-clojure",
   "name": "clojure",
   "version": "1.10.1"
  },
  "orig_nbformat": 4
 },
 "nbformat": 4,
 "nbformat_minor": 2
}

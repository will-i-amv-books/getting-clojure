{
 "cells": [
  {
   "cell_type": "markdown",
   "metadata": {},
   "source": [
    "# Lazy Sequences"
   ]
  },
  {
   "cell_type": "markdown",
   "metadata": {},
   "source": [
    "### Sequences Without End\n"
   ]
  },
  {
   "cell_type": "code",
   "execution_count": 1,
   "metadata": {},
   "outputs": [
    {
     "data": {
      "text/plain": [
       "#'user/text"
      ]
     },
     "execution_count": 1,
     "metadata": {},
     "output_type": "execute_result"
    }
   ],
   "source": [
    ";; A simple sequence\n",
    "\n",
    "(def jack \"All work and no play makes Jack a dull boy.\")\n",
    "\n",
    "(def text [jack jack jack jack jack jack jack jack jack jack])"
   ]
  },
  {
   "cell_type": "code",
   "execution_count": 2,
   "metadata": {},
   "outputs": [
    {
     "data": {
      "text/plain": [
       "#'user/repeated-text"
      ]
     },
     "execution_count": 2,
     "metadata": {},
     "output_type": "execute_result"
    }
   ],
   "source": [
    ";; Using 'repeat' to generate items like the last sequence \n",
    "\n",
    "(def repeated-text (repeat jack))\n"
   ]
  },
  {
   "cell_type": "code",
   "execution_count": 3,
   "metadata": {},
   "outputs": [
    {
     "data": {
      "text/plain": [
       "\"All work and no play makes Jack a dull boy.\""
      ]
     },
     "execution_count": 3,
     "metadata": {},
     "output_type": "execute_result"
    }
   ],
   "source": [
    ";; The 1st item\n",
    "\n",
    "(first repeated-text)\n"
   ]
  },
  {
   "cell_type": "code",
   "execution_count": 4,
   "metadata": {},
   "outputs": [
    {
     "data": {
      "text/plain": [
       "\"All work and no play makes Jack a dull boy.\""
      ]
     },
     "execution_count": 4,
     "metadata": {},
     "output_type": "execute_result"
    }
   ],
   "source": [
    ";; The 10th item\n",
    "\n",
    "(nth repeated-text 10)\n"
   ]
  },
  {
   "cell_type": "code",
   "execution_count": 5,
   "metadata": {},
   "outputs": [
    {
     "data": {
      "text/plain": [
       "\"All work and no play makes Jack a dull boy.\""
      ]
     },
     "execution_count": 5,
     "metadata": {},
     "output_type": "execute_result"
    }
   ],
   "source": [
    ";; The 10202th item (!)\n",
    "\n",
    "(nth repeated-text 10202) ; An example of a lazy sequence\n"
   ]
  },
  {
   "cell_type": "markdown",
   "metadata": {},
   "source": [
    "## More Interesting Laziness\n"
   ]
  },
  {
   "cell_type": "code",
   "execution_count": 6,
   "metadata": {},
   "outputs": [
    {
     "data": {
      "text/plain": [
       "(1 2 3 1 2 3 1)"
      ]
     },
     "execution_count": 6,
     "metadata": {},
     "output_type": "execute_result"
    }
   ],
   "source": [
    ";; A lazy sequence created with 'cycle'\n",
    "\n",
    "(take 7 (cycle [1 2 3]))\n"
   ]
  },
  {
   "cell_type": "code",
   "execution_count": 7,
   "metadata": {},
   "outputs": [
    {
     "data": {
      "text/plain": [
       "#'user/numbers"
      ]
     },
     "execution_count": 7,
     "metadata": {},
     "output_type": "execute_result"
    }
   ],
   "source": [
    ";; A lazy sequence created with 'iterate'\n",
    "\n",
    "(def numbers (iterate inc 1))\n"
   ]
  },
  {
   "cell_type": "code",
   "execution_count": 8,
   "metadata": {},
   "outputs": [
    {
     "data": {
      "text/plain": [
       "1"
      ]
     },
     "execution_count": 8,
     "metadata": {},
     "output_type": "execute_result"
    }
   ],
   "source": [
    "(nth numbers 0) ; 1st item\n"
   ]
  },
  {
   "cell_type": "code",
   "execution_count": 9,
   "metadata": {},
   "outputs": [
    {
     "data": {
      "text/plain": [
       "2"
      ]
     },
     "execution_count": 9,
     "metadata": {},
     "output_type": "execute_result"
    }
   ],
   "source": [
    "(nth numbers 1)  ; 2nd item\n"
   ]
  },
  {
   "cell_type": "code",
   "execution_count": 10,
   "metadata": {},
   "outputs": [
    {
     "data": {
      "text/plain": [
       "100"
      ]
     },
     "execution_count": 10,
     "metadata": {},
     "output_type": "execute_result"
    }
   ],
   "source": [
    "(nth numbers 99)  ; 100th item\n"
   ]
  },
  {
   "cell_type": "markdown",
   "metadata": {},
   "source": [
    "### Lazy Friends"
   ]
  },
  {
   "cell_type": "code",
   "execution_count": 11,
   "metadata": {},
   "outputs": [
    {
     "data": {
      "text/plain": [
       "#'user/many-nums"
      ]
     },
     "execution_count": 11,
     "metadata": {},
     "output_type": "execute_result"
    }
   ],
   "source": [
    ";; This sequence doesn't create 1000000000 items immediately\n",
    "\n",
    "(def many-nums (take 1000000000 (iterate inc 1)))\n"
   ]
  },
  {
   "cell_type": "code",
   "execution_count": 12,
   "metadata": {},
   "outputs": [
    {
     "name": "stdout",
     "output_type": "stream",
     "text": [
      "(1 2 3 4 5 6 7 8 9 10 11 12 13 14 15 16 17 18 19 20)\n"
     ]
    },
    {
     "data": {
      "text/plain": [
       "nil"
      ]
     },
     "execution_count": 12,
     "metadata": {},
     "output_type": "execute_result"
    }
   ],
   "source": [
    ";; THis will take the first 20 items, not the first 1000000000\n",
    "\n",
    "(println (take 20 (take 1000000000 (iterate inc 1))))\n"
   ]
  },
  {
   "cell_type": "code",
   "execution_count": 13,
   "metadata": {},
   "outputs": [
    {
     "data": {
      "text/plain": [
       "(2 4 6 8 10 12 14 16 18 20 22 24 26 28 30 32 34 36 38 40)"
      ]
     },
     "execution_count": 13,
     "metadata": {},
     "output_type": "execute_result"
    }
   ],
   "source": [
    ";; The 'map' function is also lazy\n",
    "\n",
    "(def evens \n",
    "    (map #(* 2 %) (iterate inc 1)))\n",
    "\n",
    "(take 20 evens)\n"
   ]
  },
  {
   "cell_type": "code",
   "execution_count": 14,
   "metadata": {},
   "outputs": [
    {
     "data": {
      "text/plain": [
       "(1 2 2 4 3 6 4 8 5 10)"
      ]
     },
     "execution_count": 14,
     "metadata": {},
     "output_type": "execute_result"
    }
   ],
   "source": [
    ";; The 'interleave' function is also lazy\n",
    "\n",
    "(take 10 (interleave numbers evens))\n"
   ]
  },
  {
   "cell_type": "markdown",
   "metadata": {},
   "source": [
    "### Laziness in Practice"
   ]
  },
  {
   "cell_type": "code",
   "execution_count": 15,
   "metadata": {},
   "outputs": [
    {
     "data": {
      "text/plain": [
       "#'user/test-books"
      ]
     },
     "execution_count": 15,
     "metadata": {},
     "output_type": "execute_result"
    }
   ],
   "source": [
    ";; We can create fake books data manually as follows\n",
    "\n",
    "(def test-books\n",
    "    [{:author \"Bob Jordan\", :title \"Wheel of Time, Book 1\"}\n",
    "    {:author \"Jane Austen\", :title \"Wheel of Time, Book 2\"}\n",
    "    {:author \"Chuck Dickens\", :title \"Wheel of Time, Book 3\"}\n",
    "    {:author \"Leo Tolstoy\", :title \"Wheel of Time, Book 4\"}\n",
    "    {:author \"Bob Poe\", :title \"Wheel of Time, Book 5\"}\n",
    "    {:author \"Jane Jordan\", :title \"Wheel of Time, Book 6\"}\n",
    "    {:author \"Chuck Austen\", :title \"Wheel of Time, Book 7\"}])\n"
   ]
  },
  {
   "cell_type": "code",
   "execution_count": 16,
   "metadata": {},
   "outputs": [
    {
     "data": {
      "text/plain": [
       "#'user/titles"
      ]
     },
     "execution_count": 16,
     "metadata": {},
     "output_type": "execute_result"
    }
   ],
   "source": [
    ";; But we can generate infinite book titles as follows\n",
    "\n",
    "(def numbers (iterate inc 1))\n",
    "\n",
    "(def titles \n",
    "    (map #(str \"Wheel of Time, Book \" % ) numbers))"
   ]
  },
  {
   "cell_type": "code",
   "execution_count": 17,
   "metadata": {},
   "outputs": [
    {
     "data": {
      "text/plain": [
       "#'user/make-book"
      ]
     },
     "execution_count": 17,
     "metadata": {},
     "output_type": "execute_result"
    }
   ],
   "source": [
    ";; Also, we can generate author names as follows\n",
    "\n",
    "(def first-names [\"Bob\" \"Jane\" \"Chuck\" \"Leo\"])\n",
    "(def last-names [\"Jordan\" \"Austen\" \"Dickens\" \"Tolstoy\" \"Poe\"])\n",
    "\n",
    "(defn combine-names [fname lname]\n",
    "    (str fname \" \" lname))\n",
    "\n",
    "(def authors\n",
    "    (map combine-names (cycle first-names) (cycle last-names)))\n",
    "\n",
    "(defn make-book [title author]\n",
    "    {:author author :title title})"
   ]
  },
  {
   "cell_type": "code",
   "execution_count": 18,
   "metadata": {},
   "outputs": [
    {
     "data": {
      "text/plain": [
       "({:author \"Bob Jordan\", :title \"Wheel of Time, Book 1\"} {:author \"Jane Austen\", :title \"Wheel of Time, Book 2\"})"
      ]
     },
     "execution_count": 18,
     "metadata": {},
     "output_type": "execute_result"
    }
   ],
   "source": [
    "(def test-books (map make-book titles authors))\n",
    "\n",
    "(take 2 test-books)\n"
   ]
  },
  {
   "cell_type": "markdown",
   "metadata": {},
   "source": [
    "### Behind the Scenes\n"
   ]
  },
  {
   "cell_type": "code",
   "execution_count": 19,
   "metadata": {},
   "outputs": [
    {
     "data": {
      "text/plain": [
       "#'user/s"
      ]
     },
     "execution_count": 19,
     "metadata": {},
     "output_type": "execute_result"
    }
   ],
   "source": [
    ";; The 'lazy-seq' function turns an expression into a lazy sequence\n",
    "\n",
    "(defn chatty-vector []\n",
    "    (println \"Here we go!\") [1 2 3])\n",
    "\n",
    "(def s (lazy-seq (chatty-vector))) ; Nothing is computed yet\n"
   ]
  },
  {
   "cell_type": "code",
   "execution_count": 20,
   "metadata": {},
   "outputs": [
    {
     "data": {
      "text/plain": [
       "(Here we go!\n",
       "1 2)"
      ]
     },
     "execution_count": 20,
     "metadata": {},
     "output_type": "execute_result"
    }
   ],
   "source": [
    "(take 2 s) ; Only when needed the sequence is computed\n",
    "\n"
   ]
  },
  {
   "cell_type": "code",
   "execution_count": 21,
   "metadata": {},
   "outputs": [
    {
     "data": {
      "text/plain": [
       "(6 6 6)"
      ]
     },
     "execution_count": 21,
     "metadata": {},
     "output_type": "execute_result"
    }
   ],
   "source": [
    ";; A custom version of 'repeat' can be implemented as follows\n",
    "\n",
    "(defn my-repeat [x]\n",
    "    (cons x (lazy-seq (my-repeat x))))\n",
    "\n",
    "(take 3 (my-repeat 6))\n"
   ]
  },
  {
   "cell_type": "code",
   "execution_count": 22,
   "metadata": {},
   "outputs": [
    {
     "data": {
      "text/plain": [
       "(6 12 24)"
      ]
     },
     "execution_count": 22,
     "metadata": {},
     "output_type": "execute_result"
    }
   ],
   "source": [
    ";; A custom version of 'iterate' can be implemented as follows\n",
    "\n",
    "(defn my-iterate [f x]\n",
    "    (cons x (lazy-seq (my-iterate f (f x)))))\n",
    "\n",
    "(take 3 (my-iterate #(* 2 %) 6))\n"
   ]
  },
  {
   "cell_type": "code",
   "execution_count": 25,
   "metadata": {},
   "outputs": [
    {
     "data": {
      "text/plain": [
       "(3 6 9)"
      ]
     },
     "execution_count": 25,
     "metadata": {},
     "output_type": "execute_result"
    }
   ],
   "source": [
    ";; A custom version of 'map' can be implemented as follows\n",
    "\n",
    "(defn my-map [f col]\n",
    "    (when-not (empty? col)\n",
    "        (cons (f (first col))\n",
    "                 (lazy-seq (my-map f (rest col))))))\n",
    "\n",
    "(my-map #(* 3 %) [1 2 3])\n"
   ]
  },
  {
   "cell_type": "markdown",
   "metadata": {},
   "source": [
    "### Issues with lazy sequences"
   ]
  },
  {
   "cell_type": "code",
   "execution_count": 26,
   "metadata": {},
   "outputs": [
    {
     "data": {
      "text/plain": [
       "\"\""
      ]
     },
     "execution_count": 26,
     "metadata": {},
     "output_type": "execute_result"
    }
   ],
   "source": [
    ";; Don't evaluate infinite lazy sequences in the REPL\n",
    "\n",
    "(def numbers (iterate inc 1))\n",
    "\n",
    "\"\"\"\n",
    "(println numbers) ; NO!\n",
    "\"\"\""
   ]
  },
  {
   "cell_type": "code",
   "execution_count": 28,
   "metadata": {},
   "outputs": [
    {
     "name": "stdout",
     "output_type": "stream",
     "text": [
      "(1 2 3 4 5 6 7 8 9 10 ...)\n"
     ]
    },
    {
     "data": {
      "text/plain": [
       "nil"
      ]
     },
     "execution_count": 28,
     "metadata": {},
     "output_type": "execute_result"
    }
   ],
   "source": [
    ";; Insteat, set the *print-length* var to a finite value\n",
    "\n",
    "(set! *print-length* 10)\n",
    "\n",
    "(println numbers)\n"
   ]
  },
  {
   "cell_type": "code",
   "execution_count": 35,
   "metadata": {},
   "outputs": [
    {
     "data": {
      "text/plain": [
       "#'user/chapters"
      ]
     },
     "execution_count": 35,
     "metadata": {},
     "output_type": "execute_result"
    }
   ],
   "source": [
    ";; A lazy sequence can be evaluated with 'doall'\n",
    "\n",
    "(def chapters \n",
    "    (take 10 (map slurp (map #(str \"chap\" % \".txt\") numbers)))) ; 'slurp' get the contents of a file as a string\n",
    "\n",
    "; (doall chapters)\n"
   ]
  },
  {
   "cell_type": "code",
   "execution_count": 34,
   "metadata": {},
   "outputs": [
    {
     "data": {
      "text/plain": [
       "nil"
      ]
     },
     "execution_count": 34,
     "metadata": {},
     "output_type": "execute_result"
    }
   ],
   "source": [
    ";; A lazy sequence can also be evaluated with 'doseq'\n",
    "\n",
    "(doseq [c chapters]\n",
    "    ;(println \"The chapter text is\" c)\n",
    "    )"
   ]
  }
 ],
 "metadata": {
  "kernelspec": {
   "display_name": "Clojure (clojupyter=0.3.2=1)",
   "language": "clojure",
   "name": "python397jvsc74a57bd089a790bea3b9cadff6bf73491f7cf161e4e94bfc015afe6a535623fbe4142b79"
  },
  "language_info": {
   "file_extension": ".clj",
   "mimetype": "text/x-clojure",
   "name": "clojure",
   "version": "1.10.1"
  },
  "orig_nbformat": 4
 },
 "nbformat": 4,
 "nbformat_minor": 2
}

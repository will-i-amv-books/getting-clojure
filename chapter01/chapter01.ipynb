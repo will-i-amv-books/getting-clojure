{
 "cells": [
  {
   "cell_type": "markdown",
   "metadata": {},
   "source": [
    "# Hello, Clojure\n"
   ]
  },
  {
   "cell_type": "markdown",
   "metadata": {},
   "source": [
    "Hello World"
   ]
  },
  {
   "cell_type": "code",
   "execution_count": null,
   "metadata": {},
   "outputs": [],
   "source": [
    "(println \"Hello, world!\") ; Say hi"
   ]
  },
  {
   "cell_type": "code",
   "execution_count": 1,
   "metadata": {},
   "outputs": [
    {
     "name": "stdout",
     "output_type": "stream",
     "text": [
      "Hello, world!\n"
     ]
    },
    {
     "data": {
      "text/plain": [
       "nil"
      ]
     },
     "execution_count": 1,
     "metadata": {},
     "output_type": "execute_result"
    }
   ],
   "source": [
    ";; Double semicolons are used if the comment is all alone on its own line\n",
    "\n",
    "(println \"Hello, world!\") ; A single semicolon is used at the end of a line with some code\n"
   ]
  },
  {
   "cell_type": "markdown",
   "metadata": {},
   "source": [
    "Basic string manipulation"
   ]
  },
  {
   "cell_type": "code",
   "execution_count": 3,
   "metadata": {},
   "outputs": [
    {
     "name": "stdout",
     "output_type": "stream",
     "text": [
      "Hello, world!\n"
     ]
    },
    {
     "data": {
      "text/plain": [
       "nil"
      ]
     },
     "execution_count": 2,
     "metadata": {},
     "output_type": "execute_result"
    },
    {
     "data": {
      "text/plain": [
       "\"Clojure\""
      ]
     },
     "execution_count": 3,
     "metadata": {},
     "output_type": "execute_result"
    }
   ],
   "source": [
    ";; Concat strings\n",
    "\n",
    "(str \"Clo\" \"jure\") "
   ]
  },
  {
   "cell_type": "code",
   "execution_count": 4,
   "metadata": {},
   "outputs": [
    {
     "data": {
      "text/plain": [
       "\"3 2 1 Blast off!\""
      ]
     },
     "execution_count": 4,
     "metadata": {},
     "output_type": "execute_result"
    }
   ],
   "source": [
    ";; Concat strings oand numbers\n",
    "\n",
    "(str 3 \" \" 2 \" \" 1 \" Blast off!\")\n"
   ]
  },
  {
   "cell_type": "code",
   "execution_count": 5,
   "metadata": {},
   "outputs": [
    {
     "data": {
      "text/plain": [
       "12"
      ]
     },
     "execution_count": 5,
     "metadata": {},
     "output_type": "execute_result"
    }
   ],
   "source": [
    ";; Count the number of characters of a string\n",
    "\n",
    "(count \"Hello, world\")\n"
   ]
  },
  {
   "cell_type": "markdown",
   "metadata": {},
   "source": [
    "Booleans"
   ]
  },
  {
   "cell_type": "code",
   "execution_count": 6,
   "metadata": {},
   "outputs": [
    {
     "name": "stdout",
     "output_type": "stream",
     "text": [
      "true\n"
     ]
    },
    {
     "data": {
      "text/plain": [
       "nil"
      ]
     },
     "execution_count": 6,
     "metadata": {},
     "output_type": "execute_result"
    }
   ],
   "source": [
    "(println true) ; Prints true...\n"
   ]
  },
  {
   "cell_type": "code",
   "execution_count": 7,
   "metadata": {},
   "outputs": [
    {
     "name": "stdout",
     "output_type": "stream",
     "text": [
      "false\n"
     ]
    },
    {
     "data": {
      "text/plain": [
       "nil"
      ]
     },
     "execution_count": 7,
     "metadata": {},
     "output_type": "execute_result"
    }
   ],
   "source": [
    "(println false) ; ...and prints false.\n"
   ]
  },
  {
   "cell_type": "markdown",
   "metadata": {},
   "source": [
    "Nil"
   ]
  },
  {
   "cell_type": "code",
   "execution_count": 8,
   "metadata": {},
   "outputs": [
    {
     "name": "stdout",
     "output_type": "stream",
     "text": [
      "Nobody's home: nil\n"
     ]
    },
    {
     "data": {
      "text/plain": [
       "nil"
      ]
     },
     "execution_count": 8,
     "metadata": {},
     "output_type": "execute_result"
    }
   ],
   "source": [
    "(println \"Nobody's home:\" nil) ; Prints Nobody's home: nil\n"
   ]
  },
  {
   "cell_type": "code",
   "execution_count": 9,
   "metadata": {},
   "outputs": [
    {
     "name": "stdout",
     "output_type": "stream",
     "text": [
      "We can print many things: true false nil\n"
     ]
    },
    {
     "data": {
      "text/plain": [
       "nil"
      ]
     },
     "execution_count": 9,
     "metadata": {},
     "output_type": "execute_result"
    }
   ],
   "source": [
    "(println \"We can print many things:\" true false nil)\n"
   ]
  },
  {
   "cell_type": "markdown",
   "metadata": {},
   "source": [
    "Basic Arithmetic operations"
   ]
  },
  {
   "cell_type": "code",
   "execution_count": 10,
   "metadata": {},
   "outputs": [
    {
     "data": {
      "text/plain": [
       "1984"
      ]
     },
     "execution_count": 10,
     "metadata": {},
     "output_type": "execute_result"
    }
   ],
   "source": [
    ";; A simple sum example\n",
    "\n",
    "(+ 1900 84)"
   ]
  },
  {
   "cell_type": "code",
   "execution_count": 11,
   "metadata": {},
   "outputs": [
    {
     "data": {
      "text/plain": [
       "1984"
      ]
     },
     "execution_count": 11,
     "metadata": {},
     "output_type": "execute_result"
    }
   ],
   "source": [
    ";; A simple product example\n",
    "\n",
    "(* 16 124) \n"
   ]
  },
  {
   "cell_type": "code",
   "execution_count": 12,
   "metadata": {},
   "outputs": [
    {
     "data": {
      "text/plain": [
       "1984"
      ]
     },
     "execution_count": 12,
     "metadata": {},
     "output_type": "execute_result"
    }
   ],
   "source": [
    ";; A simple substraction example\n",
    "\n",
    "(- 2000 16) ; 1984 again.\n"
   ]
  },
  {
   "cell_type": "code",
   "execution_count": 13,
   "metadata": {},
   "outputs": [
    {
     "data": {
      "text/plain": [
       "1984"
      ]
     },
     "execution_count": 13,
     "metadata": {},
     "output_type": "execute_result"
    }
   ],
   "source": [
    ";; A simple division example\n",
    "\n",
    "(/ 25792 13)"
   ]
  },
  {
   "cell_type": "code",
   "execution_count": 14,
   "metadata": {},
   "outputs": [
    {
     "data": {
      "text/plain": [
       "1997"
      ]
     },
     "execution_count": 14,
     "metadata": {},
     "output_type": "execute_result"
    }
   ],
   "source": [
    ";; A simple average example\n",
    "\n",
    "(/ (+ 1984 2010) 2)\n"
   ]
  },
  {
   "cell_type": "code",
   "execution_count": 15,
   "metadata": {},
   "outputs": [
    {
     "data": {
      "text/plain": [
       "\"\""
      ]
     },
     "execution_count": 15,
     "metadata": {},
     "output_type": "execute_result"
    }
   ],
   "source": [
    ";; EVERYTHING in clojure is evaluated as follows\n",
    "\n",
    "\"\"\"\n",
    "(verb argument argument argument...)\n",
    "\"\"\""
   ]
  },
  {
   "cell_type": "code",
   "execution_count": 16,
   "metadata": {},
   "outputs": [
    {
     "data": {
      "text/plain": [
       "2001"
      ]
     },
     "execution_count": 16,
     "metadata": {},
     "output_type": "execute_result"
    }
   ],
   "source": [
    ";; The math operators take an arbitrary number of args\n",
    "\n",
    "(+ 1000 500 500 1) ; Evaluates to 2001.\n"
   ]
  },
  {
   "cell_type": "code",
   "execution_count": 17,
   "metadata": {},
   "outputs": [
    {
     "data": {
      "text/plain": [
       "1997.0"
      ]
     },
     "execution_count": 17,
     "metadata": {},
     "output_type": "execute_result"
    }
   ],
   "source": [
    ";; The average of 2 numbers using floating-point numbers\n",
    "\n",
    "(/ (+ 1984.0 2010.0) 2.0)\n"
   ]
  },
  {
   "cell_type": "code",
   "execution_count": 18,
   "metadata": {},
   "outputs": [
    {
     "data": {
      "text/plain": [
       "3994.0"
      ]
     },
     "execution_count": 18,
     "metadata": {},
     "output_type": "execute_result"
    }
   ],
   "source": [
    ";; Adding an integer to a float returns a float\n",
    "\n",
    "(+ 1984 2010.0)"
   ]
  },
  {
   "cell_type": "markdown",
   "metadata": {},
   "source": [
    "Not Variable Assignment, but Close"
   ]
  },
  {
   "cell_type": "code",
   "execution_count": 19,
   "metadata": {},
   "outputs": [
    {
     "data": {
      "text/plain": [
       "#'user/first-name"
      ]
     },
     "execution_count": 19,
     "metadata": {},
     "output_type": "execute_result"
    }
   ],
   "source": [
    ";; Binding a symbol (first-name) to a value (\"Russ\")\n",
    "\n",
    "(def first-name \"Russ\")\n"
   ]
  },
  {
   "cell_type": "code",
   "execution_count": 20,
   "metadata": {},
   "outputs": [
    {
     "data": {
      "text/plain": [
       "#'user/the-average"
      ]
     },
     "execution_count": 20,
     "metadata": {},
     "output_type": "execute_result"
    }
   ],
   "source": [
    ";; 'def' can accept any expression\n",
    "\n",
    "(def the-average (/ (+ 20 40.0) 2.0))\n"
   ]
  },
  {
   "cell_type": "markdown",
   "metadata": {},
   "source": [
    "Basic function definitions\n"
   ]
  },
  {
   "cell_type": "code",
   "execution_count": 21,
   "metadata": {},
   "outputs": [
    {
     "name": "stdout",
     "output_type": "stream",
     "text": [
      "Hello, world!\n"
     ]
    },
    {
     "data": {
      "text/plain": [
       "nil"
      ]
     },
     "execution_count": 21,
     "metadata": {},
     "output_type": "execute_result"
    }
   ],
   "source": [
    ";; A simple function without args\n",
    "\n",
    "(defn hello-world [] \n",
    "    (println \"Hello, world!\"))\n",
    "\n",
    "(hello-world)"
   ]
  },
  {
   "cell_type": "code",
   "execution_count": 22,
   "metadata": {},
   "outputs": [
    {
     "name": "stdout",
     "output_type": "stream",
     "text": [
      "Welcome to Clojure\n"
     ]
    },
    {
     "data": {
      "text/plain": [
       "nil"
      ]
     },
     "execution_count": 22,
     "metadata": {},
     "output_type": "execute_result"
    }
   ],
   "source": [
    ";; A function with 1 arg\n",
    "\n",
    "(defn say-welcome [what]\n",
    "    (println \"Welcome to\" what))\n",
    "\n",
    "(say-welcome \"Clojure\")\n"
   ]
  },
  {
   "cell_type": "code",
   "execution_count": 23,
   "metadata": {},
   "outputs": [
    {
     "data": {
      "text/plain": [
       "7.5"
      ]
     },
     "execution_count": 23,
     "metadata": {},
     "output_type": "execute_result"
    }
   ],
   "source": [
    ";; A simple average function\n",
    "\n",
    "(defn average [a b] ; No commas between args\n",
    "    (/ (+ a b) 2.0))\n",
    "\n",
    "(average 5.0 10.0)\n"
   ]
  },
  {
   "cell_type": "code",
   "execution_count": 24,
   "metadata": {},
   "outputs": [
    {
     "name": "stdout",
     "output_type": "stream",
     "text": [
      "chatty-average function called\n",
      "** first argument: 10\n",
      "** second argument: 20\n"
     ]
    },
    {
     "data": {
      "text/plain": [
       "15.0"
      ]
     },
     "execution_count": 24,
     "metadata": {},
     "output_type": "execute_result"
    }
   ],
   "source": [
    ";; A more verbose average function\n",
    "\n",
    "(defn chatty-average [a b]\n",
    "    (println \"chatty-average function called\")\n",
    "    (println \"** first argument:\" a)\n",
    "    (println \"** second argument:\" b)\n",
    "    (/ (+ a b) 2.0))\n",
    "\n",
    "(chatty-average 10 20)\n"
   ]
  },
  {
   "cell_type": "markdown",
   "metadata": {},
   "source": [
    "Introduction to Leiningen"
   ]
  },
  {
   "cell_type": "code",
   "execution_count": 25,
   "metadata": {},
   "outputs": [
    {
     "data": {
      "text/plain": [
       "\"\""
      ]
     },
     "execution_count": 25,
     "metadata": {},
     "output_type": "execute_result"
    }
   ],
   "source": [
    ";; Execute the following command to start a new Clojure project skeleton\n",
    "\n",
    "\"\"\"\n",
    "!lein new app blottsbooks\n",
    "\"\"\""
   ]
  },
  {
   "cell_type": "code",
   "execution_count": 26,
   "metadata": {},
   "outputs": [
    {
     "data": {
      "text/plain": [
       "#'blottsbooks.core/-main"
      ]
     },
     "execution_count": 26,
     "metadata": {},
     "output_type": "execute_result"
    }
   ],
   "source": [
    ";; Add the following code to core.clj, located at ./blottsbooks/src/blottsbooks/core.clj\n",
    "\n",
    "(ns blottsbooks.core ; :gen-class instructs that the namespace should be compiled\n",
    "    (:gen-class))\n",
    "\n",
    "(defn say-welcome [what]\n",
    "    (println \"Welcome to\" what \"!\"))\n",
    "\n",
    "(defn -main [] ; The main function\n",
    "    (say-welcome \"Blotts Books\"))\n"
   ]
  },
  {
   "cell_type": "code",
   "execution_count": 35,
   "metadata": {},
   "outputs": [
    {
     "data": {
      "text/plain": [
       "\"\""
      ]
     },
     "execution_count": 35,
     "metadata": {},
     "output_type": "execute_result"
    }
   ],
   "source": [
    ";; Execute the following command to execute the last snippet\n",
    "\n",
    "\"\"\"\n",
    "!cd ./blottsbooks \n",
    "!lein run\n",
    "\"\"\""
   ]
  },
  {
   "cell_type": "code",
   "execution_count": 39,
   "metadata": {},
   "outputs": [
    {
     "data": {
      "text/plain": [
       "nil"
      ]
     },
     "execution_count": 39,
     "metadata": {},
     "output_type": "execute_result"
    }
   ],
   "source": [
    "(ns user)"
   ]
  },
  {
   "cell_type": "markdown",
   "metadata": {},
   "source": [
    "Common Clojure errors"
   ]
  },
  {
   "cell_type": "code",
   "execution_count": 36,
   "metadata": {},
   "outputs": [
    {
     "name": "stderr",
     "output_type": "stream",
     "text": [
      "Execution error (ArithmeticException) at user/eval4169 (REPL:3).\n",
      "Divide by zero\n"
     ]
    },
    {
     "ename": "class java.lang.ArithmeticException",
     "evalue": "",
     "output_type": "error",
     "traceback": [
      "Numbers.java:   188 clojure.lang.Numbers/divide",
      "    core.clj:  3214 clojure.core$eval/invokeStatic",
      "    core.clj:  3210 clojure.core$eval/invoke",
      "    main.clj:   437 clojure.main$repl$read_eval_print__9086$fn__9089/invoke",
      "    main.clj:   458 clojure.main$repl$fn__9095/invoke",
      "    main.clj:   368 clojure.main$repl/doInvoke",
      " RestFn.java:  1523 clojure.lang.RestFn/invoke",
      "    AFn.java:    22 clojure.lang.AFn/run",
      "    AFn.java:    22 clojure.lang.AFn/run",
      " Thread.java:   745 java.lang.Thread/run"
     ]
    }
   ],
   "source": [
    ";; Division by zero\n",
    "\n",
    "(/ 100 0)\n"
   ]
  },
  {
   "cell_type": "code",
   "execution_count": 37,
   "metadata": {},
   "outputs": [
    {
     "name": "stderr",
     "output_type": "stream",
     "text": [
      "Syntax error compiling at (REPL:3:1).\n",
      "Unable to resolve symbol: catty-average in this context\n"
     ]
    },
    {
     "ename": "class clojure.lang.Compiler$CompilerException",
     "evalue": "",
     "output_type": "error",
     "traceback": [
      "  Util.java:   221 clojure.lang.Util/runtimeException",
      "   core.clj:  3214 clojure.core$eval/invokeStatic",
      "   core.clj:  3210 clojure.core$eval/invoke",
      "   main.clj:   437 clojure.main$repl$read_eval_print__9086$fn__9089/invoke",
      "   main.clj:   458 clojure.main$repl$fn__9095/invoke",
      "   main.clj:   368 clojure.main$repl/doInvoke",
      "RestFn.java:  1523 clojure.lang.RestFn/invoke",
      "   AFn.java:    22 clojure.lang.AFn/run",
      "   AFn.java:    22 clojure.lang.AFn/run",
      "Thread.java:   745 java.lang.Thread/run"
     ]
    }
   ],
   "source": [
    ";; Typo when calling a function\n",
    "\n",
    "(catty-average)\n"
   ]
  },
  {
   "cell_type": "code",
   "execution_count": null,
   "metadata": {},
   "outputs": [
    {
     "name": "stderr",
     "output_type": "stream",
     "text": [
      "Syntax error reading source at (REPL:3:16).\n",
      "Unmatched delimiter: )\n"
     ]
    },
    {
     "ename": "class clojure.lang.ExceptionInfo",
     "evalue": "",
     "output_type": "error",
     "traceback": [
      "      Util.java:   221 clojure.lang.Util/runtimeException",
      "LispReader.java:  1373 clojure.lang.LispReader$UnmatchedDelimiterReader/invoke",
      "LispReader.java:   285 clojure.lang.LispReader/read",
      "       core.clj:  3768 clojure.core$read/invokeStatic",
      "       core.clj:  3741 clojure.core$read/invoke",
      "       main.clj:   433 clojure.main$repl$read_eval_print__9086$fn__9087/invoke",
      "       main.clj:   432 clojure.main$repl$read_eval_print__9086/invoke",
      "       main.clj:   458 clojure.main$repl$fn__9095/invoke",
      "       main.clj:   368 clojure.main$repl/doInvoke",
      "    RestFn.java:  1523 clojure.lang.RestFn/invoke",
      "       AFn.java:    22 clojure.lang.AFn/run",
      "       AFn.java:    22 clojure.lang.AFn/run",
      "    Thread.java:   745 java.lang.Thread/run"
     ]
    }
   ],
   "source": [
    ";; Too many parentheses\n",
    "\n",
    "(+ (* 2 2) 10))\n"
   ]
  },
  {
   "cell_type": "code",
   "execution_count": null,
   "metadata": {},
   "outputs": [
    {
     "name": "stderr",
     "output_type": "stream",
     "text": [
      "Syntax error reading source at (REPL:3:1).\n",
      "EOF while reading, starting at line 3\n"
     ]
    },
    {
     "ename": "class clojure.lang.ExceptionInfo",
     "evalue": "",
     "output_type": "error",
     "traceback": [
      "      Util.java:   221 clojure.lang.Util/runtimeException",
      "LispReader.java:  1405 clojure.lang.LispReader/readDelimitedList",
      "LispReader.java:  1243 clojure.lang.LispReader$ListReader/invoke",
      "LispReader.java:   285 clojure.lang.LispReader/read",
      "       core.clj:  3768 clojure.core$read/invokeStatic",
      "       core.clj:  3741 clojure.core$read/invoke",
      "       main.clj:   433 clojure.main$repl$read_eval_print__9086$fn__9087/invoke",
      "       main.clj:   432 clojure.main$repl$read_eval_print__9086/invoke",
      "       main.clj:   458 clojure.main$repl$fn__9095/invoke",
      "       main.clj:   368 clojure.main$repl/doInvoke",
      "    RestFn.java:  1523 clojure.lang.RestFn/invoke",
      "       AFn.java:    22 clojure.lang.AFn/run",
      "       AFn.java:    22 clojure.lang.AFn/run",
      "    Thread.java:   745 java.lang.Thread/run"
     ]
    }
   ],
   "source": [
    ";; Too few parentheses\n",
    "\n",
    "(+ (* 2 2) 10"
   ]
  }
 ],
 "metadata": {
  "interpreter": {
   "hash": "89a790bea3b9cadff6bf73491f7cf161e4e94bfc015afe6a535623fbe4142b79"
  },
  "kernelspec": {
   "display_name": "Clojure (clojupyter=0.3.2=1)",
   "language": "clojure",
   "name": "python397jvsc74a57bd089a790bea3b9cadff6bf73491f7cf161e4e94bfc015afe6a535623fbe4142b79"
  },
  "language_info": {
   "file_extension": ".clj",
   "mimetype": "text/x-clojure",
   "name": "clojure",
   "version": "1.10.1"
  },
  "orig_nbformat": 4
 },
 "nbformat": 4,
 "nbformat_minor": 2
}

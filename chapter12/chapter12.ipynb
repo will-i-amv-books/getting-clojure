{
 "cells": [
  {
   "cell_type": "markdown",
   "metadata": {},
   "source": [
    "# Destructuring"
   ]
  },
  {
   "cell_type": "markdown",
   "metadata": {},
   "source": [
    "### Pry Open Your Data\n"
   ]
  },
  {
   "cell_type": "code",
   "execution_count": 1,
   "metadata": {},
   "outputs": [
    {
     "data": {
      "text/plain": [
       "#'user/artists"
      ]
     },
     "execution_count": 1,
     "metadata": {},
     "output_type": "execute_result"
    }
   ],
   "source": [
    ";; A simple vector of keywords\n",
    "\n",
    "(def artists [:monet :austen])\n"
   ]
  },
  {
   "cell_type": "code",
   "execution_count": 2,
   "metadata": {},
   "outputs": [
    {
     "name": "stdout",
     "output_type": "stream",
     "text": [
      "The painter is: :monet and the novelist is :austen\n"
     ]
    },
    {
     "data": {
      "text/plain": [
       "nil"
      ]
     },
     "execution_count": 2,
     "metadata": {},
     "output_type": "execute_result"
    }
   ],
   "source": [
    ";; We can use 'first' and 'second' to disassemble the last vector\n",
    "\n",
    "(let [painter (first artists)\n",
    "      novelist (second artists)]\n",
    "    (println \"The painter is:\" painter \"and the novelist is\" novelist))\n"
   ]
  },
  {
   "cell_type": "code",
   "execution_count": 3,
   "metadata": {},
   "outputs": [
    {
     "name": "stdout",
     "output_type": "stream",
     "text": [
      "The painter is: :monet and the novelist is: :austen\n"
     ]
    },
    {
     "data": {
      "text/plain": [
       "nil"
      ]
     },
     "execution_count": 3,
     "metadata": {},
     "output_type": "execute_result"
    }
   ],
   "source": [
    ";; But we can also use 'destructuring' as follows\n",
    "\n",
    "(let [[painter novelist] artists]\n",
    "    (println \"The painter is:\" painter \"and the novelist is:\" novelist))\n",
    "\n"
   ]
  },
  {
   "cell_type": "code",
   "execution_count": 4,
   "metadata": {},
   "outputs": [
    {
     "name": "stdout",
     "output_type": "stream",
     "text": [
      "The painter is :monet\n",
      "The novelist is :austen\n",
      "The composer is :beethoven\n",
      "The poet is :dickinson\n"
     ]
    },
    {
     "data": {
      "text/plain": [
       "nil"
      ]
     },
     "execution_count": 4,
     "metadata": {},
     "output_type": "execute_result"
    }
   ],
   "source": [
    ";; Unlike the first approach, destructuring can handle\n",
    ";; an arbitrary number of elements\n",
    "\n",
    "(def artists [:monet :austen :beethoven :dickinson])\n",
    "\n",
    "(let [[painter novelist composer poet] artists]\n",
    "    (println \"The painter is\" painter)\n",
    "    (println \"The novelist is\" novelist)\n",
    "    (println \"The composer is\" composer)\n",
    "    (println \"The poet is\" poet))\n"
   ]
  },
  {
   "cell_type": "code",
   "execution_count": 5,
   "metadata": {},
   "outputs": [
    {
     "name": "stdout",
     "output_type": "stream",
     "text": [
      "The painter is :monet\n",
      "The novelist is :austen\n",
      "The composer is :beethoven\n"
     ]
    },
    {
     "data": {
      "text/plain": [
       "nil"
      ]
     },
     "execution_count": 5,
     "metadata": {},
     "output_type": "execute_result"
    }
   ],
   "source": [
    ";; We can also get only the 1st 3 elements of the vector, as follows\n",
    "\n",
    "(let [[painter novelist composer] artists]\n",
    "    (println \"The painter is\" painter)\n",
    "    (println \"The novelist is\" novelist)\n",
    "    (println \"The composer is\" composer))\n"
   ]
  },
  {
   "cell_type": "code",
   "execution_count": 7,
   "metadata": {},
   "outputs": [
    {
     "name": "stdout",
     "output_type": "stream",
     "text": [
      "The composer is :beethoven\n",
      "The poet is :dickinson\n"
     ]
    },
    {
     "data": {
      "text/plain": [
       "nil"
      ]
     },
     "execution_count": 7,
     "metadata": {},
     "output_type": "execute_result"
    }
   ],
   "source": [
    ";; If we wanto to ignore the first 2 element of the vector,\n",
    ";; we can use dummy symbols, as follows\n",
    "\n",
    "(let [[dummy dummy composer poet] artists]\n",
    "    (println \"The composer is\" composer)\n",
    "    (println \"The poet is\" poet))\n"
   ]
  },
  {
   "cell_type": "code",
   "execution_count": 8,
   "metadata": {},
   "outputs": [
    {
     "name": "stdout",
     "output_type": "stream",
     "text": [
      "The composer is :beethoven\n",
      "The poet is :dickinson\n"
     ]
    },
    {
     "data": {
      "text/plain": [
       "nil"
      ]
     },
     "execution_count": 8,
     "metadata": {},
     "output_type": "execute_result"
    }
   ],
   "source": [
    ";; The last example can be shortened using '_' as \n",
    ";; values we don't want to store, as follows\n",
    "\n",
    "(let [[_ _ composer poet] artists]\n",
    "    (println \"The composer is\" composer)\n",
    "    (println \"The poet is\" poet))\n"
   ]
  },
  {
   "cell_type": "code",
   "execution_count": 15,
   "metadata": {},
   "outputs": [
    {
     "name": "stdout",
     "output_type": "stream",
     "text": [
      "The painter is :monet\n",
      "The composer is :beethoven\n"
     ]
    },
    {
     "data": {
      "text/plain": [
       "nil"
      ]
     },
     "execution_count": 15,
     "metadata": {},
     "output_type": "execute_result"
    }
   ],
   "source": [
    ";; Destructuring can be done even if the vectors are nested, as follows\n",
    "\n",
    "(def pairs [[:monet :austen] [:beethoven :dickinson]])\n",
    "\n",
    "(let [[[painter] [composer]] pairs] ; Equivalento to let [[[painter _] [composer _]] pairs]\n",
    "    (println \"The painter is\" painter)\n",
    "    (println \"The composer is\" composer))\n"
   ]
  },
  {
   "cell_type": "code",
   "execution_count": 16,
   "metadata": {},
   "outputs": [
    {
     "name": "stdout",
     "output_type": "stream",
     "text": [
      "The painter is :monet\n",
      "The poet is :dickinson\n"
     ]
    },
    {
     "data": {
      "text/plain": [
       "nil"
      ]
     },
     "execution_count": 16,
     "metadata": {},
     "output_type": "execute_result"
    }
   ],
   "source": [
    "(let [[[painter] [_ poet]] pairs] ; Equivalent to let [[[painter _] [_ poet]] pairs]\n",
    "    (println \"The painter is\" painter)\n",
    "    (println \"The poet is\" poet))\n"
   ]
  },
  {
   "cell_type": "markdown",
   "metadata": {},
   "source": [
    "### Destructuring in Sequence"
   ]
  },
  {
   "cell_type": "code",
   "execution_count": 18,
   "metadata": {},
   "outputs": [
    {
     "data": {
      "text/plain": [
       "#'user/artist-list"
      ]
     },
     "execution_count": 18,
     "metadata": {},
     "output_type": "execute_result"
    }
   ],
   "source": [
    ";; Given the following list\n",
    "\n",
    "(def artist-list '(:monet :austen :beethoven :dickinson))\n"
   ]
  },
  {
   "cell_type": "code",
   "execution_count": 19,
   "metadata": {},
   "outputs": [
    {
     "name": "stdout",
     "output_type": "stream",
     "text": [
      "The painter is :monet\n",
      "The novelist is :austen\n",
      "The composer is :beethoven\n"
     ]
    },
    {
     "data": {
      "text/plain": [
       "nil"
      ]
     },
     "execution_count": 19,
     "metadata": {},
     "output_type": "execute_result"
    }
   ],
   "source": [
    ";; The destructuring is the same as in the vector case\n",
    "\n",
    "(let [[painter novelist composer] artist-list] ; We use square brackets even if 'artist-list' is a list\n",
    "    (println \"The painter is\" painter)\n",
    "    (println \"The novelist is\" novelist)\n",
    "    (println \"The composer is\" composer))\n"
   ]
  },
  {
   "cell_type": "code",
   "execution_count": 21,
   "metadata": {},
   "outputs": [
    {
     "name": "stdout",
     "output_type": "stream",
     "text": [
      "How do you spell Jane?\n",
      "J\n",
      "a\n",
      "n\n",
      "e\n"
     ]
    },
    {
     "data": {
      "text/plain": [
       "nil"
      ]
     },
     "execution_count": 21,
     "metadata": {},
     "output_type": "execute_result"
    }
   ],
   "source": [
    ";; You can destructure any value that can be turned into a sequence\n",
    "\n",
    "(let [[c1 c2 c3 c4] \"Jane\"]\n",
    "    (println \"How do you spell Jane?\")\n",
    "    (println c1)\n",
    "    (println c2)\n",
    "    (println c3)\n",
    "    (println c4))\n"
   ]
  },
  {
   "cell_type": "markdown",
   "metadata": {},
   "source": [
    "### Destructuring Function Arguments"
   ]
  },
  {
   "cell_type": "code",
   "execution_count": 24,
   "metadata": {},
   "outputs": [
    {
     "data": {
      "text/plain": [
       "\"The novelist is :austen and the poet is :dickinson\""
      ]
     },
     "execution_count": 24,
     "metadata": {},
     "output_type": "execute_result"
    }
   ],
   "source": [
    ";; A function that expects a two-element vector as args\n",
    "\n",
    "(defn artist-description [[novelist poet]]\n",
    "    (str \"The novelist is \" novelist \" and the poet is \" poet))\n",
    "\n",
    "(artist-description [:austen :dickinson])"
   ]
  },
  {
   "cell_type": "code",
   "execution_count": 28,
   "metadata": {},
   "outputs": [
    {
     "data": {
      "text/plain": [
       "#'user/artist-description"
      ]
     },
     "execution_count": 28,
     "metadata": {},
     "output_type": "execute_result"
    }
   ],
   "source": [
    ";; Functions can accept normal and destructured arguments, as follows\n",
    "\n",
    "(defn artist-description [shout [novelist poet]]\n",
    "    (let [msg (str \"Novelist is \" novelist \"and the poet is \" poet)]\n",
    "    (if shout \n",
    "        (.toUpperCase msg) msg)))\n"
   ]
  },
  {
   "cell_type": "markdown",
   "metadata": {},
   "source": [
    "### Digging into Maps"
   ]
  },
  {
   "cell_type": "code",
   "execution_count": 29,
   "metadata": {},
   "outputs": [
    {
     "data": {
      "text/plain": [
       "#'user/artist-map"
      ]
     },
     "execution_count": 29,
     "metadata": {},
     "output_type": "execute_result"
    }
   ],
   "source": [
    ";; Given the following map\n",
    "\n",
    "(def artist-map {:painter :monet :novelist :austen})\n"
   ]
  },
  {
   "cell_type": "code",
   "execution_count": 30,
   "metadata": {},
   "outputs": [
    {
     "name": "stdout",
     "output_type": "stream",
     "text": [
      "The painter is :monet\n",
      "The novelist is :austen\n"
     ]
    },
    {
     "data": {
      "text/plain": [
       "nil"
      ]
     },
     "execution_count": 30,
     "metadata": {},
     "output_type": "execute_result"
    }
   ],
   "source": [
    ";; It can be destructured as follows\n",
    "\n",
    "(let [{painter :painter writer :novelist} artist-map]\n",
    "    (println \"The painter is\" painter)\n",
    "    (println \"The novelist is\" writer))\n"
   ]
  },
  {
   "cell_type": "markdown",
   "metadata": {},
   "source": [
    "### Diving into Nested Maps\n"
   ]
  },
  {
   "cell_type": "code",
   "execution_count": 31,
   "metadata": {},
   "outputs": [
    {
     "data": {
      "text/plain": [
       "#'user/austen"
      ]
     },
     "execution_count": 31,
     "metadata": {},
     "output_type": "execute_result"
    }
   ],
   "source": [
    ";; Given the following nested map\n",
    "\n",
    "(def austen {:name \"Jane Austen\"\n",
    "             :parents {:father \"George\" :mother \"Cassandra\"}\n",
    "             :dates {:born 1775 :died 1817}})\n"
   ]
  },
  {
   "cell_type": "code",
   "execution_count": 33,
   "metadata": {},
   "outputs": [
    {
     "name": "stdout",
     "output_type": "stream",
     "text": [
      "Jane Austen's dad's name was George\n",
      "Jane Austen's mom's name was Cassandra\n"
     ]
    },
    {
     "data": {
      "text/plain": [
       "nil"
      ]
     },
     "execution_count": 33,
     "metadata": {},
     "output_type": "execute_result"
    }
   ],
   "source": [
    ";; Austen's parents can be destructured as follows\n",
    "\n",
    "(let [{{dad :father mom :mother} :parents} austen]\n",
    "    (println \"Jane Austen's dad's name was\" dad)\n",
    "    (println \"Jane Austen's mom's name was\" mom))\n"
   ]
  },
  {
   "cell_type": "code",
   "execution_count": 35,
   "metadata": {},
   "outputs": [
    {
     "name": "stdout",
     "output_type": "stream",
     "text": [
      "Jane Austen was born in 1775\n",
      "Jane Austen mother's name was Cassandra\n"
     ]
    },
    {
     "data": {
      "text/plain": [
       "nil"
      ]
     },
     "execution_count": 35,
     "metadata": {},
     "output_type": "execute_result"
    }
   ],
   "source": [
    ";; Austen's DOB and her mother's name can be destructured as follows\n",
    "\n",
    "(let [{name :name\n",
    "      {mom :mother} :parents\n",
    "      {dob :born} :dates} austen]\n",
    "    (println name \"was born in\" dob)\n",
    "    (println name \"mother's name was\" mom))\n"
   ]
  },
  {
   "cell_type": "markdown",
   "metadata": {},
   "source": [
    "### The Final Frontier: Mixing and Matching"
   ]
  },
  {
   "cell_type": "code",
   "execution_count": 36,
   "metadata": {},
   "outputs": [
    {
     "data": {
      "text/plain": [
       "#'user/author"
      ]
     },
     "execution_count": 36,
     "metadata": {},
     "output_type": "execute_result"
    }
   ],
   "source": [
    ";; Given the following composite data structure\n",
    "\n",
    "(def author {:name \"Jane Austen\"\n",
    "             :books [{:title \"Sense and Sensibility\" :published 1811} \n",
    "                     {:title \"Emma\" :published 1815}]})\n"
   ]
  },
  {
   "cell_type": "code",
   "execution_count": 40,
   "metadata": {},
   "outputs": [
    {
     "name": "stdout",
     "output_type": "stream",
     "text": [
      "The author is Jane Austen\n",
      "One of the author's books is {:title Emma, :published 1815}\n"
     ]
    },
    {
     "data": {
      "text/plain": [
       "nil"
      ]
     },
     "execution_count": 40,
     "metadata": {},
     "output_type": "execute_result"
    }
   ],
   "source": [
    ";; We can extract Jane's name and the 2nd book's info as follows\n",
    "\n",
    "(let [{name :name [_ book] :books} author]\n",
    "    (println \"The author is\" name)\n",
    "    (println \"One of the author's books is\" book))\n"
   ]
  },
  {
   "cell_type": "code",
   "execution_count": 44,
   "metadata": {},
   "outputs": [
    {
     "data": {
      "text/plain": [
       "#'user/authors"
      ]
     },
     "execution_count": 44,
     "metadata": {},
     "output_type": "execute_result"
    }
   ],
   "source": [
    ";; Given the following vector of maps\n",
    "\n",
    "(def authors [{:name \"Jane Austen\" :born 1775}\n",
    "              {:name \"Charles Dickens\" :born 1812}])\n"
   ]
  },
  {
   "cell_type": "code",
   "execution_count": 42,
   "metadata": {},
   "outputs": [
    {
     "name": "stdout",
     "output_type": "stream",
     "text": [
      "One author was born in 1775\n",
      "The other author was born in 1812\n"
     ]
    },
    {
     "data": {
      "text/plain": [
       "nil"
      ]
     },
     "execution_count": 42,
     "metadata": {},
     "output_type": "execute_result"
    }
   ],
   "source": [
    ";; We can extract the dates of birth as follows\n",
    "\n",
    "(let [[{dob-1 :born} {dob-2 :born}] authors]\n",
    "    (println \"One author was born in\" dob-1)\n",
    "    (println \"The other author was born in\" dob-2))\n"
   ]
  },
  {
   "cell_type": "markdown",
   "metadata": {},
   "source": [
    "### Going Further\n"
   ]
  },
  {
   "cell_type": "code",
   "execution_count": 45,
   "metadata": {},
   "outputs": [
    {
     "data": {
      "text/plain": [
       "#'user/character"
      ]
     },
     "execution_count": 45,
     "metadata": {},
     "output_type": "execute_result"
    }
   ],
   "source": [
    ";; Given the following map\n",
    "\n",
    "(def character {:name \"Romeo\" :age 16 :gender :male})\n"
   ]
  },
  {
   "cell_type": "code",
   "execution_count": 46,
   "metadata": {},
   "outputs": [
    {
     "data": {
      "text/plain": [
       "\"Name: Romeo age: 16 gender: :male\""
      ]
     },
     "execution_count": 46,
     "metadata": {},
     "output_type": "execute_result"
    }
   ],
   "source": [
    ";; The standard way to destructure it is as follows\n",
    "\n",
    "(defn character-desc [{name :name age :age gender :gender}] ; Lots of repetition here\n",
    "    (str \"Name: \" name \" age: \" age \" gender: \" gender))\n",
    "\n",
    "(character-desc character)"
   ]
  },
  {
   "cell_type": "code",
   "execution_count": 47,
   "metadata": {},
   "outputs": [
    {
     "data": {
      "text/plain": [
       "\"Name: Romeo age: 16 gender: :male\""
      ]
     },
     "execution_count": 47,
     "metadata": {},
     "output_type": "execute_result"
    }
   ],
   "source": [
    ";; But the last example can be shortened using ':keys' as follows\n",
    "\n",
    "(defn character-desc [{:keys [name age gender]}] ; Using keyword names as parameter names\n",
    "    (str \"Name: \" name \" age: \" age \" gender: \" gender))\n",
    "\n",
    "(character-desc character)"
   ]
  },
  {
   "cell_type": "code",
   "execution_count": 49,
   "metadata": {},
   "outputs": [
    {
     "data": {
      "text/plain": [
       "\"Name: Romeo age: 16 gender: :male\""
      ]
     },
     "execution_count": 49,
     "metadata": {},
     "output_type": "execute_result"
    }
   ],
   "source": [
    ";; ':keys' cam be mixed with ordinary destructuring, as follows\n",
    "\n",
    "(defn character-desc [{:keys [name gender] age-in-years :age}]\n",
    "    (str \"Name: \" name \" age: \" age-in-years \" gender: \" gender))\n",
    "\n",
    "(character-desc character)"
   ]
  },
  {
   "cell_type": "code",
   "execution_count": 52,
   "metadata": {},
   "outputs": [
    {
     "data": {
      "text/plain": [
       "{:name \"Romeo\", :age 16, :gender :male, :greeting \"Hello, my name is Romeo and I am 16.\"}"
      ]
     },
     "execution_count": 52,
     "metadata": {},
     "output_type": "execute_result"
    }
   ],
   "source": [
    ";; If you need the original sequence you're destructuring, \n",
    ";; you can pass it as arg and do the restructuring inside the function, as follows\n",
    "(defn add-greeting [character]\n",
    "    (let [{:keys [name age]} character]\n",
    "    (assoc character ; Add a new key to the map\n",
    "        :greeting (str \"Hello, my name is \" name \" and I am \" age \".\"))))\n",
    "\n",
    "(add-greeting character)\n"
   ]
  },
  {
   "cell_type": "code",
   "execution_count": 54,
   "metadata": {},
   "outputs": [
    {
     "data": {
      "text/plain": [
       "{:name \"Romeo\", :age 16, :gender :male, :greeting \"Hello, my name is Romeo and I am 16.\"}"
      ]
     },
     "execution_count": 54,
     "metadata": {},
     "output_type": "execute_result"
    }
   ],
   "source": [
    ";; But the original sequence can be conserved with ':as', \n",
    ";; so the intermediate 'let' expression can be removed, as follows\n",
    "\n",
    "(defn add-greeting [{:keys [name age] :as character}]\n",
    "    (assoc character :greeting (str \"Hello, my name is \" name \" and I am \" age \".\")))\n",
    "\n",
    "(add-greeting character)\n"
   ]
  },
  {
   "cell_type": "markdown",
   "metadata": {},
   "source": [
    "### Issues with Destructuring"
   ]
  },
  {
   "cell_type": "code",
   "execution_count": 57,
   "metadata": {},
   "outputs": [
    {
     "data": {
      "text/plain": [
       "#'user/more-books"
      ]
     },
     "execution_count": 57,
     "metadata": {},
     "output_type": "execute_result"
    }
   ],
   "source": [
    ";; Given a deeply nested data structure\n",
    "\n",
    "(def more-books\n",
    "    [{:name \"Charlie\", :fav-book {:title \"Carrie\", :author [\"Stephen\" \"King\"]}}\n",
    "     {:name \"Jennifer\", :fav-book {:title \"Emma\", :author [\"Jane\" \"Austen\"]}}])"
   ]
  },
  {
   "cell_type": "code",
   "execution_count": 56,
   "metadata": {},
   "outputs": [
    {
     "data": {
      "text/plain": [
       "\"Jane Austen\""
      ]
     },
     "execution_count": 56,
     "metadata": {},
     "output_type": "execute_result"
    }
   ],
   "source": [
    ";; The following destructuring works, but it's not the most readable one\n",
    "\n",
    "(defn unreadable-formatter [[_ {{[fname lname] :author} :fav-book}]]\n",
    "    (str fname \" \" lname))\n",
    "\n",
    "(unreadable-formatter more-books)"
   ]
  },
  {
   "cell_type": "code",
   "execution_count": 59,
   "metadata": {},
   "outputs": [
    {
     "data": {
      "text/plain": [
       "\"Jane Austen\""
      ]
     },
     "execution_count": 59,
     "metadata": {},
     "output_type": "execute_result"
    }
   ],
   "source": [
    ";; A better approach is to do the destructuring in stages, as follows\n",
    "\n",
    "(defn format-a-name [[_ second-reader]]\n",
    "    (let [author (-> second-reader :fav-book :author)]\n",
    "    (str (first author) \" \" (second author))))\n",
    "\n",
    "(unreadable-formatter more-books)"
   ]
  },
  {
   "cell_type": "code",
   "execution_count": 61,
   "metadata": {},
   "outputs": [
    {
     "name": "stderr",
     "output_type": "stream",
     "text": [
      "Syntax error compiling at (REPL:6:1).\n",
      "Unable to resolve symbol: n in this context\n"
     ]
    },
    {
     "ename": "class clojure.lang.Compiler$CompilerException",
     "evalue": "",
     "output_type": "error",
     "traceback": [
      "  Util.java:   221 clojure.lang.Util/runtimeException",
      "   core.clj:  3214 clojure.core$eval/invokeStatic",
      "   core.clj:  3210 clojure.core$eval/invoke",
      "   main.clj:   437 clojure.main$repl$read_eval_print__9086$fn__9089/invoke",
      "   main.clj:   458 clojure.main$repl$fn__9095/invoke",
      "   main.clj:   368 clojure.main$repl/doInvoke",
      "RestFn.java:  1523 clojure.lang.RestFn/invoke",
      "   AFn.java:    22 clojure.lang.AFn/run",
      "   AFn.java:    22 clojure.lang.AFn/run",
      "Thread.java:   745 java.lang.Thread/run"
     ]
    }
   ],
   "source": [
    ";; Destructuring only works in local contexts, \n",
    ";; so using it in a 'def' expression won't compile\n",
    "\n",
    "(def author {:name \"Jane Austen\" :born 1775})\n",
    "\n",
    "(def author-name [{n :name} author])"
   ]
  },
  {
   "cell_type": "code",
   "execution_count": 64,
   "metadata": {},
   "outputs": [
    {
     "data": {
      "text/plain": [
       "\"Jane Austen\""
      ]
     },
     "execution_count": 64,
     "metadata": {},
     "output_type": "execute_result"
    }
   ],
   "source": [
    ";; So put the destructuring in a local bin\n",
    ";; so using it in a 'def' expression won't compile\n",
    "\n",
    "(def author {:name \"Jane Austen\" :born 1775})\n",
    "\n",
    "(def author-name\n",
    "    (let [{n :name} author] n))\n",
    "\n",
    "author-name"
   ]
  }
 ],
 "metadata": {
  "kernelspec": {
   "display_name": "Clojure (clojupyter=0.3.2=1)",
   "language": "clojure",
   "name": "python397jvsc74a57bd089a790bea3b9cadff6bf73491f7cf161e4e94bfc015afe6a535623fbe4142b79"
  },
  "language_info": {
   "file_extension": ".clj",
   "mimetype": "text/x-clojure",
   "name": "clojure",
   "version": "1.10.1"
  },
  "orig_nbformat": 4
 },
 "nbformat": 4,
 "nbformat_minor": 2
}

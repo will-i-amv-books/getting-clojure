{
 "cells": [
  {
   "cell_type": "markdown",
   "metadata": {},
   "source": [
    "# Let"
   ]
  },
  {
   "cell_type": "markdown",
   "metadata": {},
   "source": [
    "### A Local, Temporary Place for Your Stuff"
   ]
  },
  {
   "cell_type": "code",
   "execution_count": 1,
   "metadata": {},
   "outputs": [
    {
     "data": {
      "text/plain": [
       "#'user/compute-discount-amount"
      ]
     },
     "execution_count": 1,
     "metadata": {},
     "output_type": "execute_result"
    }
   ],
   "source": [
    ";; A simple function that computes the discount for books,\n",
    ";; but with a minimum charge that overrides the discount\n",
    "\n",
    "(defn compute-discount-amount [amount discount-percent min-charge]\n",
    "    (if (> (* amount (- 1.0 discount-percent)) min-charge)\n",
    "        (* amount (- 1.0 discount-percent))\n",
    "        min-charge))\n"
   ]
  },
  {
   "cell_type": "code",
   "execution_count": 2,
   "metadata": {},
   "outputs": [
    {
     "data": {
      "text/plain": [
       "#'user/compute-discount-amount"
      ]
     },
     "execution_count": 2,
     "metadata": {},
     "output_type": "execute_result"
    }
   ],
   "source": [
    ";; Using 'def' to store a local binding to a value (not recommended)\n",
    "\n",
    "(defn compute-discount-amount [amount discount-percent min-charge]\n",
    "    (def discounted-amount (* amount (- 1.0 discount-percent))) ; NOOOOO!\n",
    "        (if (> discounted-amount min-charge)\n",
    "            discounted-amount\n",
    "            min-charge))\n"
   ]
  },
  {
   "cell_type": "code",
   "execution_count": 3,
   "metadata": {},
   "outputs": [
    {
     "data": {
      "text/plain": [
       "8.0"
      ]
     },
     "execution_count": 3,
     "metadata": {},
     "output_type": "execute_result"
    }
   ],
   "source": [
    ";; Symbols bounded with 'def' have global visibility, \n",
    ";; so any new bindings outside the function can have unintended consequences\n",
    "\n",
    "(def discounted-amount \"Some random string.\")\n",
    "\n",
    "(compute-discount-amount 10.0 0.20 1.0)\n"
   ]
  },
  {
   "cell_type": "code",
   "execution_count": 7,
   "metadata": {},
   "outputs": [
    {
     "data": {
      "text/plain": [
       "15.0"
      ]
     },
     "execution_count": 7,
     "metadata": {},
     "output_type": "execute_result"
    }
   ],
   "source": [
    ";; Using 'let' to store a local binding to a value (recommended)\n",
    "\n",
    "(defn compute-discount-amount [amount discount-percent min-charge]\n",
    "    (let [discounted-amount (* amount (- 1.0 discount-percent))]\n",
    "        (if (> discounted-amount min-charge)\n",
    "            discounted-amount\n",
    "            min-charge)))\n",
    "\n",
    "(compute-discount-amount 10.0 0.20 15.0)\n"
   ]
  },
  {
   "cell_type": "code",
   "execution_count": 8,
   "metadata": {},
   "outputs": [
    {
     "data": {
      "text/plain": [
       "20.0"
      ]
     },
     "execution_count": 8,
     "metadata": {},
     "output_type": "execute_result"
    }
   ],
   "source": [
    ";; The 'let' expression inside the last function \n",
    ";; can be divided for further clarity\n",
    "\n",
    "(defn compute-discount-amount [amount discount-percent min-charge]\n",
    "    (let [discount (* amount discount-percent)\n",
    "          discounted-amount (- amount discount)]\n",
    "        (if (> discounted-amount min-charge)\n",
    "            discounted-amount\n",
    "            min-charge)))\n",
    "\n",
    "(compute-discount-amount 10.0 0.20 20.0)\n",
    "\n"
   ]
  },
  {
   "cell_type": "markdown",
   "metadata": {},
   "source": [
    "let over fn"
   ]
  },
  {
   "cell_type": "code",
   "execution_count": 12,
   "metadata": {},
   "outputs": [
    {
     "data": {
      "text/plain": [
       "#'user/user-discounts"
      ]
     },
     "execution_count": 12,
     "metadata": {},
     "output_type": "execute_result"
    }
   ],
   "source": [
    ";; Given a map of user discounts\n",
    "\n",
    "(def user-discounts {\"Nicholas\" 0.10 \"Jonathan\" 0.07 \"Felicia\" 0.05})"
   ]
  },
  {
   "cell_type": "code",
   "execution_count": 24,
   "metadata": {},
   "outputs": [
    {
     "data": {
      "text/plain": [
       "9.5"
      ]
     },
     "execution_count": 24,
     "metadata": {},
     "output_type": "execute_result"
    }
   ],
   "source": [
    ";; A function can be created to compute the discount \n",
    ";; based on the last 'user-discounts' map, as follows\n",
    "\n",
    "(defn compute-discount-amount [amount user-name user-discounts min-charge]\n",
    "    (let [discount-percent (user-discounts user-name)\n",
    "          discount (* amount discount-percent)\n",
    "          discounted-amount (- amount discount)]\n",
    "        (if (> discounted-amount min-charge)\n",
    "            discounted-amount\n",
    "            min-charge)))\n",
    "\n",
    "(compute-discount-amount 10.0 \"Felicia\" user-discounts 1.0)\n"
   ]
  },
  {
   "cell_type": "code",
   "execution_count": 27,
   "metadata": {},
   "outputs": [
    {
     "data": {
      "text/plain": [
       "19.0"
      ]
     },
     "execution_count": 27,
     "metadata": {},
     "output_type": "execute_result"
    }
   ],
   "source": [
    ";; The last function can be converted to a higher order function that creates \n",
    ";; variants of 'compute-discount-amount' tailored to a particular customer\n",
    "\n",
    "(defn mk-discount-price-f [user-name user-discounts min-charge]\n",
    "    (let [discount-percent (user-discounts user-name)]\n",
    "        (fn [amount]\n",
    "            (let [discount (* amount discount-percent)\n",
    "                  discounted-amount (- amount discount)]\n",
    "                (if (> discounted-amount min-charge)\n",
    "                    discounted-amount\n",
    "                    min-charge)))))\n",
    "\n",
    ";; The price function for Felicia\n",
    "\n",
    "(def compute-felicia-price (mk-discount-price-f \"Felicia\" user-discounts 10.0))\n",
    "(compute-felicia-price 20.0)\n"
   ]
  },
  {
   "cell_type": "markdown",
   "metadata": {},
   "source": [
    "### Variations on the theme"
   ]
  },
  {
   "cell_type": "code",
   "execution_count": 29,
   "metadata": {},
   "outputs": [
    {
     "data": {
      "text/plain": [
       "#'user/with-author"
      ]
     },
     "execution_count": 29,
     "metadata": {},
     "output_type": "execute_result"
    }
   ],
   "source": [
    ";; Given the following maps\n",
    "\n",
    "(def anonymous-book {:title \"Sir Gawain and the Green Knight\"})\n",
    "\n",
    "(def with-author {:title \"Once and Future King\" :author \"White\"})\n"
   ]
  },
  {
   "cell_type": "code",
   "execution_count": 30,
   "metadata": {},
   "outputs": [
    {
     "data": {
      "text/plain": [
       "#'user/uppercase-author"
      ]
     },
     "execution_count": 30,
     "metadata": {},
     "output_type": "execute_result"
    }
   ],
   "source": [
    ";; A function that returns the uppercase name of the author\n",
    ";; (or nil if there's no author) can be created as follows\n",
    "\n",
    "(defn uppercase-author [book]\n",
    "    (let [author (:author book)]\n",
    "        (if author\n",
    "            (.toUpperCase author))))\n"
   ]
  },
  {
   "cell_type": "code",
   "execution_count": 32,
   "metadata": {},
   "outputs": [
    {
     "data": {
      "text/plain": [
       "\"WHITE\""
      ]
     },
     "execution_count": 32,
     "metadata": {},
     "output_type": "execute_result"
    }
   ],
   "source": [
    "(uppercase-author with-author)"
   ]
  },
  {
   "cell_type": "code",
   "execution_count": 31,
   "metadata": {},
   "outputs": [
    {
     "data": {
      "text/plain": [
       "nil"
      ]
     },
     "execution_count": 31,
     "metadata": {},
     "output_type": "execute_result"
    }
   ],
   "source": [
    "(uppercase-author anonymous-book)"
   ]
  },
  {
   "cell_type": "code",
   "execution_count": 36,
   "metadata": {},
   "outputs": [
    {
     "data": {
      "text/plain": [
       "#'user/uppercase-author"
      ]
     },
     "execution_count": 36,
     "metadata": {},
     "output_type": "execute_result"
    }
   ],
   "source": [
    ";;The last function can be shortened with 'if-let', as follows\n",
    "\n",
    "(defn uppercase-author [book]\n",
    "    (if-let [author (:author book)]\n",
    "        (.toUpperCase author)\n",
    "        \"ANONYMOUS\"))"
   ]
  },
  {
   "cell_type": "code",
   "execution_count": 37,
   "metadata": {},
   "outputs": [
    {
     "data": {
      "text/plain": [
       "\"WHITE\""
      ]
     },
     "execution_count": 37,
     "metadata": {},
     "output_type": "execute_result"
    }
   ],
   "source": [
    "(uppercase-author with-author)"
   ]
  },
  {
   "cell_type": "code",
   "execution_count": 38,
   "metadata": {},
   "outputs": [
    {
     "data": {
      "text/plain": [
       "\"ANONYMOUS\""
      ]
     },
     "execution_count": 38,
     "metadata": {},
     "output_type": "execute_result"
    }
   ],
   "source": [
    "(uppercase-author anonymous-book)"
   ]
  },
  {
   "cell_type": "code",
   "execution_count": 42,
   "metadata": {},
   "outputs": [
    {
     "data": {
      "text/plain": [
       "#'user/uppercase-author"
      ]
     },
     "execution_count": 42,
     "metadata": {},
     "output_type": "execute_result"
    }
   ],
   "source": [
    ";; There's also a 'when-let' macro, which can be used as follows\n",
    "\n",
    "(defn uppercase-author [book]\n",
    "    (when-let [author (:author book)]\n",
    "        (.toUpperCase author)))\n"
   ]
  },
  {
   "cell_type": "code",
   "execution_count": 43,
   "metadata": {},
   "outputs": [
    {
     "data": {
      "text/plain": [
       "\"WHITE\""
      ]
     },
     "execution_count": 43,
     "metadata": {},
     "output_type": "execute_result"
    }
   ],
   "source": [
    "(uppercase-author with-author)"
   ]
  },
  {
   "cell_type": "code",
   "execution_count": 44,
   "metadata": {},
   "outputs": [
    {
     "data": {
      "text/plain": [
       "nil"
      ]
     },
     "execution_count": 44,
     "metadata": {},
     "output_type": "execute_result"
    }
   ],
   "source": [
    "(uppercase-author anonymous-book)"
   ]
  },
  {
   "cell_type": "markdown",
   "metadata": {},
   "source": [
    "### Issues with let"
   ]
  },
  {
   "cell_type": "code",
   "execution_count": 47,
   "metadata": {},
   "outputs": [
    {
     "name": "stdout",
     "output_type": "stream",
     "text": [
      "The title is Let's Pretend This Never Happened\n"
     ]
    },
    {
     "data": {
      "text/plain": [
       "nil"
      ]
     },
     "execution_count": 47,
     "metadata": {},
     "output_type": "execute_result"
    }
   ],
   "source": [
    ";; We can use title inside of the let scope.\n",
    "\n",
    "(let [title \"Let's Pretend This Never Happened\"]\n",
    "    (println \"The title is\" title))\n"
   ]
  },
  {
   "cell_type": "code",
   "execution_count": 49,
   "metadata": {},
   "outputs": [
    {
     "name": "stderr",
     "output_type": "stream",
     "text": [
      "Syntax error compiling at (REPL:4:5).\n",
      "Unable to resolve symbol: title in this context\n"
     ]
    },
    {
     "ename": "class clojure.lang.Compiler$CompilerException",
     "evalue": "",
     "output_type": "error",
     "traceback": [
      "  Util.java:   221 clojure.lang.Util/runtimeException",
      "   core.clj:  3214 clojure.core$eval/invokeStatic",
      "   core.clj:  3210 clojure.core$eval/invoke",
      "   main.clj:   437 clojure.main$repl$read_eval_print__9086$fn__9089/invoke",
      "   main.clj:   458 clojure.main$repl$fn__9095/invoke",
      "   main.clj:   368 clojure.main$repl/doInvoke",
      "RestFn.java:  1523 clojure.lang.RestFn/invoke",
      "   AFn.java:    22 clojure.lang.AFn/run",
      "   AFn.java:    22 clojure.lang.AFn/run",
      "Thread.java:   745 java.lang.Thread/run"
     ]
    }
   ],
   "source": [
    ";; But now we're outside of the let scope, so an exception is raised.\n",
    "\n",
    "(defn print-the-title []\n",
    "    (println \"The title is\" title)) ; Boom!"
   ]
  },
  {
   "cell_type": "code",
   "execution_count": 50,
   "metadata": {},
   "outputs": [
    {
     "name": "stdout",
     "output_type": "stream",
     "text": [
      "Sense and Sensibility\n"
     ]
    },
    {
     "data": {
      "text/plain": [
       "nil"
      ]
     },
     "execution_count": 50,
     "metadata": {},
     "output_type": "execute_result"
    }
   ],
   "source": [
    ";; A binding in a let can shadow a binding in an outer let\n",
    "\n",
    "(let [title \"Pride and Prejudice\"]\n",
    "    (let [title \"Sense and Sensibility\"]\n",
    "        (println title))) "
   ]
  },
  {
   "cell_type": "code",
   "execution_count": 51,
   "metadata": {},
   "outputs": [
    {
     "name": "stdout",
     "output_type": "stream",
     "text": [
      "Pride and Prejudice and Zombies\n"
     ]
    },
    {
     "data": {
      "text/plain": [
       "nil"
      ]
     },
     "execution_count": 51,
     "metadata": {},
     "output_type": "execute_result"
    }
   ],
   "source": [
    "; A binding in a let can also be overriden with\n",
    ";; another binding inside of the same let\n",
    "\n",
    "(let [title \"Pride and Prejudice\"\n",
    "      title (str title \" and Zombies\")]\n",
    "    (println title))"
   ]
  }
 ],
 "metadata": {
  "kernelspec": {
   "display_name": "Clojure (clojupyter=0.3.2=1)",
   "language": "clojure",
   "name": "python397jvsc74a57bd089a790bea3b9cadff6bf73491f7cf161e4e94bfc015afe6a535623fbe4142b79"
  },
  "language_info": {
   "file_extension": ".clj",
   "mimetype": "text/x-clojure",
   "name": "clojure",
   "version": "1.10.1"
  },
  "orig_nbformat": 4
 },
 "nbformat": 4,
 "nbformat_minor": 2
}

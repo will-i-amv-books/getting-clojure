{
 "cells": [
  {
   "cell_type": "markdown",
   "metadata": {},
   "source": [
    "# Records and Protocols"
   ]
  },
  {
   "cell_type": "markdown",
   "metadata": {},
   "source": [
    "### Striking a More Specific Bargain with Records\n"
   ]
  },
  {
   "cell_type": "code",
   "execution_count": 2,
   "metadata": {},
   "outputs": [
    {
     "data": {
      "text/plain": [
       "user.FictionalCharacter"
      ]
     },
     "execution_count": 2,
     "metadata": {},
     "output_type": "execute_result"
    }
   ],
   "source": [
    ";; Records are defined as follows\n",
    "\n",
    "(defrecord FictionalCharacter[name appears-in author])\n"
   ]
  },
  {
   "cell_type": "code",
   "execution_count": 5,
   "metadata": {},
   "outputs": [
    {
     "data": {
      "text/plain": [
       "#user.FictionalCharacter{:name \"John Watson\", :appears-in \"Sign of the Four\", :author \"Doyle\"}"
      ]
     },
     "execution_count": 5,
     "metadata": {},
     "output_type": "execute_result"
    }
   ],
   "source": [
    ";; The standard instantiation syntax using '->FictionalCharacter'\n",
    "\n",
    "(def watson \n",
    "    (->FictionalCharacter \"John Watson\" \"Sign of the Four\" \"Doyle\")) ; Individual strings are passed as args\n",
    "\n",
    "watson"
   ]
  },
  {
   "cell_type": "code",
   "execution_count": 6,
   "metadata": {},
   "outputs": [
    {
     "data": {
      "text/plain": [
       "#user.FictionalCharacter{:name \"Elizabeth Bennet\", :appears-in \"Pride & Prejudice\", :author \"Austen\"}"
      ]
     },
     "execution_count": 6,
     "metadata": {},
     "output_type": "execute_result"
    }
   ],
   "source": [
    ";; An alternative instantiation syntax using 'map->FictionalCharacter'\n",
    "\n",
    "(def elizabeth \n",
    "    (map->FictionalCharacter {:name \"Elizabeth Bennet\"\n",
    "                              :appears-in \"Pride & Prejudice\"\n",
    "                              :author \"Austen\"})) ; A map is passed as arg\n",
    "\n",
    "elizabeth"
   ]
  },
  {
   "cell_type": "markdown",
   "metadata": {},
   "source": [
    "### Records are maps"
   ]
  },
  {
   "cell_type": "code",
   "execution_count": 19,
   "metadata": {},
   "outputs": [
    {
     "data": {
      "text/plain": [
       "\"Elizabeth Bennet\""
      ]
     },
     "execution_count": 19,
     "metadata": {},
     "output_type": "execute_result"
    }
   ],
   "source": [
    ";; Records can be treated like maps with keyword keys\n",
    "\n",
    "(:name elizabeth)\n"
   ]
  },
  {
   "cell_type": "code",
   "execution_count": 16,
   "metadata": {},
   "outputs": [
    {
     "data": {
      "text/plain": [
       "\"Sign of the Four\""
      ]
     },
     "execution_count": 16,
     "metadata": {},
     "output_type": "execute_result"
    }
   ],
   "source": [
    "(:appears-in watson)\n"
   ]
  },
  {
   "cell_type": "code",
   "execution_count": 14,
   "metadata": {},
   "outputs": [
    {
     "data": {
      "text/plain": [
       "3"
      ]
     },
     "execution_count": 14,
     "metadata": {},
     "output_type": "execute_result"
    }
   ],
   "source": [
    ";; Any function that works with a map will also work with a record\n",
    "\n",
    "(count elizabeth)\n"
   ]
  },
  {
   "cell_type": "code",
   "execution_count": 15,
   "metadata": {},
   "outputs": [
    {
     "data": {
      "text/plain": [
       "(:name :appears-in :author)"
      ]
     },
     "execution_count": 15,
     "metadata": {},
     "output_type": "execute_result"
    }
   ],
   "source": [
    "(keys watson)\n"
   ]
  },
  {
   "cell_type": "code",
   "execution_count": 18,
   "metadata": {},
   "outputs": [
    {
     "data": {
      "text/plain": [
       "#'user/specific-watson"
      ]
     },
     "execution_count": 18,
     "metadata": {},
     "output_type": "execute_result"
    }
   ],
   "source": [
    ";; You can use 'assoc' to modify the values in a record\n",
    "\n",
    "(def specific-watson \n",
    "    (assoc watson :appears-in \"Sign of the Four\"))\n"
   ]
  },
  {
   "cell_type": "code",
   "execution_count": 21,
   "metadata": {},
   "outputs": [
    {
     "data": {
      "text/plain": [
       "#'user/more-about-watson"
      ]
     },
     "execution_count": 21,
     "metadata": {},
     "output_type": "execute_result"
    }
   ],
   "source": [
    ";; You can use 'assoc' to add a new key-value par in a record\n",
    "\n",
    "(def more-about-watson \n",
    "    (assoc watson :address \"221B Baker Street\")) ; New keys don't get the speed boost of the built-in fields\n"
   ]
  },
  {
   "cell_type": "markdown",
   "metadata": {},
   "source": [
    "### The record advantage"
   ]
  },
  {
   "cell_type": "code",
   "execution_count": 22,
   "metadata": {},
   "outputs": [
    {
     "data": {
      "text/plain": [
       "#'user/irene"
      ]
     },
     "execution_count": 22,
     "metadata": {},
     "output_type": "execute_result"
    }
   ],
   "source": [
    ";; Records are faster than maps\n",
    "\n",
    "(def irene {:name \"Irene Adler\"\n",
    "            :appears-in \"A Scandal in Bohemia\"\n",
    "            :author \"Doyle\"})\n"
   ]
  },
  {
   "cell_type": "code",
   "execution_count": 24,
   "metadata": {},
   "outputs": [
    {
     "data": {
      "text/plain": [
       "\"John Watson\""
      ]
     },
     "execution_count": 24,
     "metadata": {},
     "output_type": "execute_result"
    }
   ],
   "source": [
    ";; So this would be faster:\n",
    "\n",
    "(:name watson)\n"
   ]
  },
  {
   "cell_type": "code",
   "execution_count": 23,
   "metadata": {},
   "outputs": [
    {
     "data": {
      "text/plain": [
       "\"Irene Adler\""
      ]
     },
     "execution_count": 23,
     "metadata": {},
     "output_type": "execute_result"
    }
   ],
   "source": [
    "; Than this:\n",
    "\n",
    "(:name irene)\n"
   ]
  },
  {
   "cell_type": "code",
   "execution_count": 25,
   "metadata": {},
   "outputs": [
    {
     "data": {
      "text/plain": [
       "user.SuperComputer"
      ]
     },
     "execution_count": 25,
     "metadata": {},
     "output_type": "execute_result"
    }
   ],
   "source": [
    ";; Records can make code more clearer\n",
    "\n",
    "(defrecord FictionalCharacter[name appears-in author])\n",
    "\n",
    "(defrecord SuperComputer [cpu no-cpus storage-gb])\n",
    "\n"
   ]
  },
  {
   "cell_type": "code",
   "execution_count": 28,
   "metadata": {},
   "outputs": [
    {
     "data": {
      "text/plain": [
       "#user.FictionalCharacter{:name \"John Watson\", :appears-in \"Sign of the Four\", :author \"Doyle\"}"
      ]
     },
     "execution_count": 28,
     "metadata": {},
     "output_type": "execute_result"
    }
   ],
   "source": [
    ";; So when instantiatong them, you can have an idea of what each record is about\n",
    ";; by looking at their definitions\n",
    "\n",
    "(def watson-1 (->FictionalCharacter \"John Watson\" \"Sign of the Four\" \"Doyle\")) ; It's a fictional character\n",
    "\n",
    "watson-1"
   ]
  },
  {
   "cell_type": "code",
   "execution_count": 29,
   "metadata": {},
   "outputs": [
    {
     "data": {
      "text/plain": [
       "#user.SuperComputer{:cpu \"Power7\", :no-cpus 2880, :storage-gb 4000}"
      ]
     },
     "execution_count": 29,
     "metadata": {},
     "output_type": "execute_result"
    }
   ],
   "source": [
    "(def watson-2 (->SuperComputer \"Power7\" 2880 4000)) ; It's the supercomputer that runs Jeopardy!\n",
    "\n",
    "watson-2"
   ]
  },
  {
   "cell_type": "code",
   "execution_count": 30,
   "metadata": {},
   "outputs": [
    {
     "data": {
      "text/plain": [
       "user.FictionalCharacter"
      ]
     },
     "execution_count": 30,
     "metadata": {},
     "output_type": "execute_result"
    }
   ],
   "source": [
    ";; Like in OOP languages, you can check the class of each record instance\n",
    "\n",
    "(class watson-1)\n"
   ]
  },
  {
   "cell_type": "code",
   "execution_count": 31,
   "metadata": {},
   "outputs": [
    {
     "data": {
      "text/plain": [
       "user.SuperComputer"
      ]
     },
     "execution_count": 31,
     "metadata": {},
     "output_type": "execute_result"
    }
   ],
   "source": [
    "(class watson-2)"
   ]
  },
  {
   "cell_type": "code",
   "execution_count": 32,
   "metadata": {},
   "outputs": [
    {
     "data": {
      "text/plain": [
       "true"
      ]
     },
     "execution_count": 32,
     "metadata": {},
     "output_type": "execute_result"
    }
   ],
   "source": [
    ";; Or check if a record belongs to some class\n",
    "\n",
    "(instance? FictionalCharacter watson-1)\n"
   ]
  },
  {
   "cell_type": "code",
   "execution_count": 34,
   "metadata": {},
   "outputs": [
    {
     "data": {
      "text/plain": [
       "false"
      ]
     },
     "execution_count": 34,
     "metadata": {},
     "output_type": "execute_result"
    }
   ],
   "source": [
    "(instance? SuperComputer watson-1)\n"
   ]
  },
  {
   "cell_type": "markdown",
   "metadata": {},
   "source": [
    "### Protocols"
   ]
  },
  {
   "cell_type": "code",
   "execution_count": 37,
   "metadata": {},
   "outputs": [
    {
     "data": {
      "text/plain": [
       "Person"
      ]
     },
     "execution_count": 37,
     "metadata": {},
     "output_type": "execute_result"
    }
   ],
   "source": [
    ";; A simple protocol 'Person' with some functions related to people\n",
    "\n",
    "(defprotocol Person\n",
    "    (full-name [this])\n",
    "    (greeting [this msg])\n",
    "    (description [this]))\n"
   ]
  },
  {
   "cell_type": "code",
   "execution_count": 40,
   "metadata": {},
   "outputs": [
    {
     "data": {
      "text/plain": [
       "user.FictionalCharacter"
      ]
     },
     "execution_count": 40,
     "metadata": {},
     "output_type": "execute_result"
    }
   ],
   "source": [
    ";; The 'FictionalCharacter' record defined before can implement the functions\n",
    ";; of the 'Person' protocol, as follows\n",
    "\n",
    "(defrecord FictionalCharacter[name appears-in author]\n",
    "    Person\n",
    "    (full-name [this] \n",
    "        (:name this))\n",
    "    (greeting [this msg] \n",
    "        (str msg \" \" (:name this)))\n",
    "    (description [this]\n",
    "        (str (:name this) \" is a character in \" (:appears-in this))))\n"
   ]
  },
  {
   "cell_type": "code",
   "execution_count": 39,
   "metadata": {},
   "outputs": [
    {
     "data": {
      "text/plain": [
       "user.Employee"
      ]
     },
     "execution_count": 39,
     "metadata": {},
     "output_type": "execute_result"
    }
   ],
   "source": [
    ";; Another record 'Employee' can also implement the same functions \n",
    ";; of the 'Person' protocol (differently), as follows\n",
    "\n",
    "\n",
    "(defrecord Employee [first-name last-name department]\n",
    "    Person\n",
    "    (full-name [this] \n",
    "        (str first-name \" \" last-name))\n",
    "    (greeting [this msg] \n",
    "        (str msg \" \" (:first-name this)))\n",
    "    (description [this]\n",
    "        (str (:first-name this) \" works in \" (:department this))))\n"
   ]
  },
  {
   "cell_type": "code",
   "execution_count": 42,
   "metadata": {},
   "outputs": [
    {
     "data": {
      "text/plain": [
       "#'user/sam"
      ]
     },
     "execution_count": 42,
     "metadata": {},
     "output_type": "execute_result"
    }
   ],
   "source": [
    ";; Now we can make instances of both records\n",
    "\n",
    "(def sofia (->Employee \"Sofia\" \"Diego\" \"Finance\"))\n",
    "\n",
    "(def sam (->FictionalCharacter \"Sam Weller\" \"The Pickwick Papers\" \"Dickens\"))"
   ]
  },
  {
   "cell_type": "code",
   "execution_count": 43,
   "metadata": {},
   "outputs": [
    {
     "data": {
      "text/plain": [
       "\"Sofia Diego\""
      ]
     },
     "execution_count": 43,
     "metadata": {},
     "output_type": "execute_result"
    }
   ],
   "source": [
    ";; And we can see the polymorphism of protocols in action, as follows\n",
    "\n",
    "(full-name sofia)\n"
   ]
  },
  {
   "cell_type": "code",
   "execution_count": 44,
   "metadata": {},
   "outputs": [
    {
     "data": {
      "text/plain": [
       "\"Sam Weller\""
      ]
     },
     "execution_count": 44,
     "metadata": {},
     "output_type": "execute_result"
    }
   ],
   "source": [
    "(full-name sam)"
   ]
  },
  {
   "cell_type": "code",
   "execution_count": 46,
   "metadata": {},
   "outputs": [
    {
     "data": {
      "text/plain": [
       "\"Sofia works in Finance\""
      ]
     },
     "execution_count": 46,
     "metadata": {},
     "output_type": "execute_result"
    }
   ],
   "source": [
    "(description sofia)\n"
   ]
  },
  {
   "cell_type": "code",
   "execution_count": 45,
   "metadata": {},
   "outputs": [
    {
     "data": {
      "text/plain": [
       "\"Sam Weller is a character in The Pickwick Papers\""
      ]
     },
     "execution_count": 45,
     "metadata": {},
     "output_type": "execute_result"
    }
   ],
   "source": [
    "(description sam)\n"
   ]
  },
  {
   "cell_type": "markdown",
   "metadata": {},
   "source": [
    "### Decentralized Polymorphism\n"
   ]
  },
  {
   "cell_type": "code",
   "execution_count": 48,
   "metadata": {},
   "outputs": [
    {
     "data": {
      "text/plain": [
       "Marketable"
      ]
     },
     "execution_count": 48,
     "metadata": {},
     "output_type": "execute_result"
    }
   ],
   "source": [
    ";; A new simple protocol\n",
    "\n",
    "(defprotocol Marketable\n",
    "    (make-slogan [this]))\n"
   ]
  },
  {
   "cell_type": "code",
   "execution_count": 49,
   "metadata": {},
   "outputs": [
    {
     "data": {
      "text/plain": [
       "nil"
      ]
     },
     "execution_count": 49,
     "metadata": {},
     "output_type": "execute_result"
    }
   ],
   "source": [
    ";; To apply the new protocol to existing records, without modifying the original definitions\n",
    ";; the 'extend-protocol' macro can be used, as follows\n",
    "\n",
    "(extend-protocol Marketable\n",
    "    Employee\n",
    "    (make-slogan [e] \n",
    "        (str (:first-name e) \" is the BEST employee!\"))\n",
    "    FictionalCharacter\n",
    "    (make-slogan [fc] \n",
    "        (str (:name fc) \" is the GREATEST character!\"))\n",
    "    SuperComputer\n",
    "    (make-slogan [sc] \n",
    "        (str \"This computer has \" (:no-cpus sc) \" CPUs!\")))\n"
   ]
  },
  {
   "cell_type": "code",
   "execution_count": 50,
   "metadata": {},
   "outputs": [
    {
     "data": {
      "text/plain": [
       "nil"
      ]
     },
     "execution_count": 50,
     "metadata": {},
     "output_type": "execute_result"
    }
   ],
   "source": [
    ";; You can extend the new protocol to embrace data types that aren’t records, as follows\n",
    "\n",
    "(extend-protocol Marketable\n",
    "    String\n",
    "    (make-slogan [s] \n",
    "        (str \\\" s \\\" \" is a string! WOW!\"))\n",
    "    Boolean\n",
    "    (make-slogan [b] \n",
    "        (str b \" is one of the two surviving Booleans!\")))\n"
   ]
  },
  {
   "cell_type": "code",
   "execution_count": 51,
   "metadata": {},
   "outputs": [
    {
     "data": {
      "text/plain": [
       "#'user/test-component"
      ]
     },
     "execution_count": 51,
     "metadata": {},
     "output_type": "execute_result"
    }
   ],
   "source": [
    ";; Given the following protocol from the component library (https://github.com/stuartsierra/component)\n",
    "\n",
    "(defprotocol Lifecycle\n",
    "    (start [component]\n",
    "        \"Begins operation of this component. Synchronous, does not return\n",
    "        until the component is started. Returns an updated version of this\n",
    "        component.\")\n",
    "    (stop [component]\n",
    "        \"Ceases operation of this component. Synchronous, does not return\n",
    "        until the component is stopped. Returns an updated version of this\n",
    "        component.\"))\n",
    "\n",
    "; You can create a one-off implementation of that protocol with 'reify', as follows\n",
    "\n",
    "(def test-component \n",
    "    (reify Lifecycle\n",
    "        (start [this]\n",
    "            (println \"Start!\") this)\n",
    "        (stop [this]\n",
    "            (println \"Stop!\") this)))\n"
   ]
  },
  {
   "cell_type": "markdown",
   "metadata": {},
   "source": [
    "### Issues with records and protocols"
   ]
  },
  {
   "cell_type": "code",
   "execution_count": 53,
   "metadata": {},
   "outputs": [
    {
     "data": {
      "text/plain": [
       "#user.FictionalCharacter{:name nil, :appears-in nil, :author nil, :full-name \"Elizabeth Bennet\", :book \"Pride & Prejudice\", :written-by \"Austen\"}"
      ]
     },
     "execution_count": 53,
     "metadata": {},
     "output_type": "execute_result"
    }
   ],
   "source": [
    ";; Instantiating a record with keys that are not present in the definition\n",
    ";; will add them to the record, but they will be treated as map keys\n",
    "\n",
    "(map->FictionalCharacter {:full-name \"Elizabeth Bennet\"\n",
    "                          :book \"Pride & Prejudice\"\n",
    "                          :written-by \"Austen\"})\n"
   ]
  },
  {
   "cell_type": "code",
   "execution_count": 55,
   "metadata": {},
   "outputs": [
    {
     "data": {
      "text/plain": [
       "#user.FictionalCharacter{:name \"Elizabeth Bennet\", :appears-in \"Pride & Prejudice\", :author \"Austen\", :book \"Pride & Prejudice\"}"
      ]
     },
     "execution_count": 55,
     "metadata": {},
     "output_type": "execute_result"
    }
   ],
   "source": [
    ";; The same can happen with carelles use of 'assoc'\n",
    "\n",
    "(assoc elizabeth :book \"Pride & Prejudice\")\n"
   ]
  },
  {
   "cell_type": "code",
   "execution_count": 56,
   "metadata": {},
   "outputs": [
    {
     "name": "stderr",
     "output_type": "stream",
     "text": [
      "Warning: protocol #'user/Product is overwriting method description of protocol Person\n"
     ]
    },
    {
     "data": {
      "text/plain": [
       "Product"
      ]
     },
     "execution_count": 56,
     "metadata": {},
     "output_type": "execute_result"
    }
   ],
   "source": [
    ";; Be careful with protocols with the same method names\n",
    "\n",
    "(defprotocol Person\n",
    "    (full-name [this])\n",
    "    (greeting [this msg])\n",
    "    (description [this]))\n",
    "\n",
    "(defprotocol Product\n",
    "    (inventory-name [this])\n",
    "    (description [this])) ; This method will override the one in 'Person'\n",
    "\n"
   ]
  },
  {
   "cell_type": "code",
   "execution_count": 60,
   "metadata": {},
   "outputs": [
    {
     "data": {
      "text/plain": [
       "nil"
      ]
     },
     "execution_count": 60,
     "metadata": {},
     "output_type": "execute_result"
    }
   ],
   "source": [
    ";; The solution is simple: put each protocol in a separate namespace\n",
    "\n",
    "(ns person-ns)\n",
    "(defprotocol Person\n",
    "    (full-name [this])\n",
    "    (greeting [this msg])\n",
    "    (description [this]))\n",
    "\n",
    "(ns product-ns)\n",
    "(defprotocol Product\n",
    "    (inventory-name [this])\n",
    "    (description [this])) ; This method will override the one in 'Person'\n",
    "\n",
    "(ns user)"
   ]
  },
  {
   "cell_type": "code",
   "execution_count": 59,
   "metadata": {},
   "outputs": [
    {
     "data": {
      "text/plain": [
       "nil"
      ]
     },
     "execution_count": 59,
     "metadata": {},
     "output_type": "execute_result"
    }
   ],
   "source": []
  }
 ],
 "metadata": {
  "kernelspec": {
   "display_name": "Clojure (clojupyter=0.3.2=1)",
   "language": "clojure",
   "name": "python397jvsc74a57bd089a790bea3b9cadff6bf73491f7cf161e4e94bfc015afe6a535623fbe4142b79"
  },
  "language_info": {
   "file_extension": ".clj",
   "mimetype": "text/x-clojure",
   "name": "clojure",
   "version": "1.10.1"
  },
  "orig_nbformat": 4
 },
 "nbformat": 4,
 "nbformat_minor": 2
}

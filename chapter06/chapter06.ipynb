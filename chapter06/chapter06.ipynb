{
 "cells": [
  {
   "cell_type": "markdown",
   "metadata": {},
   "source": [
    "# Functional things"
   ]
  },
  {
   "cell_type": "markdown",
   "metadata": {},
   "source": [
    "### Functions are values"
   ]
  },
  {
   "cell_type": "code",
   "execution_count": 1,
   "metadata": {},
   "outputs": [
    {
     "data": {
      "text/plain": [
       "#'user/dracula"
      ]
     },
     "execution_count": 1,
     "metadata": {},
     "output_type": "execute_result"
    }
   ],
   "source": [
    ";; A map like the ones created in the last chapter, \n",
    ";; but with the :price and :genre keywords\n",
    "\n",
    "(def dracula {:title \"Dracula\"\n",
    "              :author \"Stoker\"\n",
    "              :price 1.99\n",
    "              :genre :horror})\n"
   ]
  },
  {
   "cell_type": "code",
   "execution_count": 3,
   "metadata": {},
   "outputs": [
    {
     "data": {
      "text/plain": [
       "{:title \"Dracula\", :author \"Stoker\", :price 1.99, :genre :horror}"
      ]
     },
     "execution_count": 3,
     "metadata": {},
     "output_type": "execute_result"
    }
   ],
   "source": [
    ";; A series of functions to validate the last map\n",
    "\n",
    "(defn cheap? [book]\n",
    "    (when (<= (:price book) 9.99)\n",
    "        book))\n",
    "\n",
    "(cheap? dracula)\n"
   ]
  },
  {
   "cell_type": "code",
   "execution_count": 4,
   "metadata": {},
   "outputs": [
    {
     "data": {
      "text/plain": [
       "nil"
      ]
     },
     "execution_count": 4,
     "metadata": {},
     "output_type": "execute_result"
    }
   ],
   "source": [
    "(defn pricey? [book]\n",
    "    (when (> (:price book) 9.99)\n",
    "        book))\n",
    "\n",
    "(pricey? dracula)\n"
   ]
  },
  {
   "cell_type": "code",
   "execution_count": 5,
   "metadata": {},
   "outputs": [
    {
     "data": {
      "text/plain": [
       "{:title \"Dracula\", :author \"Stoker\", :price 1.99, :genre :horror}"
      ]
     },
     "execution_count": 5,
     "metadata": {},
     "output_type": "execute_result"
    }
   ],
   "source": [
    "(defn horror? [book]\n",
    "    (when (= (:genre book) :horror)\n",
    "        book))\n",
    "\n",
    "(horror? dracula)\n"
   ]
  },
  {
   "cell_type": "code",
   "execution_count": 8,
   "metadata": {},
   "outputs": [
    {
     "data": {
      "text/plain": [
       "nil"
      ]
     },
     "execution_count": 8,
     "metadata": {},
     "output_type": "execute_result"
    }
   ],
   "source": [
    "(defn adventure? [book]\n",
    "    (when (= (:genre book) :adventure)\n",
    "        book))\n",
    "\n",
    "(adventure? dracula)\n"
   ]
  },
  {
   "cell_type": "code",
   "execution_count": 18,
   "metadata": {},
   "outputs": [
    {
     "data": {
      "text/plain": [
       "{:title \"Dracula\", :author \"Stoker\", :price 1.99, :genre :horror}"
      ]
     },
     "execution_count": 18,
     "metadata": {},
     "output_type": "execute_result"
    }
   ],
   "source": [
    ";; The last 4 functions can be generalized as follows\n",
    "\n",
    "(defn both? [first-predicate-f second-predicate-f book]\n",
    "    (when (and (first-predicate-f book) (second-predicate-f book))\n",
    "        book))\n",
    "\n",
    "(both? cheap? horror? dracula)"
   ]
  },
  {
   "cell_type": "markdown",
   "metadata": {},
   "source": [
    "### Anonymous functions"
   ]
  },
  {
   "cell_type": "code",
   "execution_count": 12,
   "metadata": {},
   "outputs": [
    {
     "data": {
      "text/plain": [
       "#function[user/eval4123/fn--4124]"
      ]
     },
     "execution_count": 12,
     "metadata": {},
     "output_type": "execute_result"
    }
   ],
   "source": [
    ";; A simple anonymous function that doubles its arg\n",
    "\n",
    "(fn [n] (* 2 n))\n"
   ]
  },
  {
   "cell_type": "code",
   "execution_count": 13,
   "metadata": {},
   "outputs": [
    {
     "name": "stdout",
     "output_type": "stream",
     "text": [
      "A function: #function[user/eval4127/fn--4128]\n"
     ]
    },
    {
     "data": {
      "text/plain": [
       "nil"
      ]
     },
     "execution_count": 13,
     "metadata": {},
     "output_type": "execute_result"
    }
   ],
   "source": [
    ";; You can print an anonymous function, like any value\n",
    "\n",
    "(println \"A function:\" (fn [n] (* 2 n)))\n"
   ]
  },
  {
   "cell_type": "code",
   "execution_count": 17,
   "metadata": {},
   "outputs": [
    {
     "data": {
      "text/plain": [
       "20"
      ]
     },
     "execution_count": 17,
     "metadata": {},
     "output_type": "execute_result"
    }
   ],
   "source": [
    ";; Or bind it to a symbol and call it\n",
    "\n",
    "(def double-it (fn [n] (* 2 n)))\n",
    "\n",
    "(double-it 10)\n"
   ]
  },
  {
   "cell_type": "code",
   "execution_count": 20,
   "metadata": {},
   "outputs": [
    {
     "data": {
      "text/plain": [
       "#'user/cheaper-f"
      ]
     },
     "execution_count": 20,
     "metadata": {},
     "output_type": "execute_result"
    }
   ],
   "source": [
    ";; The last cheap? function can be expressed in terms a function that \n",
    ";; return another function, as follows\n",
    "\n",
    "(defn cheaper-f [max-price]\n",
    "    (fn [book]\n",
    "        (when (<= (:price book) max-price) \n",
    "            book)))\n"
   ]
  },
  {
   "cell_type": "code",
   "execution_count": 21,
   "metadata": {},
   "outputs": [
    {
     "data": {
      "text/plain": [
       "nil"
      ]
     },
     "execution_count": 21,
     "metadata": {},
     "output_type": "execute_result"
    }
   ],
   "source": [
    ";; The last function can be used to create more specific ones, as follows\n",
    "\n",
    "(def real-cheap? (cheaper-f 1.00))\n",
    "\n",
    "(real-cheap? dracula)\n"
   ]
  },
  {
   "cell_type": "code",
   "execution_count": 23,
   "metadata": {},
   "outputs": [
    {
     "data": {
      "text/plain": [
       "{:title \"Dracula\", :author \"Stoker\", :price 1.99, :genre :horror}"
      ]
     },
     "execution_count": 23,
     "metadata": {},
     "output_type": "execute_result"
    }
   ],
   "source": [
    "(def kind-of-cheap? (cheaper-f 1.99))\n",
    "\n",
    "(kind-of-cheap? dracula)\n"
   ]
  },
  {
   "cell_type": "code",
   "execution_count": 25,
   "metadata": {},
   "outputs": [
    {
     "data": {
      "text/plain": [
       "{:title \"Dracula\", :author \"Stoker\", :price 1.99, :genre :horror}"
      ]
     },
     "execution_count": 25,
     "metadata": {},
     "output_type": "execute_result"
    }
   ],
   "source": [
    "(def marginally-cheap? (cheaper-f 5.99))\n",
    "\n",
    "(marginally-cheap? dracula)\n"
   ]
  },
  {
   "cell_type": "code",
   "execution_count": 26,
   "metadata": {},
   "outputs": [
    {
     "data": {
      "text/plain": [
       "#'user/both-f"
      ]
     },
     "execution_count": 26,
     "metadata": {},
     "output_type": "execute_result"
    }
   ],
   "source": [
    ";; The last both? function can be expressed in terms of a function \n",
    ";; that accepts functions as args and returns another function, as follows\n",
    "\n",
    "(defn both-f [predicate-f-1 predicate-f-2]\n",
    "    (fn [book]\n",
    "        (when (and (predicate-f-1 book) (predicate-f-2 book))\n",
    "            book)))\n"
   ]
  },
  {
   "cell_type": "code",
   "execution_count": 30,
   "metadata": {},
   "outputs": [
    {
     "data": {
      "text/plain": [
       "{:title \"Dracula\", :author \"Stoker\", :price 1.99, :genre :horror}"
      ]
     },
     "execution_count": 30,
     "metadata": {},
     "output_type": "execute_result"
    }
   ],
   "source": [
    ";; The last function can be used to create more specific ones, as follows\n",
    "\n",
    "(def cheap-horror? (both-f cheap? horror?))\n",
    "\n",
    "(cheap-horror? dracula)\n"
   ]
  },
  {
   "cell_type": "code",
   "execution_count": 28,
   "metadata": {},
   "outputs": [
    {
     "data": {
      "text/plain": [
       "nil"
      ]
     },
     "execution_count": 28,
     "metadata": {},
     "output_type": "execute_result"
    }
   ],
   "source": [
    "(def real-cheap-adventure? (both-f real-cheap? adventure?))\n",
    "\n",
    "(real-cheap-adventure? dracula)\n"
   ]
  },
  {
   "cell_type": "code",
   "execution_count": 29,
   "metadata": {},
   "outputs": [
    {
     "data": {
      "text/plain": [
       "nil"
      ]
     },
     "execution_count": 29,
     "metadata": {},
     "output_type": "execute_result"
    }
   ],
   "source": [
    "(def real-cheap-horror? (both-f real-cheap? horror?))\n",
    "\n",
    "(real-cheap-horror? dracula)\n"
   ]
  },
  {
   "cell_type": "markdown",
   "metadata": {},
   "source": [
    "### Useful built-in functions"
   ]
  },
  {
   "cell_type": "markdown",
   "metadata": {},
   "source": [
    "apply"
   ]
  },
  {
   "cell_type": "code",
   "execution_count": 33,
   "metadata": {},
   "outputs": [
    {
     "data": {
      "text/plain": [
       "10"
      ]
     },
     "execution_count": 33,
     "metadata": {},
     "output_type": "execute_result"
    }
   ],
   "source": [
    ";; The 'apply' function takes a function and applies it (hence its name)\n",
    ";; to a collection of args\n",
    "\n",
    "(def the-function +)\n",
    "(def args [1 2 3 4])\n",
    "\n",
    "(apply the-function args)"
   ]
  },
  {
   "cell_type": "code",
   "execution_count": 37,
   "metadata": {},
   "outputs": [
    {
     "data": {
      "text/plain": [
       "\"The number 2 best selling book.\""
      ]
     },
     "execution_count": 37,
     "metadata": {},
     "output_type": "execute_result"
    }
   ],
   "source": [
    ";; The apply function is useful for converting from one kind of value to another,\n",
    ";; as follows\n",
    "\n",
    "(def v [\"The number \" 2 \" best selling \" \"book.\"])\n",
    "\n",
    "(apply str v)\n"
   ]
  },
  {
   "cell_type": "markdown",
   "metadata": {},
   "source": [
    "partial"
   ]
  },
  {
   "cell_type": "code",
   "execution_count": 38,
   "metadata": {},
   "outputs": [
    {
     "data": {
      "text/plain": [
       "#'user/my-inc"
      ]
     },
     "execution_count": 38,
     "metadata": {},
     "output_type": "execute_result"
    }
   ],
   "source": [
    ";; A simple function that increments its arg by 1\n",
    "\n",
    "(defn my-inc [n] (+ 1 n))\n"
   ]
  },
  {
   "cell_type": "code",
   "execution_count": 39,
   "metadata": {},
   "outputs": [
    {
     "data": {
      "text/plain": [
       "#'user/my-inc"
      ]
     },
     "execution_count": 39,
     "metadata": {},
     "output_type": "execute_result"
    }
   ],
   "source": [
    ";; The last function can be defined in terms of the 'partial' function\n",
    ";; that can be seen as fixing the 1st arg of '+', as follows\n",
    "\n",
    "(def my-inc (partial + 1))\n"
   ]
  },
  {
   "cell_type": "code",
   "execution_count": 40,
   "metadata": {},
   "outputs": [
    {
     "data": {
      "text/plain": [
       "#'user/cheaper-than"
      ]
     },
     "execution_count": 40,
     "metadata": {},
     "output_type": "execute_result"
    }
   ],
   "source": [
    ";; The bargain-finding functions defined earlier can be expressed\n",
    ";; in terms of 'partial', as follows\n",
    "\n",
    "(defn cheaper-than [max-price book]\n",
    "    (when (<= (:price book) max-price)\n",
    "        book))\n"
   ]
  },
  {
   "cell_type": "code",
   "execution_count": 44,
   "metadata": {},
   "outputs": [
    {
     "data": {
      "text/plain": [
       "nil"
      ]
     },
     "execution_count": 44,
     "metadata": {},
     "output_type": "execute_result"
    }
   ],
   "source": [
    "(def real-cheap? (partial cheaper-than 1.00))\n",
    "\n",
    "(real-cheap? dracula)\n"
   ]
  },
  {
   "cell_type": "code",
   "execution_count": 45,
   "metadata": {},
   "outputs": [
    {
     "data": {
      "text/plain": [
       "{:title \"Dracula\", :author \"Stoker\", :price 1.99, :genre :horror}"
      ]
     },
     "execution_count": 45,
     "metadata": {},
     "output_type": "execute_result"
    }
   ],
   "source": [
    "(def kind-of-cheap? (partial cheaper-than 1.99))\n",
    "\n",
    "(kind-of-cheap? dracula)\n"
   ]
  },
  {
   "cell_type": "code",
   "execution_count": 46,
   "metadata": {},
   "outputs": [
    {
     "data": {
      "text/plain": [
       "{:title \"Dracula\", :author \"Stoker\", :price 1.99, :genre :horror}"
      ]
     },
     "execution_count": 46,
     "metadata": {},
     "output_type": "execute_result"
    }
   ],
   "source": [
    "(def marginally-cheap? (partial cheaper-than 5.99))\n",
    "\n",
    "(marginally-cheap? dracula)\n"
   ]
  },
  {
   "cell_type": "markdown",
   "metadata": {},
   "source": [
    "complement"
   ]
  },
  {
   "cell_type": "code",
   "execution_count": 47,
   "metadata": {},
   "outputs": [
    {
     "data": {
      "text/plain": [
       "#'user/adventure?"
      ]
     },
     "execution_count": 47,
     "metadata": {},
     "output_type": "execute_result"
    }
   ],
   "source": [
    ";; Given the following function\n",
    "\n",
    "(defn adventure? [book]\n",
    "    (when (= (:genre book) :adventure)\n",
    "        book))\n"
   ]
  },
  {
   "cell_type": "code",
   "execution_count": 49,
   "metadata": {},
   "outputs": [
    {
     "data": {
      "text/plain": [
       "true"
      ]
     },
     "execution_count": 49,
     "metadata": {},
     "output_type": "execute_result"
    }
   ],
   "source": [
    ";; The 'complement' function can be used to create a function\n",
    ";; that return the oposite value, as follows\n",
    "\n",
    "(def not-adventure? (complement adventure?))\n",
    "\n",
    "(not-adventure? dracula)"
   ]
  },
  {
   "cell_type": "markdown",
   "metadata": {},
   "source": [
    "every-pred"
   ]
  },
  {
   "cell_type": "code",
   "execution_count": 51,
   "metadata": {},
   "outputs": [
    {
     "data": {
      "text/plain": [
       "true"
      ]
     },
     "execution_count": 51,
     "metadata": {},
     "output_type": "execute_result"
    }
   ],
   "source": [
    ";; The 'every-pred' function takes a list of predicates and creates a new predicate \n",
    ";: that's the logical AND of the supplied predicates, as follows\n",
    "\n",
    "(def cheap-horror? (every-pred cheap? horror?))\n",
    "\n",
    "(cheap-horror? dracula)"
   ]
  },
  {
   "cell_type": "code",
   "execution_count": 53,
   "metadata": {},
   "outputs": [
    {
     "data": {
      "text/plain": [
       "false"
      ]
     },
     "execution_count": 53,
     "metadata": {},
     "output_type": "execute_result"
    }
   ],
   "source": [
    "(def cheap-horror-possession?\n",
    "    (every-pred\n",
    "    cheap?\n",
    "    horror?\n",
    "    (fn [book] (= (:title book) \"Possession\")))) ; An anonymous function can also be used as arg\n",
    "\n",
    "(cheap-horror-possession? dracula)\n"
   ]
  },
  {
   "cell_type": "markdown",
   "metadata": {},
   "source": [
    "### Function literals (lambdas)"
   ]
  },
  {
   "cell_type": "code",
   "execution_count": 54,
   "metadata": {},
   "outputs": [
    {
     "data": {
      "text/plain": [
       "#function[user/eval4211/fn--4212]"
      ]
     },
     "execution_count": 54,
     "metadata": {},
     "output_type": "execute_result"
    }
   ],
   "source": [
    ";; The last adventure? function rewritten as function literal\n",
    "\n",
    "#(when (= (:genre %1) :adventure) %1) ; %1 means 1st arg, %2 means 2nd arg, etc.\n"
   ]
  },
  {
   "cell_type": "code",
   "execution_count": 55,
   "metadata": {},
   "outputs": [
    {
     "data": {
      "text/plain": [
       "#function[user/eval4217/fn--4218]"
      ]
     },
     "execution_count": 55,
     "metadata": {},
     "output_type": "execute_result"
    }
   ],
   "source": [
    ";; Instead of using 'partial', a function that doubles its arg\n",
    ";; can be expressed as follows\n",
    "\n",
    "#(* 2 %1)\n"
   ]
  },
  {
   "cell_type": "code",
   "execution_count": 56,
   "metadata": {},
   "outputs": [
    {
     "data": {
      "text/plain": [
       "#function[user/eval4223/fn--4224]"
      ]
     },
     "execution_count": 56,
     "metadata": {},
     "output_type": "execute_result"
    }
   ],
   "source": [
    ";; For 1-argument functions, the syntax can be shortened even more, as follows\n",
    "\n",
    "#(* 2 %) ; No need to use '%1', '%' is enough\n"
   ]
  },
  {
   "cell_type": "markdown",
   "metadata": {},
   "source": []
  },
  {
   "cell_type": "code",
   "execution_count": 59,
   "metadata": {},
   "outputs": [
    {
     "data": {
      "text/plain": [
       "{:title \"Emma\", :copies 1000}"
      ]
     },
     "execution_count": 59,
     "metadata": {},
     "output_type": "execute_result"
    }
   ],
   "source": [
    "(def book {:title \"Emma\" :copies 1000})\n",
    "\n",
    "book"
   ]
  },
  {
   "cell_type": "code",
   "execution_count": 60,
   "metadata": {},
   "outputs": [
    {
     "data": {
      "text/plain": [
       "{:title \"Emma\", :copies 1001}"
      ]
     },
     "execution_count": 60,
     "metadata": {},
     "output_type": "execute_result"
    }
   ],
   "source": [
    "(def new-book (update book :copies inc))\n",
    "\n",
    "new-book"
   ]
  },
  {
   "cell_type": "code",
   "execution_count": 63,
   "metadata": {},
   "outputs": [
    {
     "data": {
      "text/plain": [
       "{:name \"Jane Austen\", :book {:title \"Emma\", :copies 1000}}"
      ]
     },
     "execution_count": 63,
     "metadata": {},
     "output_type": "execute_result"
    }
   ],
   "source": [
    "(def by-author\n",
    "    {:name \"Jane Austen\"\n",
    "     :book {:title \"Emma\" :copies 1000}})\n",
    "\n",
    "by-author"
   ]
  },
  {
   "cell_type": "code",
   "execution_count": 62,
   "metadata": {},
   "outputs": [
    {
     "data": {
      "text/plain": [
       "{:name \"Jane Austen\", :book {:title \"Emma\", :copies 1001}}"
      ]
     },
     "execution_count": 62,
     "metadata": {},
     "output_type": "execute_result"
    }
   ],
   "source": [
    "(def new-by-author (update-in by-author [:book :copies] inc))\n",
    "\n",
    "new-by-author"
   ]
  },
  {
   "cell_type": "markdown",
   "metadata": {},
   "source": [
    "Example usage of the last functions in the 'ring' library"
   ]
  },
  {
   "cell_type": "code",
   "execution_count": 72,
   "metadata": {},
   "outputs": [
    {
     "data": {
      "text/plain": [
       "#'user/handler"
      ]
     },
     "execution_count": 72,
     "metadata": {},
     "output_type": "execute_result"
    }
   ],
   "source": [
    ";; A simple function that takes an HTTP request and returns\n",
    ";; an HTTP response, as follows\n",
    "\n",
    "(defn handler [request]\n",
    "    {:status 200\n",
    "     :headers {\"Content-Type\" \"text/html\"}\n",
    "     :body \"Hello from your web application!\"})\n"
   ]
  },
  {
   "cell_type": "code",
   "execution_count": 73,
   "metadata": {},
   "outputs": [
    {
     "data": {
      "text/plain": [
       "#'user/wrap-logging"
      ]
     },
     "execution_count": 73,
     "metadata": {},
     "output_type": "execute_result"
    }
   ],
   "source": [
    ";; Adding logging to the last functions, as follows\n",
    "\n",
    "(defn log-value\n",
    "    \"Log the message and the value. Returns the value.\"\n",
    "    [msg value]\n",
    "    (println msg value)\n",
    "    value)\n",
    "\n",
    "(defn wrap-logging\n",
    "    \"Return a function that logs the response.\"\n",
    "    [msg handler]\n",
    "    (fn [request] (log-value msg (handler request))))\n"
   ]
  },
  {
   "cell_type": "code",
   "execution_count": 74,
   "metadata": {},
   "outputs": [
    {
     "data": {
      "text/plain": [
       "#'user/wrap-content-type"
      ]
     },
     "execution_count": 74,
     "metadata": {},
     "output_type": "execute_result"
    }
   ],
   "source": [
    ";; Modifying the 'content-type' HTTP field, as follows\n",
    "\n",
    "(defn wrap-content-type\n",
    "    \"Return a function that sets the response content type.\"\n",
    "    [handler content-type]\n",
    "    (fn [request]\n",
    "        (assoc-in\n",
    "            (handler request)\n",
    "            [:headers \"Content-Type\"]\n",
    "            content-type)))\n"
   ]
  },
  {
   "cell_type": "code",
   "execution_count": 67,
   "metadata": {},
   "outputs": [
    {
     "data": {
      "text/plain": [
       "#'user/app"
      ]
     },
     "execution_count": 67,
     "metadata": {},
     "output_type": "execute_result"
    }
   ],
   "source": [
    ";; The last functions can be used in the main app, as follows\n",
    "\n",
    "(def app\n",
    "    (wrap-logging \"Final response:\" (wrap-content-type handler \"text/html\"))) ; Logging initial response\n"
   ]
  },
  {
   "cell_type": "code",
   "execution_count": 68,
   "metadata": {},
   "outputs": [
    {
     "data": {
      "text/plain": [
       "#'user/app"
      ]
     },
     "execution_count": 68,
     "metadata": {},
     "output_type": "execute_result"
    }
   ],
   "source": [
    "(def app\n",
    "    (wrap-content-type (wrap-logging \"Initial response:\" handler) \"text/html\")) ; Logging final response\n"
   ]
  },
  {
   "cell_type": "code",
   "execution_count": 75,
   "metadata": {},
   "outputs": [
    {
     "data": {
      "text/plain": [
       "#'user/app"
      ]
     },
     "execution_count": 75,
     "metadata": {},
     "output_type": "execute_result"
    }
   ],
   "source": [
    "(def app\n",
    "    (wrap-logging \"Final response:\" \n",
    "    (wrap-content-type (wrap-logging \"Initial response:\" handler) \"text/html\")))  ; Logging both\n"
   ]
  }
 ],
 "metadata": {
  "kernelspec": {
   "display_name": "Clojure (clojupyter=0.3.2=1)",
   "language": "clojure",
   "name": "python397jvsc74a57bd089a790bea3b9cadff6bf73491f7cf161e4e94bfc015afe6a535623fbe4142b79"
  },
  "language_info": {
   "file_extension": ".clj",
   "mimetype": "text/x-clojure",
   "name": "clojure",
   "version": "1.10.1"
  },
  "orig_nbformat": 4
 },
 "nbformat": 4,
 "nbformat_minor": 2
}

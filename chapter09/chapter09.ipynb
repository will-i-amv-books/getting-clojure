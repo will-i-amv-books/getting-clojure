{
 "cells": [
  {
   "cell_type": "markdown",
   "metadata": {},
   "source": [
    "# Namespaces"
   ]
  },
  {
   "cell_type": "markdown",
   "metadata": {},
   "source": [
    "### A Place for Your Vars"
   ]
  },
  {
   "cell_type": "code",
   "execution_count": null,
   "metadata": {},
   "outputs": [],
   "source": [
    ";; When defining a var, is added to the default 'user' namespace\n",
    "\n",
    "(def discount-rate 0.15)\n"
   ]
  },
  {
   "cell_type": "code",
   "execution_count": null,
   "metadata": {},
   "outputs": [],
   "source": [
    ";; Creating a new namespace with 'ns', which not only\n",
    ";; creates the namespace but make it the current one\n",
    "\n",
    "(ns pricing)\n",
    "\n",
    "(def discount-rate 0.15)\n",
    "\n",
    "(defn discount-price [book]\n",
    "    (* (- 1.0 discount-rate) (:price book)))\n"
   ]
  },
  {
   "cell_type": "code",
   "execution_count": null,
   "metadata": {},
   "outputs": [],
   "source": [
    "(println (discount-price {:title \"Emma\" :price 9.99}))\n"
   ]
  },
  {
   "cell_type": "code",
   "execution_count": null,
   "metadata": {},
   "outputs": [],
   "source": [
    ";; Go back to the default namespace\n",
    "\n",
    "(ns user)"
   ]
  },
  {
   "cell_type": "code",
   "execution_count": null,
   "metadata": {},
   "outputs": [],
   "source": [
    ";; To use a var defined in another namespace, \n",
    ";; use a fully qualified symbol in the form 'namespace/var' or 'namespace/function'\n",
    "\n",
    "(println (pricing/discount-price {:title \"Emma\" :price 9.99}))"
   ]
  },
  {
   "cell_type": "markdown",
   "metadata": {},
   "source": [
    "### Loading Namespaces"
   ]
  },
  {
   "cell_type": "code",
   "execution_count": null,
   "metadata": {},
   "outputs": [],
   "source": [
    ";; Given the following 2 vectors\n",
    "\n",
    "(def literature [\"Emma\" \"Oliver Twist\" \"Possession\"])\n",
    "\n",
    "(def horror [\"It\" \"Carry\" \"Possession\"])"
   ]
  },
  {
   "cell_type": "code",
   "execution_count": null,
   "metadata": {},
   "outputs": [],
   "source": [
    ";; To compare them item-by-item, the 'diff' function can be used, \n",
    ";; which is in the 'clojure.data' namespace\n",
    "\n",
    "(clojure.data/diff literature horror)\n"
   ]
  },
  {
   "cell_type": "code",
   "execution_count": null,
   "metadata": {},
   "outputs": [],
   "source": [
    ";; If there's an error using the last function, \n",
    ";; the namespace should be loaded explicitly with 'require'\n",
    "\n",
    "(require 'clojure.data) ; Note the single quote\n",
    "\n",
    "(clojure.data/diff literature horror)\n"
   ]
  },
  {
   "cell_type": "markdown",
   "metadata": {},
   "source": [
    "### A Namespace of Your Own"
   ]
  },
  {
   "cell_type": "code",
   "execution_count": null,
   "metadata": {},
   "outputs": [],
   "source": [
    ";; In the command line, create a new project with leiningen as follows\n",
    "\n",
    "\"\"\"\n",
    "lein new app blottsbooks\n",
    "\"\"\""
   ]
  },
  {
   "cell_type": "code",
   "execution_count": null,
   "metadata": {},
   "outputs": [],
   "source": [
    ";; Create a new file in src/blottsbooks/pricing.clj, \n",
    ";; with the following contents\n",
    "\n",
    "\"\"\"\n",
    "(ns blottsbooks.pricing) ; The namespace name shoulf match the file path\n",
    "\"\"\"\n",
    "\n",
    "(def discount-rate 0.15)\n",
    "\n",
    "(defn discount-price [book]\n",
    "    (- (:price book)\n",
    "    (* discount-rate (:price book))))\n"
   ]
  },
  {
   "cell_type": "code",
   "execution_count": null,
   "metadata": {},
   "outputs": [],
   "source": [
    ";; To use the files from pricing.clj inside core.clj for example,\n",
    ";; 'require' can be used inside a namespace expression, as follows\n",
    "\n",
    "\"\"\"\n",
    "(ns blottsbooks.core\n",
    "    (:require blottsbooks.pricing)\n",
    "    (:gen-class))\n",
    "\n",
    "(defn -main []\n",
    "    (println (blottsbooks.pricing/discount-price {:title \\\"Emma\\\" :price 9.99})))\n",
    "\"\"\"\n"
   ]
  },
  {
   "cell_type": "markdown",
   "metadata": {},
   "source": [
    "### As and Refer"
   ]
  },
  {
   "cell_type": "code",
   "execution_count": null,
   "metadata": {},
   "outputs": [],
   "source": [
    ";; In case the namespaces have long names, \n",
    ";; the 'as' keyword can be used to give it an alias, as follows\n",
    "\n",
    "(require '[clojure.core :as mycore]) ; Now a vector is used as arg to 'require'\n",
    "\n",
    "\"\"\"\n",
    "(ns blottsbooks.core\n",
    "    (:require [blottsbooks.pricing :as pricing])\n",
    "    (:gen-class))\n",
    "\"\"\"    "
   ]
  },
  {
   "cell_type": "code",
   "execution_count": null,
   "metadata": {},
   "outputs": [],
   "source": [
    ";; So we can refer to blottsbooks.pricing/discount-price as pricing/discount-price\n",
    "\n",
    "\"\"\"\n",
    "(defn -main []\n",
    "    (println (pricing/discount-price {:title \\\"Emma\\\" :price 9.99})))\n",
    "\"\"\"\n"
   ]
  },
  {
   "cell_type": "code",
   "execution_count": null,
   "metadata": {},
   "outputs": [],
   "source": [
    ";; Another alternative is to import the function or var from the namespace\n",
    ";; with 'refer', as follows\n",
    "\n",
    "\"\"\"\n",
    "(require '[blottsbooks.pricing :refer [discount-price]])\n",
    "\n",
    "(discount-price {:title \\\"Emma\\\" :price 9.99}) ; Use without fully qualified names\n",
    "\"\"\"\n"
   ]
  },
  {
   "cell_type": "markdown",
   "metadata": {},
   "source": [
    "### Namespaces, Symbols, and Keywords"
   ]
  },
  {
   "cell_type": "code",
   "execution_count": null,
   "metadata": {},
   "outputs": [],
   "source": [
    ";; Get the current namespace with the built-in symbol *ns* \n",
    "\n",
    "(println \"Current ns:\" *ns*)"
   ]
  },
  {
   "cell_type": "code",
   "execution_count": null,
   "metadata": {},
   "outputs": [],
   "source": [
    ";; Get the current namespace by name\n",
    "\n",
    "(find-ns 'user)"
   ]
  },
  {
   "cell_type": "code",
   "execution_count": null,
   "metadata": {},
   "outputs": [],
   "source": [
    ";; Find all things defined in a namespace with 'ns-map'\n",
    "\n",
    "(ns-map 'user)"
   ]
  },
  {
   "cell_type": "code",
   "execution_count": null,
   "metadata": {},
   "outputs": [],
   "source": [
    ";; Get the namespace part of a fully qualified name\n",
    "\n",
    "(namespace 'pricing/discount-price)\n"
   ]
  },
  {
   "cell_type": "code",
   "execution_count": null,
   "metadata": {},
   "outputs": [],
   "source": [
    ";; Calling the fully qualified name of a keyword\n",
    ";; by adding ':' in front of the namespace name\n",
    "\n",
    ":blottsbooks.pricing/author\n"
   ]
  },
  {
   "cell_type": "code",
   "execution_count": null,
   "metadata": {},
   "outputs": [],
   "source": [
    ";; Calling the name of a keyword without the fully qualified name\n",
    ";; by adding '::' in front of the keyword name\n",
    "\n",
    "::author\n"
   ]
  },
  {
   "cell_type": "markdown",
   "metadata": {},
   "source": [
    "### Issues with namespaces"
   ]
  },
  {
   "cell_type": "code",
   "execution_count": 39,
   "metadata": {},
   "outputs": [
    {
     "data": {
      "text/plain": [
       "\"\""
      ]
     },
     "execution_count": 39,
     "metadata": {},
     "output_type": "execute_result"
    }
   ],
   "source": [
    ";; Given the following namespace\n",
    "\n",
    "\"\"\"\n",
    "(require '[blottsbooks.pricing :as pricing])\n",
    "\n",
    "(pricing/discount-price {:title \\\"Emma\\\" :price 20.0})\n",
    "\"\"\""
   ]
  },
  {
   "cell_type": "code",
   "execution_count": 43,
   "metadata": {},
   "outputs": [
    {
     "data": {
      "text/plain": [
       "\"\""
      ]
     },
     "execution_count": 43,
     "metadata": {},
     "output_type": "execute_result"
    }
   ],
   "source": [
    ";; And then the function 'discount-price' changes to 'compute-discount-price'\n",
    "\n",
    "\"\"\"\n",
    "(ns blottsbooks.pricing)\n",
    "\n",
    "(def discount-rate 0.15)\n",
    "\n",
    "(defn compute-discount-price [book]\n",
    "    (- (:price book)\n",
    "    (* discount-rate (:price book))))\n",
    "\"\"\""
   ]
  },
  {
   "cell_type": "code",
   "execution_count": 41,
   "metadata": {},
   "outputs": [
    {
     "data": {
      "text/plain": [
       "\"\""
      ]
     },
     "execution_count": 41,
     "metadata": {},
     "output_type": "execute_result"
    }
   ],
   "source": [
    ";; Trying to re-require the namespace won't take effect\n",
    "\n",
    "\"\"\"\n",
    "(require '[blottsbooks.pricing :as pricing])\n",
    "\n",
    "(pricing/compute-discount-price {:title \\\"Emma\\\" :price 20.0})\n",
    "\"\"\"\n"
   ]
  },
  {
   "cell_type": "code",
   "execution_count": 42,
   "metadata": {},
   "outputs": [
    {
     "data": {
      "text/plain": [
       "\"\""
      ]
     },
     "execution_count": 42,
     "metadata": {},
     "output_type": "execute_result"
    }
   ],
   "source": [
    ";; Instead, the ':reload' keyword should be used explicitly\n",
    "\n",
    "\"\"\"\n",
    "(require :reload '[blottsbooks.pricing :as pricing])\n",
    "\n",
    "(pricing/compute-discount-price {:title \\\"Emma\\\" :price 20.0})\n",
    "\"\"\"\n"
   ]
  },
  {
   "cell_type": "code",
   "execution_count": 46,
   "metadata": {},
   "outputs": [
    {
     "data": {
      "text/plain": [
       "\"\""
      ]
     },
     "execution_count": 46,
     "metadata": {},
     "output_type": "execute_result"
    }
   ],
   "source": [
    ";; To remove the last function name from the namespace,\n",
    ";; use 'ns-unmap' as follows\n",
    " \n",
    "\"\"\" \n",
    "(ns-unmap 'blottsbooks.pricing 'discount-price)\n",
    "\"\"\""
   ]
  },
  {
   "cell_type": "code",
   "execution_count": 48,
   "metadata": {},
   "outputs": [
    {
     "data": {
      "text/plain": [
       "\"\""
      ]
     },
     "execution_count": 48,
     "metadata": {},
     "output_type": "execute_result"
    }
   ],
   "source": [
    ";; In case there's a function that you want to execute only once, \n",
    ";; and not every time the namespace is reloaded, \n",
    ";; use the 'defonce' macro, as follows\n",
    "\n",
    "\"\"\"\n",
    "(defonce some-value (function-with-side-effects))\n",
    "\"\"\""
   ]
  },
  {
   "cell_type": "code",
   "execution_count": 49,
   "metadata": {},
   "outputs": [
    {
     "data": {
      "text/plain": [
       "\"\""
      ]
     },
     "execution_count": 49,
     "metadata": {},
     "output_type": "execute_result"
    }
   ],
   "source": [
    ";; Then, when you're done, remove it from the namespace as follows\n",
    "\n",
    "\"\"\"\n",
    "(ns-unmap *ns* 'some-value)\n",
    "\"\"\""
   ]
  }
 ],
 "metadata": {
  "kernelspec": {
   "display_name": "Clojure (clojupyter=0.3.2=1)",
   "language": "clojure",
   "name": "python397jvsc74a57bd089a790bea3b9cadff6bf73491f7cf161e4e94bfc015afe6a535623fbe4142b79"
  },
  "language_info": {
   "file_extension": ".clj",
   "mimetype": "text/x-clojure",
   "name": "clojure",
   "version": "1.10.1"
  },
  "orig_nbformat": 4
 },
 "nbformat": 4,
 "nbformat_minor": 2
}

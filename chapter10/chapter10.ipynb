{
 "cells": [
  {
   "cell_type": "markdown",
   "metadata": {},
   "source": [
    "# Sequences"
   ]
  },
  {
   "cell_type": "markdown",
   "metadata": {},
   "source": [
    "### One Thing After Another"
   ]
  },
  {
   "cell_type": "code",
   "execution_count": 4,
   "metadata": {},
   "outputs": [
    {
     "data": {
      "text/plain": [
       "#multifn[my-count 0x5616f07a]"
      ]
     },
     "execution_count": 4,
     "metadata": {},
     "output_type": "execute_result"
    }
   ],
   "source": [
    ";; A counter for different collection types \n",
    ";; using multimethods\n",
    "\n",
    "(defn flavor [x]\n",
    "    (cond\n",
    "        (list? x) :list\n",
    "        (vector? x) :vector\n",
    "        (set? x) :set\n",
    "        (map? x) :map\n",
    "        (string? x) :string\n",
    "        :else :unknown))\n",
    "\n",
    "(defmulti my-count flavor)\n",
    "\n",
    "(defmethod my-count :list [x] \n",
    "    ;(list-specific-count x)\n",
    "    )\n",
    "\n",
    "(defmethod my-count :vector [x] \n",
    "    ;(vector-specific-count x)\n",
    "    )"
   ]
  },
  {
   "cell_type": "code",
   "execution_count": 6,
   "metadata": {},
   "outputs": [
    {
     "data": {
      "text/plain": [
       "(\"Emma\" \"Oliver Twist\" \"Robinson Crusoe\")"
      ]
     },
     "execution_count": 6,
     "metadata": {},
     "output_type": "execute_result"
    }
   ],
   "source": [
    ";; Wrapping a vector in a sequence\n",
    "\n",
    "(def title-seq (seq [\"Emma\" \"Oliver Twist\" \"Robinson Crusoe\"]))\n",
    "\n",
    "title-seq ; Sequences are en closed in '()' like lists"
   ]
  },
  {
   "cell_type": "code",
   "execution_count": 10,
   "metadata": {},
   "outputs": [
    {
     "data": {
      "text/plain": [
       "(\"Emma\" \"Oliver Twist\" \"Robinson Crusoe\")"
      ]
     },
     "execution_count": 10,
     "metadata": {},
     "output_type": "execute_result"
    }
   ],
   "source": [
    ";; Wrapping a list in a sequence (they're not the same)\n",
    "\n",
    "(seq '(\"Emma\" \"Oliver Twist\" \"Robinson Crusoe\")) ; Note the single quote\n"
   ]
  },
  {
   "cell_type": "code",
   "execution_count": 9,
   "metadata": {},
   "outputs": [
    {
     "data": {
      "text/plain": [
       "([:title \"Emma\"] [:author \"Austen\"] [:published 1815])"
      ]
     },
     "execution_count": 9,
     "metadata": {},
     "output_type": "execute_result"
    }
   ],
   "source": [
    ";; Wrapping a map in a sequence\n",
    "\n",
    "(seq {:title \"Emma\", :author \"Austen\", :published 1815})\n"
   ]
  },
  {
   "cell_type": "code",
   "execution_count": 11,
   "metadata": {},
   "outputs": [
    {
     "data": {
      "text/plain": [
       "(\"Red Queen\" \"The Nightingale\" \"Uprooted\")"
      ]
     },
     "execution_count": 11,
     "metadata": {},
     "output_type": "execute_result"
    }
   ],
   "source": [
    ";; Wrapping a sequence in a sequence (yes, it's possible)\n",
    "\n",
    "(seq (seq [\"Red Queen\" \"The Nightingale\" \"Uprooted\"]))\n"
   ]
  },
  {
   "cell_type": "code",
   "execution_count": 12,
   "metadata": {},
   "outputs": [
    {
     "data": {
      "text/plain": [
       "nil"
      ]
     },
     "execution_count": 12,
     "metadata": {},
     "output_type": "execute_result"
    }
   ],
   "source": [
    ";; Wrapping empty collections in a sequence\n",
    "\n",
    "(seq [])\n"
   ]
  },
  {
   "cell_type": "code",
   "execution_count": 13,
   "metadata": {},
   "outputs": [
    {
     "data": {
      "text/plain": [
       "nil"
      ]
     },
     "execution_count": 13,
     "metadata": {},
     "output_type": "execute_result"
    }
   ],
   "source": [
    "(seq '())\n"
   ]
  },
  {
   "cell_type": "code",
   "execution_count": 14,
   "metadata": {},
   "outputs": [
    {
     "data": {
      "text/plain": [
       "nil"
      ]
     },
     "execution_count": 14,
     "metadata": {},
     "output_type": "execute_result"
    }
   ],
   "source": [
    "(seq {})\n"
   ]
  },
  {
   "cell_type": "markdown",
   "metadata": {},
   "source": [
    "### A Universal Interface\n"
   ]
  },
  {
   "cell_type": "code",
   "execution_count": 16,
   "metadata": {},
   "outputs": [
    {
     "data": {
      "text/plain": [
       "\"Emma\""
      ]
     },
     "execution_count": 16,
     "metadata": {},
     "output_type": "execute_result"
    }
   ],
   "source": [
    ";; Get the first element of a sequence\n",
    "\n",
    "(first (seq '(\"Emma\" \"Oliver Twist\" \"Robinson Crusoe\")))\n"
   ]
  },
  {
   "cell_type": "code",
   "execution_count": 18,
   "metadata": {},
   "outputs": [
    {
     "data": {
      "text/plain": [
       "(\"Oliver Twist\" \"Robinson Crusoe\")"
      ]
     },
     "execution_count": 18,
     "metadata": {},
     "output_type": "execute_result"
    }
   ],
   "source": [
    ";; Get everything except the first element of a sequence\n",
    "\n",
    "(rest (seq '(\"Emma\" \"Oliver Twist\" \"Robinson Crusoe\")))\n"
   ]
  },
  {
   "cell_type": "code",
   "execution_count": 20,
   "metadata": {},
   "outputs": [
    {
     "data": {
      "text/plain": [
       "(\"Emma\" \"Oliver Twist\" \"Robinson Crusoe\")"
      ]
     },
     "execution_count": 20,
     "metadata": {},
     "output_type": "execute_result"
    }
   ],
   "source": [
    ";; Add an element to the front of the sequence\n",
    "\n",
    "(cons \"Emma\" (seq '(\"Oliver Twist\" \"Robinson Crusoe\")))\n"
   ]
  },
  {
   "cell_type": "code",
   "execution_count": 23,
   "metadata": {},
   "outputs": [
    {
     "data": {
      "text/plain": [
       "3"
      ]
     },
     "execution_count": 23,
     "metadata": {},
     "output_type": "execute_result"
    }
   ],
   "source": [
    ";; Given the last examples of sequences, \n",
    ";; The generic counter above defined can be implemented as follows\n",
    "\n",
    "(defn my-count [col]\n",
    "    (let [the-seq (seq col)]\n",
    "    (loop [n 0 s the-seq]\n",
    "        (if (seq s) ; 'seq' of an empty sequence is nil\n",
    "            (recur (inc n) (rest s))\n",
    "            n))))\n",
    "\n",
    "(my-count (seq '(\"Emma\" \"Oliver Twist\" \"Robinson Crusoe\")))"
   ]
  },
  {
   "cell_type": "code",
   "execution_count": 24,
   "metadata": {},
   "outputs": [
    {
     "data": {
      "text/plain": [
       "(2 3)"
      ]
     },
     "execution_count": 24,
     "metadata": {},
     "output_type": "execute_result"
    }
   ],
   "source": [
    ";; The functions 'rest', 'next' and 'count' always return sequences\n",
    "\n",
    "(rest [1 2 3])"
   ]
  },
  {
   "cell_type": "code",
   "execution_count": 27,
   "metadata": {},
   "outputs": [
    {
     "data": {
      "text/plain": [
       "([:lname \"Austen\"])"
      ]
     },
     "execution_count": 27,
     "metadata": {},
     "output_type": "execute_result"
    }
   ],
   "source": [
    "(next {:fname \"Jane\" :lname \"Austen\"})"
   ]
  },
  {
   "cell_type": "code",
   "execution_count": 28,
   "metadata": {},
   "outputs": [
    {
     "data": {
      "text/plain": [
       "(0 1 3 2)"
      ]
     },
     "execution_count": 28,
     "metadata": {},
     "output_type": "execute_result"
    }
   ],
   "source": [
    "(cons 0 #{1 2 3}) "
   ]
  },
  {
   "cell_type": "markdown",
   "metadata": {},
   "source": [
    "### A Rich Toolkit …"
   ]
  },
  {
   "cell_type": "markdown",
   "metadata": {},
   "source": [
    "sort"
   ]
  },
  {
   "cell_type": "code",
   "execution_count": 29,
   "metadata": {},
   "outputs": [
    {
     "data": {
      "text/plain": [
       "(\"2001\" \"Dracula\" \"Emma\" \"Jaws\")"
      ]
     },
     "execution_count": 29,
     "metadata": {},
     "output_type": "execute_result"
    }
   ],
   "source": [
    ";; Sorting elements with 'sort'\n",
    "\n",
    "(def titles [\"Jaws\" \"Emma\" \"2001\" \"Dracula\"])\n",
    "\n",
    "(sort titles) "
   ]
  },
  {
   "cell_type": "markdown",
   "metadata": {},
   "source": [
    "reverse"
   ]
  },
  {
   "cell_type": "code",
   "execution_count": 30,
   "metadata": {},
   "outputs": [
    {
     "data": {
      "text/plain": [
       "(\"Dracula\" \"2001\" \"Emma\" \"Jaws\")"
      ]
     },
     "execution_count": 30,
     "metadata": {},
     "output_type": "execute_result"
    }
   ],
   "source": [
    ";; Reversing elements with 'reverse'\n",
    "\n",
    "(reverse titles)\n"
   ]
  },
  {
   "cell_type": "code",
   "execution_count": 34,
   "metadata": {},
   "outputs": [
    {
     "data": {
      "text/plain": [
       "(\"Jaws\" \"Emma\" \"Dracula\" \"2001\")"
      ]
     },
     "execution_count": 34,
     "metadata": {},
     "output_type": "execute_result"
    }
   ],
   "source": [
    ";; Reverse the sorted elements with the last 2 functions\n",
    "\n",
    "(reverse (sort titles))"
   ]
  },
  {
   "cell_type": "markdown",
   "metadata": {},
   "source": [
    "partition"
   ]
  },
  {
   "cell_type": "code",
   "execution_count": 39,
   "metadata": {},
   "outputs": [
    {
     "data": {
      "text/plain": [
       "((\"Jaws\" \"Benchley\") (\"2001\" \"Clarke\"))"
      ]
     },
     "execution_count": 39,
     "metadata": {},
     "output_type": "execute_result"
    }
   ],
   "source": [
    ";; Divide a sequence in a specified number with 'partition'\n",
    "\n",
    "(def titles-and-authors [\"Jaws\" \"Benchley\" \"2001\" \"Clarke\"])\n",
    "\n",
    "(partition 2 titles-and-authors)\n"
   ]
  },
  {
   "cell_type": "markdown",
   "metadata": {},
   "source": [
    "interleave"
   ]
  },
  {
   "cell_type": "code",
   "execution_count": 40,
   "metadata": {},
   "outputs": [
    {
     "data": {
      "text/plain": [
       "(\"Jaws\" \"Benchley\" \"2001\" \"Clarke\")"
      ]
     },
     "execution_count": 40,
     "metadata": {},
     "output_type": "execute_result"
    }
   ],
   "source": [
    ";; Combine 2 sequences into one with 'interleave'\n",
    "\n",
    "(def titles [\"Jaws\" \"2001\"])\n",
    "\n",
    "(def authors '(\"Benchley\" \"Clarke\"))\n",
    "\n",
    "(interleave titles authors)"
   ]
  },
  {
   "cell_type": "markdown",
   "metadata": {},
   "source": [
    "interpose"
   ]
  },
  {
   "cell_type": "code",
   "execution_count": 42,
   "metadata": {},
   "outputs": [
    {
     "data": {
      "text/plain": [
       "(\"Lions\" \"and\" \"Tigers\" \"and\" \"Bears\")"
      ]
     },
     "execution_count": 42,
     "metadata": {},
     "output_type": "execute_result"
    }
   ],
   "source": [
    ";; Add a separator between elements of a sequence with 'interpose'\n",
    "\n",
    "(def scary-animals [\"Lions\" \"Tigers\" \"Bears\"])\n",
    "\n",
    "(interpose \"and\" scary-animals)\n"
   ]
  },
  {
   "cell_type": "markdown",
   "metadata": {},
   "source": [
    "### … Made Richer with Functional Values\n"
   ]
  },
  {
   "cell_type": "markdown",
   "metadata": {},
   "source": [
    "filter"
   ]
  },
  {
   "cell_type": "code",
   "execution_count": 43,
   "metadata": {},
   "outputs": [
    {
     "data": {
      "text/plain": [
       "(-22 -99 -77)"
      ]
     },
     "execution_count": 43,
     "metadata": {},
     "output_type": "execute_result"
    }
   ],
   "source": [
    ";; The 'filter' function works with sequences\n",
    "\n",
    "(filter neg? '(1 -22 3 -99 4 5 6 -77))\n"
   ]
  },
  {
   "cell_type": "code",
   "execution_count": 49,
   "metadata": {},
   "outputs": [
    {
     "data": {
      "text/plain": [
       "#'user/cheap?"
      ]
     },
     "execution_count": 49,
     "metadata": {},
     "output_type": "execute_result"
    }
   ],
   "source": [
    ";; Given the vector of books and the predicate function \n",
    ";; that find inexpensive books\n",
    "\n",
    "(def books\n",
    "    [{:title \"Deep Six\" :price 13.99 :genre :sci-fi :rating 6}\n",
    "     {:title \"Dracula\" :price 1.99 :genre :horror :rating 7}\n",
    "     {:title \"Emma\" :price 7.99 :genre :comedy :rating 9}\n",
    "     {:title \"2001\" :price 10.50 :genre :sci-fi :rating 5}])\n",
    "\n",
    "(defn cheap? [book]\n",
    "    (when (<= (:price book) 9.99) book))\n"
   ]
  },
  {
   "cell_type": "code",
   "execution_count": 50,
   "metadata": {},
   "outputs": [
    {
     "data": {
      "text/plain": [
       "({:title \"Dracula\", :price 1.99, :genre :horror, :rating 7} {:title \"Emma\", :price 7.99, :genre :comedy, :rating 9})"
      ]
     },
     "execution_count": 50,
     "metadata": {},
     "output_type": "execute_result"
    }
   ],
   "source": [
    ";; 'filter' can work with them\n",
    "\n",
    "(filter cheap? books)\n"
   ]
  },
  {
   "cell_type": "markdown",
   "metadata": {},
   "source": [
    "some"
   ]
  },
  {
   "cell_type": "code",
   "execution_count": 51,
   "metadata": {},
   "outputs": [
    {
     "data": {
      "text/plain": [
       "{:title \"Dracula\", :price 1.99, :genre :horror, :rating 7}"
      ]
     },
     "execution_count": 51,
     "metadata": {},
     "output_type": "execute_result"
    }
   ],
   "source": [
    ";; The 'some' function will return the first truthy value in a sequence\n",
    "\n",
    "(some cheap? books)"
   ]
  },
  {
   "cell_type": "code",
   "execution_count": 52,
   "metadata": {},
   "outputs": [
    {
     "name": "stdout",
     "output_type": "stream",
     "text": [
      "We have cheap books for sale!\n"
     ]
    },
    {
     "data": {
      "text/plain": [
       "nil"
      ]
     },
     "execution_count": 52,
     "metadata": {},
     "output_type": "execute_result"
    }
   ],
   "source": [
    ";; Since 'some' returns either the first truthy value or nil,\n",
    ";; it can easily be used in conditionals, as follows\n",
    "\n",
    "(if (some cheap? books)\n",
    "    (println \"We have cheap books for sale!\"))\n"
   ]
  },
  {
   "cell_type": "markdown",
   "metadata": {},
   "source": [
    "map"
   ]
  },
  {
   "cell_type": "code",
   "execution_count": 55,
   "metadata": {},
   "outputs": [
    {
     "data": {
      "text/plain": [
       "(2 106 1622)"
      ]
     },
     "execution_count": 55,
     "metadata": {},
     "output_type": "execute_result"
    }
   ],
   "source": [
    ";; The 'map' function applies a function to each element of a sequence\n",
    "\n",
    "(def some-numbers [1, 53, 811])\n",
    "\n",
    "(def doubled (map #(* 2 %) some-numbers)) ; Double the elements of the sequence\n",
    "\n",
    "doubled\n"
   ]
  },
  {
   "cell_type": "code",
   "execution_count": 59,
   "metadata": {},
   "outputs": [
    {
     "data": {
      "text/plain": [
       "(\"Deep Six\" \"Dracula\" \"Emma\" \"2001\")"
      ]
     },
     "execution_count": 59,
     "metadata": {},
     "output_type": "execute_result"
    }
   ],
   "source": [
    ";; 'map' can also take arbitrary functions and sequences\n",
    "\n",
    "(map (fn [book] (:title book)) books) ; Get only the titles of 'books'\n"
   ]
  },
  {
   "cell_type": "code",
   "execution_count": 60,
   "metadata": {},
   "outputs": [
    {
     "data": {
      "text/plain": [
       "(\"Deep Six\" \"Dracula\" \"Emma\" \"2001\")"
      ]
     },
     "execution_count": 60,
     "metadata": {},
     "output_type": "execute_result"
    }
   ],
   "source": [
    ";; Since keywords can look themselves in maps,\n",
    ";; the last example can be shortened as follows\n",
    "\n",
    "(map :title books)"
   ]
  },
  {
   "cell_type": "code",
   "execution_count": 62,
   "metadata": {},
   "outputs": [
    {
     "data": {
      "text/plain": [
       "(8 7 4 4)"
      ]
     },
     "execution_count": 62,
     "metadata": {},
     "output_type": "execute_result"
    }
   ],
   "source": [
    ";; But to get the lengths of the book titles, \n",
    ";; an anonymous function is required again\n",
    "\n",
    "(map (fn [book] (count (:title book))) books)\n"
   ]
  },
  {
   "cell_type": "markdown",
   "metadata": {},
   "source": [
    "comp"
   ]
  },
  {
   "cell_type": "code",
   "execution_count": 65,
   "metadata": {},
   "outputs": [
    {
     "data": {
      "text/plain": [
       "(8 7 4 4)"
      ]
     },
     "execution_count": 65,
     "metadata": {},
     "output_type": "execute_result"
    }
   ],
   "source": [
    ";; Using 'comp' to shorten the last example\n",
    "\n",
    "(map (comp count :title) books) ; (*)\n",
    "\n",
    "; (*) The comp function takes any number of functions \n",
    "; and returns a function that applies each of the input functions."
   ]
  },
  {
   "cell_type": "markdown",
   "metadata": {},
   "source": [
    "for"
   ]
  },
  {
   "cell_type": "code",
   "execution_count": 67,
   "metadata": {},
   "outputs": [
    {
     "data": {
      "text/plain": [
       "(8 7 4 4)"
      ]
     },
     "execution_count": 67,
     "metadata": {},
     "output_type": "execute_result"
    }
   ],
   "source": [
    ";; The 'for' function, which returns identical results to 'map',\n",
    ";; is similar to for loops in imperative languages\n",
    "\n",
    "(for [b books]\n",
    "    (count (:title b)))\n"
   ]
  },
  {
   "cell_type": "markdown",
   "metadata": {},
   "source": [
    "reduce"
   ]
  },
  {
   "cell_type": "code",
   "execution_count": 69,
   "metadata": {},
   "outputs": [
    {
     "data": {
      "text/plain": [
       "150"
      ]
     },
     "execution_count": 69,
     "metadata": {},
     "output_type": "execute_result"
    }
   ],
   "source": [
    ";; Given a sequence, a 'reducing function' and an initial value\n",
    "\n",
    "(def numbers [10 20 30 40 50])\n",
    "\n",
    "(defn add2 [a b]\n",
    "    (+ a b))\n",
    "\n",
    "(def initial-value 0)\n"
   ]
  },
  {
   "cell_type": "code",
   "execution_count": 71,
   "metadata": {},
   "outputs": [
    {
     "data": {
      "text/plain": [
       "150"
      ]
     },
     "execution_count": 71,
     "metadata": {},
     "output_type": "execute_result"
    }
   ],
   "source": [
    ";; The 'reduce' function starst with the initial value,\n",
    ";; applies the reducing function with the initial value and the 1st element, then\n",
    ";; applies the reducing function with the result of the first function call and the 2nd element,\n",
    ";; and the process repeats until all elements of the sequence are processed\n",
    "\n",
    "(reduce add2 initial-value numbers)\n"
   ]
  },
  {
   "cell_type": "code",
   "execution_count": 77,
   "metadata": {},
   "outputs": [
    {
     "data": {
      "text/plain": [
       "150"
      ]
     },
     "execution_count": 77,
     "metadata": {},
     "output_type": "execute_result"
    }
   ],
   "source": [
    ";; Since the '+' operator is an ordinary function, the last example\n",
    ";; can be shortened as follows\n",
    "\n",
    "(reduce + initial-value numbers)\n"
   ]
  },
  {
   "cell_type": "code",
   "execution_count": 75,
   "metadata": {},
   "outputs": [
    {
     "data": {
      "text/plain": [
       "150"
      ]
     },
     "execution_count": 75,
     "metadata": {},
     "output_type": "execute_result"
    }
   ],
   "source": [
    ";; In some cases even the initial value can be omitted, \n",
    ";; since 'reduce' will use the 1st sequence element as initial value\n",
    "\n",
    "(reduce + numbers)\n"
   ]
  },
  {
   "cell_type": "code",
   "execution_count": 79,
   "metadata": {},
   "outputs": [
    {
     "data": {
      "text/plain": [
       "#'user/hi-price"
      ]
     },
     "execution_count": 79,
     "metadata": {},
     "output_type": "execute_result"
    }
   ],
   "source": [
    ";; Given the 'books' vector and a new reducer function \n",
    ";; that finds the highest price of a book\n",
    "\n",
    "(defn hi-price [hi book]\n",
    "    (if (> (:price book) hi)\n",
    "        (:price book)\n",
    "        hi))\n"
   ]
  },
  {
   "cell_type": "code",
   "execution_count": 80,
   "metadata": {},
   "outputs": [
    {
     "data": {
      "text/plain": [
       "13.99"
      ]
     },
     "execution_count": 80,
     "metadata": {},
     "output_type": "execute_result"
    }
   ],
   "source": [
    ";; 'reduce' can easily use them, as folllows\n",
    "\n",
    "(reduce hi-price 0 books)\n"
   ]
  },
  {
   "cell_type": "markdown",
   "metadata": {},
   "source": [
    "### Composing the last functions"
   ]
  },
  {
   "cell_type": "code",
   "execution_count": 113,
   "metadata": {},
   "outputs": [
    {
     "data": {
      "text/plain": [
       "#'user/books"
      ]
     },
     "execution_count": 113,
     "metadata": {},
     "output_type": "execute_result"
    }
   ],
   "source": [
    ";; We need to create a string with the 3 top-rated books \n",
    ";; from the 'books' vector, repeated here for convenience\n",
    "\n",
    "(def books\n",
    "    [{:title \"Deep Six\" :price 13.99 :genre :sci-fi :rating 6}\n",
    "     {:title \"Dracula\" :price 1.99 :genre :horror :rating 7}\n",
    "     {:title \"Emma\" :price 7.99 :genre :comedy :rating 9}\n",
    "     {:title \"2001\" :price 10.50 :genre :sci-fi :rating 5}])\n"
   ]
  },
  {
   "cell_type": "code",
   "execution_count": 114,
   "metadata": {},
   "outputs": [
    {
     "data": {
      "text/plain": [
       "({:title \"Emma\", :price 7.99, :genre :comedy, :rating 9} {:title \"Dracula\", :price 1.99, :genre :horror, :rating 7} {:title \"Deep Six\", :price 13.99, :genre :sci-fi, :rating 6} {:title \"2001\", :price 10.5, :genre :sci-fi, :rating 5})"
      ]
     },
     "execution_count": 114,
     "metadata": {},
     "output_type": "execute_result"
    }
   ],
   "source": [
    ";; First, sort the books in descending order\n",
    "\n",
    "(reverse (sort-by :rating books))\n"
   ]
  },
  {
   "cell_type": "code",
   "execution_count": 115,
   "metadata": {},
   "outputs": [
    {
     "data": {
      "text/plain": [
       "({:title \"Emma\", :price 7.99, :genre :comedy, :rating 9} {:title \"Dracula\", :price 1.99, :genre :horror, :rating 7} {:title \"Deep Six\", :price 13.99, :genre :sci-fi, :rating 6})"
      ]
     },
     "execution_count": 115,
     "metadata": {},
     "output_type": "execute_result"
    }
   ],
   "source": [
    ";; Then take the 3 first elements of the last sequence\n",
    "\n",
    "(take 3 (reverse (sort-by :rating books)))\n"
   ]
  },
  {
   "cell_type": "code",
   "execution_count": 116,
   "metadata": {},
   "outputs": [
    {
     "data": {
      "text/plain": [
       "(\"Emma\" \"Dracula\" \"Deep Six\")"
      ]
     },
     "execution_count": 116,
     "metadata": {},
     "output_type": "execute_result"
    }
   ],
   "source": [
    ";; Then get the titles of the book elements of last sequence\n",
    "\n",
    "(map :title (take 3 (reverse (sort-by :rating books))))\n"
   ]
  },
  {
   "cell_type": "code",
   "execution_count": 117,
   "metadata": {},
   "outputs": [
    {
     "data": {
      "text/plain": [
       "(\"Emma\" \" // \" \"Dracula\" \" // \" \"Deep Six\")"
      ]
     },
     "execution_count": 117,
     "metadata": {},
     "output_type": "execute_result"
    }
   ],
   "source": [
    ";; Then add a separator to the last sequence\n",
    "\n",
    "(interpose\n",
    "    \" // \"\n",
    "    (map :title (take 3 (reverse (sort-by :rating books)))))"
   ]
  },
  {
   "cell_type": "code",
   "execution_count": 118,
   "metadata": {},
   "outputs": [
    {
     "data": {
      "text/plain": [
       "\"Emma // Dracula // Deep Six\""
      ]
     },
     "execution_count": 118,
     "metadata": {},
     "output_type": "execute_result"
    }
   ],
   "source": [
    ";; So the complete function looks like the following\n",
    "\n",
    "(defn format-top-titles [books]\n",
    "    (let [sorted-books (reverse (sort-by :rating books))\n",
    "          first-three-books (take 3 sorted-books)\n",
    "          first-three-titles (map :title first-three-books)]\n",
    "    (apply str (interpose \" // \" first-three-titles))))\n",
    "\n",
    "(format-top-titles books)"
   ]
  },
  {
   "cell_type": "code",
   "execution_count": 119,
   "metadata": {},
   "outputs": [
    {
     "data": {
      "text/plain": [
       "\"Emma // Dracula // Deep Six\""
      ]
     },
     "execution_count": 119,
     "metadata": {},
     "output_type": "execute_result"
    }
   ],
   "source": [
    ";; The last function can be simplified with \n",
    ";; '->>' (thread-last macro), as follows\n",
    "\n",
    "(defn format-top-titles [books]\n",
    "    (->>\n",
    "        books\n",
    "        (sort-by :rating)\n",
    "        reverse\n",
    "        (take 3)\n",
    "        (map :title)\n",
    "        (interpose \" // \")\n",
    "        (apply str)))\n",
    "\n",
    "(format-top-titles books)"
   ]
  },
  {
   "cell_type": "markdown",
   "metadata": {},
   "source": [
    "### Other source of sequences"
   ]
  },
  {
   "cell_type": "code",
   "execution_count": 120,
   "metadata": {},
   "outputs": [
    {
     "data": {
      "text/plain": [
       "#'user/listed-author?"
      ]
     },
     "execution_count": 120,
     "metadata": {},
     "output_type": "execute_result"
    }
   ],
   "source": [
    ";; The 'line-seq' can convert the contents of a text file in a sequence\n",
    "\n",
    "(require '[clojure.java.io :as io])\n",
    "\n",
    "(defn listed-author? [author]\n",
    "    (with-open [r (io/reader \"authors.txt\")]\n",
    "        (some (partial = author) (line-seq r))))\n"
   ]
  },
  {
   "cell_type": "code",
   "execution_count": 121,
   "metadata": {},
   "outputs": [
    {
     "name": "stdout",
     "output_type": "stream",
     "text": [
      "We have a classic!\n"
     ]
    },
    {
     "data": {
      "text/plain": [
       "nil"
      ]
     },
     "execution_count": 121,
     "metadata": {},
     "output_type": "execute_result"
    }
   ],
   "source": [
    ";; Strings characters also can be manipulated as sequences\n",
    ";; (in this case, matching a string against a regex (regular expression))\n",
    "\n",
    "(def re #\"Pride and Prejudice.*\") ; A regex that matches Pride and Prejudice followed by anything.\n",
    "\n",
    "(def title \"Pride and Prejudice and Zombies\") ; A string that may or may not match.\n",
    "\n",
    "(if (re-matches re title)\n",
    "    (println \"We have a classic!\"))\n"
   ]
  },
  {
   "cell_type": "code",
   "execution_count": 122,
   "metadata": {},
   "outputs": [
    {
     "data": {
      "text/plain": [
       "(\"Pride\" \"and\" \"Prejudice\" \"and\" \"Zombies\")"
      ]
     },
     "execution_count": 122,
     "metadata": {},
     "output_type": "execute_result"
    }
   ],
   "source": [
    ";; The 're-seq' function generates a sequence of strings\n",
    ";; that match a given regex\n",
    "\n",
    "(def title \"Pride and Prejudice and Zombies\") ; A string that may or may not match.\n",
    "\n",
    "(re-seq #\"\\w+\" title)\n",
    "\n"
   ]
  },
  {
   "cell_type": "markdown",
   "metadata": {},
   "source": [
    "### Issues with sequences"
   ]
  },
  {
   "cell_type": "code",
   "execution_count": 124,
   "metadata": {},
   "outputs": [
    {
     "data": {
      "text/plain": [
       "\"Dashner\""
      ]
     },
     "execution_count": 124,
     "metadata": {},
     "output_type": "execute_result"
    }
   ],
   "source": [
    ";; When converting maps to sequences, they lose the key-to-value pairing ability\n",
    "\n",
    "(def maze-runner {:title \"The Maze Runner\" :author \"Dashner\"})\n"
   ]
  },
  {
   "cell_type": "code",
   "execution_count": 126,
   "metadata": {},
   "outputs": [
    {
     "data": {
      "text/plain": [
       "\"Dashner\""
      ]
     },
     "execution_count": 126,
     "metadata": {},
     "output_type": "execute_result"
    }
   ],
   "source": [
    ";; The original map works fine\n",
    "\n",
    "(:author maze-runner)\n"
   ]
  },
  {
   "cell_type": "code",
   "execution_count": 127,
   "metadata": {},
   "outputs": [
    {
     "data": {
      "text/plain": [
       "nil"
      ]
     },
     "execution_count": 127,
     "metadata": {},
     "output_type": "execute_result"
    }
   ],
   "source": [
    ";; But the converted sequence returns nil\n",
    "\n",
    "(:author (seq maze-runner))\n"
   ]
  },
  {
   "cell_type": "code",
   "execution_count": 129,
   "metadata": {},
   "outputs": [
    {
     "data": {
      "text/plain": [
       "nil"
      ]
     },
     "execution_count": 129,
     "metadata": {},
     "output_type": "execute_result"
    }
   ],
   "source": [
    ";; But this occurs not only with explicitly converted sequences,\n",
    ";; functions that return sequences show the same behavior\n",
    "\n",
    "(:author (rest maze-runner))"
   ]
  },
  {
   "cell_type": "code",
   "execution_count": 132,
   "metadata": {},
   "outputs": [
    {
     "data": {
      "text/plain": [
       "[\"Emma\" \"1984\" \"The Maze Runner\" \"Jaws\"]"
      ]
     },
     "execution_count": 132,
     "metadata": {},
     "output_type": "execute_result"
    }
   ],
   "source": [
    ";; The 'conj' function returns the same collection type it was passed in\n",
    "\n",
    "(conj [\"Emma\" \"1984\" \"The Maze Runner\"] \"Jaws\")"
   ]
  },
  {
   "cell_type": "code",
   "execution_count": 131,
   "metadata": {},
   "outputs": [
    {
     "data": {
      "text/plain": [
       "(\"Jaws\" \"Emma\" \"1984\" \"The Maze Runner\")"
      ]
     },
     "execution_count": 131,
     "metadata": {},
     "output_type": "execute_result"
    }
   ],
   "source": [
    "(conj '(\"Emma\" \"1984\" \"The Maze Runner\") \"Jaws\")\n"
   ]
  },
  {
   "cell_type": "code",
   "execution_count": 136,
   "metadata": {},
   "outputs": [
    {
     "data": {
      "text/plain": [
       "(\"Jaws\" \"Emma\" \"1984\" \"The Maze Runner\")"
      ]
     },
     "execution_count": 136,
     "metadata": {},
     "output_type": "execute_result"
    }
   ],
   "source": [
    ";; But the 'cons' function returns sequences no matter what collection type\n",
    ";; was passed in\n",
    "\n",
    "(cons \"Jaws\" [\"Emma\" \"1984\" \"The Maze Runner\"])"
   ]
  },
  {
   "cell_type": "code",
   "execution_count": 137,
   "metadata": {},
   "outputs": [
    {
     "data": {
      "text/plain": [
       "(\"Jaws\" \"Emma\" \"1984\" \"The Maze Runner\")"
      ]
     },
     "execution_count": 137,
     "metadata": {},
     "output_type": "execute_result"
    }
   ],
   "source": [
    "(cons \"Jaws\" '(\"Emma\" \"1984\" \"The Maze Runner\"))\n"
   ]
  }
 ],
 "metadata": {
  "kernelspec": {
   "display_name": "Clojure (clojupyter=0.3.2=1)",
   "language": "clojure",
   "name": "python397jvsc74a57bd089a790bea3b9cadff6bf73491f7cf161e4e94bfc015afe6a535623fbe4142b79"
  },
  "language_info": {
   "file_extension": ".clj",
   "mimetype": "text/x-clojure",
   "name": "clojure",
   "version": "1.10.1"
  },
  "orig_nbformat": 4
 },
 "nbformat": 4,
 "nbformat_minor": 2
}

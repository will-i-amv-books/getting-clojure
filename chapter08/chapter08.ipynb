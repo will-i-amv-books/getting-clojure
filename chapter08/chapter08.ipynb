{
 "cells": [
  {
   "cell_type": "markdown",
   "metadata": {},
   "source": [
    "# Def, Symbols, and Vars\n"
   ]
  },
  {
   "cell_type": "markdown",
   "metadata": {},
   "source": [
    "### A Global, Stable Place for Your Stuff"
   ]
  },
  {
   "cell_type": "code",
   "execution_count": null,
   "metadata": {},
   "outputs": [],
   "source": [
    ";; 'def' binds a symbol to a value\n",
    "\n",
    "(def title \"Emma\")\n"
   ]
  },
  {
   "cell_type": "code",
   "execution_count": null,
   "metadata": {},
   "outputs": [],
   "source": [
    ";; 'def' is useful to store constants\n",
    "\n",
    "(def PI 3.14) ; Everyone's favorite universal constant.\n",
    "\n",
    "(def ISBN-LENGTH 13) ; Length of a standard book ID.\n",
    "\n",
    "(def COMPANY-NAME \"Blotts Books\") ; Company names are more or less constant.\n"
   ]
  },
  {
   "cell_type": "code",
   "execution_count": null,
   "metadata": {},
   "outputs": [],
   "source": [
    ";; 'defn' is just 'def' + 'fn'\n",
    "\n",
    "(defn book-description [book]\n",
    "    (str (:title book)\n",
    "         \" Written by \"\n",
    "         (:author book)))\n"
   ]
  },
  {
   "cell_type": "code",
   "execution_count": null,
   "metadata": {},
   "outputs": [],
   "source": [
    "(def book-description\n",
    "    (fn [book]\n",
    "        (str (:title book)\n",
    "             \" Written by \"\n",
    "             (:author book))))\n"
   ]
  },
  {
   "cell_type": "code",
   "execution_count": null,
   "metadata": {},
   "outputs": [],
   "source": [
    ";; Bindings from a given 'def' can be used in other bindings\n",
    "\n",
    "(def ISBN-LENGTH 13) ; Length of a standard book ID.\n",
    "\n",
    "(def OLD-ISBN-LENGTH 10) ; Before 2007 ISBNs were 10 characters long.\n",
    "\n",
    "(def isbn-lengths [OLD-ISBN-LENGTH ISBN-LENGTH])"
   ]
  },
  {
   "cell_type": "code",
   "execution_count": null,
   "metadata": {},
   "outputs": [],
   "source": [
    ";; Or inside functions\n",
    "\n",
    "(defn valid-isbn [isbn]\n",
    "    (or (= (count isbn) OLD-ISBN-LENGTH)\n",
    "        (= (count isbn) ISBN-LENGTH)))\n"
   ]
  },
  {
   "cell_type": "markdown",
   "metadata": {},
   "source": [
    "### Symbols are things"
   ]
  },
  {
   "cell_type": "code",
   "execution_count": null,
   "metadata": {},
   "outputs": [],
   "source": [
    ";; This expression involves 2 values: the string \"Austen\" and the symbol author\n",
    "\n",
    "(def author \"Austen\")\n"
   ]
  },
  {
   "cell_type": "code",
   "execution_count": null,
   "metadata": {},
   "outputs": [],
   "source": [
    ";; THe single quote prevents the symbol from being evaluated\n",
    "\n",
    "'author\n"
   ]
  },
  {
   "cell_type": "code",
   "execution_count": null,
   "metadata": {},
   "outputs": [],
   "source": [
    ";; Symbols can be manipulated as any other value\n",
    "\n",
    "(str 'author) ; Symbols can be converted to strings\n"
   ]
  },
  {
   "cell_type": "code",
   "execution_count": null,
   "metadata": {},
   "outputs": [],
   "source": [
    "(= 'title 'title) ;Symbols can be used inside expressions\n"
   ]
  },
  {
   "cell_type": "markdown",
   "metadata": {},
   "source": [
    "### Bindings Are Things Too"
   ]
  },
  {
   "cell_type": "code",
   "execution_count": null,
   "metadata": {},
   "outputs": [],
   "source": [
    ";; When invoking 'def', a 'var' is created\n",
    "\n",
    "(def author \"Austen\")\n"
   ]
  },
  {
   "cell_type": "code",
   "execution_count": null,
   "metadata": {},
   "outputs": [],
   "source": [
    ";; A 'var' can be accessed (without evaluating it) as follows\n",
    "\n",
    "#'author\n"
   ]
  },
  {
   "cell_type": "code",
   "execution_count": null,
   "metadata": {},
   "outputs": [],
   "source": [
    ";; Vars can be used inside another vars like any other value\n",
    "\n",
    "(def the-var #'author)\n"
   ]
  },
  {
   "cell_type": "code",
   "execution_count": null,
   "metadata": {},
   "outputs": [],
   "source": [
    ";; Get the value of the var\n",
    "\n",
    "(.get the-var) ; Using java methods\n"
   ]
  },
  {
   "cell_type": "code",
   "execution_count": null,
   "metadata": {},
   "outputs": [],
   "source": [
    ";; Get the symbol of the var\n",
    "\n",
    "(.-sym the-var) ; Using java methods\n"
   ]
  },
  {
   "cell_type": "markdown",
   "metadata": {},
   "source": [
    "###  Varying Your Vars"
   ]
  },
  {
   "cell_type": "code",
   "execution_count": null,
   "metadata": {},
   "outputs": [],
   "source": [
    ";; Given the following var and function\n",
    "\n",
    "(def PI 3.14)\n",
    "\n",
    "(defn compute-area [diameter]\n",
    "    (* PI diameter diameter))\n",
    "\n",
    "(compute-area 4)"
   ]
  },
  {
   "cell_type": "code",
   "execution_count": null,
   "metadata": {},
   "outputs": [],
   "source": [
    ";; Although not recommended in production, they can me modified \n",
    ";; (bounded to another set of values) as follows\n",
    "\n",
    "(def PI 3.14159)\n",
    "\n",
    "(defn compute-area [diameter]\n",
    "    (let [radius (/ diameter 2)]\n",
    "        (* PI radius radius)))\n",
    "\n",
    "(compute-area 4)\n"
   ]
  },
  {
   "cell_type": "code",
   "execution_count": null,
   "metadata": {},
   "outputs": [],
   "source": [
    ";; Vars intended to be changed at some point of time \n",
    ";; are defined with '^dynamic' metadata, as follows\n",
    "\n",
    "(def ^:dynamic *debug-enabled* false) ; By convention, dynamic vars are enclosed in asterisks\n",
    "\n",
    "(defn debug [msg]\n",
    "    (if *debug-enabled* (println msg)))\n"
   ]
  },
  {
   "cell_type": "code",
   "execution_count": null,
   "metadata": {},
   "outputs": [],
   "source": [
    ";; The last var can be dynamically bounded to another value\n",
    ";; with 'binding', as follows\n",
    "\n",
    "(defn some-troublesome-function-that-needs-logging [] \n",
    "    (println \"The darned function\"))\n",
    "\n",
    "(binding [*debug-enabled* true]\n",
    "    (debug \"Calling that darned function\")\n",
    "    (some-troublesome-function-that-needs-logging)\n",
    "    (debug \"Back from that darned function\"))\n",
    "\n"
   ]
  },
  {
   "cell_type": "markdown",
   "metadata": {},
   "source": [
    "### Issues with vars\n"
   ]
  },
  {
   "cell_type": "code",
   "execution_count": 66,
   "metadata": {},
   "outputs": [
    {
     "name": "stderr",
     "output_type": "stream",
     "text": [
      "Syntax error compiling var at (REPL:3:1).\n",
      "Unable to resolve var: let-bound in this context\n"
     ]
    },
    {
     "ename": "class clojure.lang.Compiler$CompilerException",
     "evalue": "",
     "output_type": "error",
     "traceback": [
      "  Util.java:   221 clojure.lang.Util/runtimeException",
      "   core.clj:  3214 clojure.core$eval/invokeStatic",
      "   core.clj:  3210 clojure.core$eval/invoke",
      "   main.clj:   437 clojure.main$repl$read_eval_print__9086$fn__9089/invoke",
      "   main.clj:   458 clojure.main$repl$fn__9095/invoke",
      "   main.clj:   368 clojure.main$repl/doInvoke",
      "RestFn.java:  1523 clojure.lang.RestFn/invoke",
      "   AFn.java:    22 clojure.lang.AFn/run",
      "   AFn.java:    22 clojure.lang.AFn/run",
      "Thread.java:   745 java.lang.Thread/run"
     ]
    }
   ],
   "source": [
    ";; Trying to create vars with 'let' raises an exception\n",
    "\n",
    "(let [let-bound 42] #'let-bound)\n"
   ]
  },
  {
   "cell_type": "markdown",
   "metadata": {},
   "source": [
    "### Some clojure built-in vars\n"
   ]
  },
  {
   "cell_type": "code",
   "execution_count": 76,
   "metadata": {},
   "outputs": [
    {
     "data": {
      "text/plain": [
       "[\"Emma\" \"2001\" ...]"
      ]
     },
     "execution_count": 76,
     "metadata": {},
     "output_type": "execute_result"
    }
   ],
   "source": [
    ";; *print-length* let you print a specific number of elements of a collection\n",
    "\n",
    "(def books [\"Emma\" \"2001\" \"Jaws\" \"Oliver Twist\"])\n",
    "\n",
    "(set! *print-length* 2)\n",
    "books"
   ]
  },
  {
   "cell_type": "code",
   "execution_count": 77,
   "metadata": {},
   "outputs": [
    {
     "data": {
      "text/plain": [
       "4"
      ]
     },
     "execution_count": 77,
     "metadata": {},
     "output_type": "execute_result"
    }
   ],
   "source": [
    ";; *1, *2, *3 let you print the last, second last and third last element \n",
    ";; of the REPL, respectively\n",
    "\n",
    "(+ 2 2)\n",
    "*1"
   ]
  },
  {
   "cell_type": "code",
   "execution_count": 78,
   "metadata": {},
   "outputs": [
    {
     "data": {
      "text/plain": [
       "\"Orwell\""
      ]
     },
     "execution_count": 78,
     "metadata": {},
     "output_type": "execute_result"
    }
   ],
   "source": [
    "\"Austen\"\n",
    "\"King\"\n",
    "\"Orwell\"\n"
   ]
  },
  {
   "cell_type": "code",
   "execution_count": 79,
   "metadata": {},
   "outputs": [
    {
     "data": {
      "text/plain": [
       "\"Austen\""
      ]
     },
     "execution_count": 79,
     "metadata": {},
     "output_type": "execute_result"
    }
   ],
   "source": [
    "*3"
   ]
  },
  {
   "cell_type": "code",
   "execution_count": 80,
   "metadata": {},
   "outputs": [
    {
     "name": "stderr",
     "output_type": "stream",
     "text": [
      "Execution error (ArithmeticException) at user/eval4200 (REPL:3).\n",
      "Divide by zero\n"
     ]
    },
    {
     "ename": "class java.lang.ArithmeticException",
     "evalue": "",
     "output_type": "error",
     "traceback": [
      "Numbers.java:   188 clojure.lang.Numbers/divide",
      "    core.clj:  3214 clojure.core$eval/invokeStatic",
      "    core.clj:  3210 clojure.core$eval/invoke",
      "    main.clj:   437 clojure.main$repl$read_eval_print__9086$fn__9089/invoke",
      "    main.clj:   458 clojure.main$repl$fn__9095/invoke",
      "    main.clj:   368 clojure.main$repl/doInvoke",
      " RestFn.java:  1523 clojure.lang.RestFn/invoke",
      "    AFn.java:    22 clojure.lang.AFn/run",
      "    AFn.java:    22 clojure.lang.AFn/run",
      " Thread.java:   745 java.lang.Thread/run"
     ]
    }
   ],
   "source": [
    ";; *e let you print the last exception\n",
    "\n",
    "(/ 1 0)\n"
   ]
  },
  {
   "cell_type": "code",
   "execution_count": null,
   "metadata": {},
   "outputs": [
    {
     "data": {
      "text/plain": [
       "#error {\n",
       " :cause \"Divide by zero\"\n",
       " :via\n",
       " [{:type java.lang.ArithmeticException\n",
       "   :message \"Divide by zero\"\n",
       "   :at [clojure.lang.Numbers divide ...]}]\n",
       " :trace\n",
       " [[clojure.lang.Numbers divide ...]\n",
       "  [clojure.lang.Numbers divide ...]\n",
       "  [user$eval4192 invokeStatic ...]\n",
       "  [user$eval4192 invoke ...]\n",
       "  [clojure.lang.Compiler eval ...]\n",
       "  [clojure.lang.Compiler eval ...]\n",
       "  [clojure.core$eval invokeStatic ...]\n",
       "  [clojure.core$eval invoke ...]\n",
       "  [clojure.main$repl$read_eval_print__9086$fn__9089 invoke ...]\n",
       "  [clojure.main$repl$read_eval_print__9086 invoke ...]\n",
       "  [clojure.main$repl$fn__9095 invoke ...]\n",
       "  [clojure.main$repl invokeStatic ...]\n",
       "  [clojure.main$repl doInvoke ...]\n",
       "  [clojure.lang.RestFn invoke ...]\n",
       "  [nrepl.middleware.interruptible_eval$evaluate invokeStatic ...]\n",
       "  [nrepl.middleware.interruptible_eval$evaluate invoke ...]\n",
       "  [nrepl.middleware.interruptible_eval$interruptible_eval$fn__25331$fn__25335 invoke ...]\n",
       "  [clojure.lang.AFn run ...]\n",
       "  [nrepl.middleware.session$session_exec$main_loop__25412$fn__25416 invoke ...]\n",
       "  [nrepl.middleware.session$session_exec$main_loop__25412 invoke ...]\n",
       "  [clojure.lang.AFn run ...]\n",
       "  [java.lang.Thread run ...]]}"
      ]
     },
     "execution_count": 73,
     "metadata": {},
     "output_type": "execute_result"
    }
   ],
   "source": [
    "*e"
   ]
  }
 ],
 "metadata": {
  "kernelspec": {
   "display_name": "Clojure (clojupyter=0.3.2=1)",
   "language": "clojure",
   "name": "python397jvsc74a57bd089a790bea3b9cadff6bf73491f7cf161e4e94bfc015afe6a535623fbe4142b79"
  },
  "language_info": {
   "file_extension": ".clj",
   "mimetype": "text/x-clojure",
   "name": "clojure",
   "version": "1.10.1"
  },
  "orig_nbformat": 4
 },
 "nbformat": 4,
 "nbformat_minor": 2
}

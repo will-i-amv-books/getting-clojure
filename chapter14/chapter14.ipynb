{
 "cells": [
  {
   "cell_type": "markdown",
   "metadata": {},
   "source": [
    "# Tests"
   ]
  },
  {
   "cell_type": "code",
   "execution_count": null,
   "metadata": {},
   "outputs": [],
   "source": [
    ";; At the command line, create a new project called 'inventory'\n",
    "\n",
    "\"\"\"\n",
    "!lein new inventory\n",
    "\"\"\"\n"
   ]
  },
  {
   "cell_type": "markdown",
   "metadata": {},
   "source": [
    "### Spotting Bugs with clojure.test"
   ]
  },
  {
   "cell_type": "code",
   "execution_count": null,
   "metadata": {},
   "outputs": [],
   "source": [
    ";; A new book inventory will look like the following\n",
    "\n",
    "[{:title \"2001\" :author \"Clarke\" :copies 21}\n",
    " {:title \"Emma\" :author \"Austen\" :copies 10}\n",
    " {:title \"Misery\" :author \"King\" :copies 101}]\n"
   ]
  },
  {
   "cell_type": "code",
   "execution_count": null,
   "metadata": {},
   "outputs": [],
   "source": [
    ";; In inventory/src/inventory/core.clj, save the first 2 functions \n",
    "\n",
    "(ns inventory.core)\n",
    "\n",
    "(defn find-by-title\n",
    "    \"Search for a book by title,\n",
    "    where title is a string and books is a collection\n",
    "    of book maps, each of which must have a :title entry\"\n",
    "    [title books]\n",
    "    (some #(when (= (:title %) title) %) books))\n",
    "\n",
    "(defn number-of-copies-of\n",
    "    \"Return the number of copies in inventory of the\n",
    "    given title, where title is a string and books is a collection\n",
    "    of book maps each of which must have a :title entry\"\n",
    "    [title books]\n",
    "    (:copies (find-by-title title books)))\n"
   ]
  },
  {
   "cell_type": "code",
   "execution_count": null,
   "metadata": {},
   "outputs": [],
   "source": [
    ";; In inventory/test/inventory/core_test.clj, \n",
    ";; save the the first test, as follows\n",
    "\n",
    "(ns inventory.core-test\n",
    "    (:require [clojure.test :refer :all])\n",
    "    (:require [inventory.core :as i]))\n",
    "\n",
    "(def books\n",
    "    [{:title \"2001\" :author \"Clarke\" :copies 21}\n",
    "     {:title \"Emma\" :author \"Austen\" :copies 10}\n",
    "     {:title \"Misery\" :author \"King\" :copies 101}])\n",
    "\n",
    "(deftest test-finding-books\n",
    "    (is (not (nil? (i/find-by-title \"Emma\" books)))))\n",
    "\n"
   ]
  },
  {
   "cell_type": "code",
   "execution_count": null,
   "metadata": {},
   "outputs": [],
   "source": [
    ";; In the root directory 'inventory' of the project, \n",
    ";; start a REPL and execute the first test\n",
    "\n",
    "\"\"\"\n",
    "!lein repl\n",
    "\"\"\"\n",
    "\n",
    "(require '[inventory.core-test :as ct])\n",
    "\n",
    "(ct/test-finding-books) ; The test should succeed\n"
   ]
  },
  {
   "cell_type": "code",
   "execution_count": null,
   "metadata": {},
   "outputs": [],
   "source": [
    ";; You can also use more than one expression per test, as follows\n",
    "\n",
    "(deftest test-finding-books-better\n",
    "    (is (not (nil? (i/find-by-title \"Emma\" books))))\n",
    "    (is (nil? (i/find-by-title \"XYZZY\" books))))\n"
   ]
  },
  {
   "cell_type": "code",
   "execution_count": null,
   "metadata": {},
   "outputs": [],
   "source": [
    ";; You can even organize your tests into subtests with 'testing', as follows\n",
    "\n",
    "(deftest test-basic-inventory\n",
    "    (testing \"Finding books\"\n",
    "        (is (not (nil? (i/find-by-title \"Emma\" books))))\n",
    "        (is (nil? (i/find-by-title \"XYZZY\" books))))\n",
    "    (testing \"Copies in inventory\"\n",
    "        (is (= 10 (i/number-of-copies-of \"Emma\" books)))))\n"
   ]
  },
  {
   "cell_type": "code",
   "execution_count": null,
   "metadata": {},
   "outputs": [],
   "source": [
    ";; In the REPL, execute the 2 new tests, as follows\n",
    "\n",
    "(require '[inventory.core-test :as ct])\n",
    "\n",
    "(ct/test-finding-books-better) ; Both tests should succeed\n",
    "(ct/test-basic-inventory) \n"
   ]
  },
  {
   "cell_type": "markdown",
   "metadata": {},
   "source": [
    "### Testing Namespaces and Projects"
   ]
  },
  {
   "cell_type": "code",
   "execution_count": null,
   "metadata": {},
   "outputs": [],
   "source": [
    ";; Since running tests manually doesn't scale, you can use the 'run-tests' function\n",
    ";; to rull all tests saved at inventory/test/inventory, as follows\n",
    "\n",
    "(require '[clojure.test])\n",
    "\n",
    "(clojure.test/run-tests) ; Running tests without args\n",
    "(clojure.test/run-tests *ns*)  ; Running tests in the current namespace\n",
    "(ns inventory.core-test)\n",
    "(clojure.test/run-tests 'inventory.core-test) ; Running tests in the 'inventory.core-test' namespace\n"
   ]
  },
  {
   "cell_type": "code",
   "execution_count": null,
   "metadata": {},
   "outputs": [],
   "source": [
    ";; The following leiningen command can also be used to run all tests\n",
    "\n",
    "\"\"\"\n",
    "lein test\n",
    "\"\"\"\n"
   ]
  },
  {
   "cell_type": "markdown",
   "metadata": {},
   "source": [
    "### Property-based testing"
   ]
  },
  {
   "cell_type": "code",
   "execution_count": null,
   "metadata": {},
   "outputs": [],
   "source": [
    ";; You can generate random test data with the 'generators' library, as follows\n",
    "\n",
    "(require '[clojure.test.check.generators :as gen])\n",
    "\n",
    "(gen/sample gen/string-alphanumeric)"
   ]
  },
  {
   "cell_type": "code",
   "execution_count": null,
   "metadata": {},
   "outputs": [],
   "source": [
    ";; With the last library, you can generate test date \n",
    ";; for  the 'inventory' app, as follows\n",
    "\n",
    "(def title-gen gen/string-alphanumeric)\n",
    "\n",
    "(def author-gen gen/string-alphanumeric)\n",
    "\n",
    "(def copies-gen gen/pos-int)\n"
   ]
  },
  {
   "cell_type": "code",
   "execution_count": null,
   "metadata": {},
   "outputs": [],
   "source": [
    ";; To generate nonempty titles and authors, and nonzero number of copies,\n",
    ";; use the 'such-that' function and a predicate, as follows\n",
    "\n",
    "(def title-gen (gen/such-that not-empty gen/string-alphanumeric))\n",
    "\n",
    "(def author-gen (gen/such-that not-empty gen/string-alphanumeric))\n",
    "\n",
    "(def copies-gen (gen/such-that (complement zero?) gen/pos-int))"
   ]
  },
  {
   "cell_type": "code",
   "execution_count": null,
   "metadata": {},
   "outputs": [],
   "source": [
    ";; With the last functions, we can generate maps of book data\n",
    ";; with the 'hash-map' function, as follows\n",
    "\n",
    "(def book-gen\n",
    "    (gen/hash-map :title title-gen :author author-gen :copies copies-gen))\n",
    "\n"
   ]
  },
  {
   "cell_type": "code",
   "execution_count": null,
   "metadata": {},
   "outputs": [],
   "source": [
    ";;And we can generate random data for the whole inventory, as follows\n",
    "\n",
    "(def inventory-gen \n",
    "    (gen/not-empty (gen/vector book-gen)))\n"
   ]
  },
  {
   "cell_type": "code",
   "execution_count": null,
   "metadata": {},
   "outputs": [],
   "source": [
    ";; We can also generate one book along each inventory with \n",
    ";; the let version of the generator 'gen/let', as follows\n",
    "\n",
    "(def inventory-and-book-gen\n",
    "    (gen/let [inventory inventory-gen\n",
    "              book (gen/elements inventory)]\n",
    "    {:inventory inventory :book book}))\n",
    "\n"
   ]
  },
  {
   "cell_type": "markdown",
   "metadata": {},
   "source": [
    "### Checking Properties"
   ]
  },
  {
   "cell_type": "code",
   "execution_count": null,
   "metadata": {},
   "outputs": [],
   "source": [
    ";; As a simple example, we can state that each positive integer is smaller \n",
    ";; than the next positive integer with 'for-all', as follows\n",
    "\n",
    "(require '[clojure.test.check.properties :as prop])\n",
    "\n",
    "(prop/for-all [i gen/pos-int]\n",
    "    (< i (inc i)))\n"
   ]
  },
  {
   "cell_type": "code",
   "execution_count": null,
   "metadata": {},
   "outputs": [],
   "source": [
    ";; But we should check the property with a finite number of cases.\n",
    ";; We can do that with 'quick-check', as follows\n",
    "\n",
    "(require '[clojure.test.check :as tc])\n",
    "\n",
    "(tc/quick-check 50\n",
    "    (prop/for-all [i gen/pos-int]\n",
    "        (< i (inc i))))"
   ]
  },
  {
   "cell_type": "code",
   "execution_count": null,
   "metadata": {},
   "outputs": [],
   "source": [
    ";; From the last examples, we can create the tests for the 'inventory' project, as follows\n",
    "\n",
    "(defn my-property-test []\n",
    "    (tc/quick-check 50\n",
    "        (prop/for-all [i-and-b inventory-and-book-gen]\n",
    "            (=  (i/find-by-title (-> i-and-b :book :title) (:inventory i-and-b)) (:book i-and-b)))))\n"
   ]
  }
 ],
 "metadata": {
  "interpreter": {
   "hash": "916dbcbb3f70747c44a77c7bcd40155683ae19c65e1c03b4aa3499c5328201f1"
  },
  "kernelspec": {
   "display_name": "Clojure (clojupyter=0.3.2=1)",
   "language": "clojure",
   "name": "python397jvsc74a57bd089a790bea3b9cadff6bf73491f7cf161e4e94bfc015afe6a535623fbe4142b79"
  },
  "language_info": {
   "file_extension": ".clj",
   "mimetype": "text/x-clojure",
   "name": "clojure",
   "version": "1.10.1"
  },
  "orig_nbformat": 4
 },
 "nbformat": 4,
 "nbformat_minor": 2
}

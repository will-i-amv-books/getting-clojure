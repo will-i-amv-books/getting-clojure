{
 "cells": [
  {
   "cell_type": "markdown",
   "metadata": {},
   "source": [
    "# Spec"
   ]
  },
  {
   "cell_type": "markdown",
   "metadata": {},
   "source": [
    "### This Is the Data You’re Looking For"
   ]
  },
  {
   "cell_type": "code",
   "execution_count": 1,
   "metadata": {},
   "outputs": [
    {
     "data": {
      "text/plain": [
       "{:title \"Getting Clojure\", :author \"Olsen\", :copies 1000000}"
      ]
     },
     "execution_count": 1,
     "metadata": {},
     "output_type": "execute_result"
    }
   ],
   "source": [
    ";; A simple map\n",
    "\n",
    "{:title \"Getting Clojure\" :author \"Olsen\" :copies 1000000}"
   ]
  },
  {
   "cell_type": "code",
   "execution_count": 2,
   "metadata": {},
   "outputs": [
    {
     "data": {
      "text/plain": [
       "#'user/book?"
      ]
     },
     "execution_count": 2,
     "metadata": {},
     "output_type": "execute_result"
    }
   ],
   "source": [
    ";; A function to check the shape pf the last dict\n",
    "\n",
    "(defn book? [x]\n",
    "    (and\n",
    "        (map? x)\n",
    "        (string? (:author x))\n",
    "        (string? (:title x))\n",
    "        (pos-int? (:copies x))))\n"
   ]
  },
  {
   "cell_type": "code",
   "execution_count": 8,
   "metadata": {},
   "outputs": [
    {
     "data": {
      "text/plain": [
       "nil"
      ]
     },
     "execution_count": 8,
     "metadata": {},
     "output_type": "execute_result"
    }
   ],
   "source": [
    ";; But for data validation, a better option is clojure.spec\n",
    "\n",
    "(ns inventory.core \n",
    "    (:require [clojure.spec.alpha :as s]))\n"
   ]
  },
  {
   "cell_type": "code",
   "execution_count": 9,
   "metadata": {},
   "outputs": [
    {
     "data": {
      "text/plain": [
       "true"
      ]
     },
     "execution_count": 9,
     "metadata": {},
     "output_type": "execute_result"
    }
   ],
   "source": [
    ";; The key function supplied by spec is valid?:\n",
    "\n",
    "(s/valid? number? 44)\n"
   ]
  },
  {
   "cell_type": "code",
   "execution_count": 10,
   "metadata": {},
   "outputs": [
    {
     "data": {
      "text/plain": [
       "false"
      ]
     },
     "execution_count": 10,
     "metadata": {},
     "output_type": "execute_result"
    }
   ],
   "source": [
    "(s/valid? number? :hello)\n"
   ]
  },
  {
   "cell_type": "code",
   "execution_count": 11,
   "metadata": {},
   "outputs": [
    {
     "data": {
      "text/plain": [
       "false"
      ]
     },
     "execution_count": 11,
     "metadata": {},
     "output_type": "execute_result"
    }
   ],
   "source": [
    ";; You can combine predicates to check if the value is a number \n",
    ";; and greater than 10 with 'and', as follows\n",
    "\n",
    "(def n-gt-10 (s/and number? #(> % 10)))\n",
    "\n",
    "(s/valid? n-gt-10 1)\n"
   ]
  },
  {
   "cell_type": "code",
   "execution_count": 13,
   "metadata": {},
   "outputs": [
    {
     "data": {
      "text/plain": [
       "false"
      ]
     },
     "execution_count": 13,
     "metadata": {},
     "output_type": "execute_result"
    }
   ],
   "source": [
    "(s/valid? n-gt-10 10)\n"
   ]
  },
  {
   "cell_type": "code",
   "execution_count": 15,
   "metadata": {},
   "outputs": [
    {
     "data": {
      "text/plain": [
       "true"
      ]
     },
     "execution_count": 15,
     "metadata": {},
     "output_type": "execute_result"
    }
   ],
   "source": [
    "(s/valid? n-gt-10 11)\n"
   ]
  },
  {
   "cell_type": "code",
   "execution_count": 16,
   "metadata": {},
   "outputs": [
    {
     "data": {
      "text/plain": [
       "#'inventory.core/n-gt-10-lt-100"
      ]
     },
     "execution_count": 16,
     "metadata": {},
     "output_type": "execute_result"
    }
   ],
   "source": [
    ";; 'and' isn't limitted to just two predicates\n",
    "\n",
    "(def n-gt-10-lt-100\n",
    "    (s/and number? #(> % 10) #(< % 100)))\n"
   ]
  },
  {
   "cell_type": "code",
   "execution_count": 18,
   "metadata": {},
   "outputs": [
    {
     "data": {
      "text/plain": [
       "true"
      ]
     },
     "execution_count": 18,
     "metadata": {},
     "output_type": "execute_result"
    }
   ],
   "source": [
    ";; To match either a number or a string, we can use 'or' as follows\n",
    "\n",
    "(def n-or-s (s/or :a-number number? :a-string string?))\n",
    "\n",
    "(s/valid? n-or-s \"Hello!\")\n"
   ]
  },
  {
   "cell_type": "code",
   "execution_count": 19,
   "metadata": {},
   "outputs": [
    {
     "data": {
      "text/plain": [
       "true"
      ]
     },
     "execution_count": 19,
     "metadata": {},
     "output_type": "execute_result"
    }
   ],
   "source": [
    "(s/valid? n-or-s 99)\n"
   ]
  },
  {
   "cell_type": "code",
   "execution_count": 20,
   "metadata": {},
   "outputs": [
    {
     "data": {
      "text/plain": [
       "false"
      ]
     },
     "execution_count": 20,
     "metadata": {},
     "output_type": "execute_result"
    }
   ],
   "source": [
    "(s/valid? n-or-s 'foo)\n"
   ]
  },
  {
   "cell_type": "code",
   "execution_count": 21,
   "metadata": {},
   "outputs": [
    {
     "data": {
      "text/plain": [
       "#'inventory.core/n-gt-10-or-s"
      ]
     },
     "execution_count": 21,
     "metadata": {},
     "output_type": "execute_result"
    }
   ],
   "source": [
    ";; This defines a spec that will accept numbers greater than 10, or any symbol\n",
    "\n",
    "(def n-gt-10-or-s \n",
    "    (s/or :greater-10 n-gt-10 :a-symbol symbol?)) ; Specs can be used inside other specs\n"
   ]
  },
  {
   "cell_type": "markdown",
   "metadata": {},
   "source": [
    "### Spec’ing Collections"
   ]
  },
  {
   "cell_type": "code",
   "execution_count": null,
   "metadata": {},
   "outputs": [],
   "source": [
    ";; Check if it's a collection of strings\n",
    "\n",
    "(def coll-of-strings (s/coll-of string?))\n"
   ]
  },
  {
   "cell_type": "code",
   "execution_count": 23,
   "metadata": {},
   "outputs": [
    {
     "data": {
      "text/plain": [
       "#'inventory.core/coll-of-n-or-s"
      ]
     },
     "execution_count": 23,
     "metadata": {},
     "output_type": "execute_result"
    }
   ],
   "source": [
    ";; Check if it's a collection of numbers or strings\n",
    "\n",
    "(def coll-of-n-or-s (s/coll-of n-or-s))"
   ]
  },
  {
   "cell_type": "code",
   "execution_count": 24,
   "metadata": {},
   "outputs": [
    {
     "data": {
      "text/plain": [
       "true"
      ]
     },
     "execution_count": 24,
     "metadata": {},
     "output_type": "execute_result"
    }
   ],
   "source": [
    ";; To match only four-element collections consisting of alternating \n",
    ";; strings and numbers, we can use 'cat' as follows\n",
    "\n",
    "(def s-n-s-n \n",
    "    (s/cat :s1 string? :n1 number? :s2 string? :n2 number?))\n",
    "\n",
    "(s/valid? s-n-s-n [\"Emma\" 1815 \"Jaws\" 1974])\n"
   ]
  },
  {
   "cell_type": "code",
   "execution_count": 28,
   "metadata": {},
   "outputs": [
    {
     "data": {
      "text/plain": [
       "true"
      ]
     },
     "execution_count": 28,
     "metadata": {},
     "output_type": "execute_result"
    }
   ],
   "source": [
    "; Specs on maps can also be checked with 'keys', as follows\n",
    "\n",
    "(def book-s\n",
    "    (s/keys :req-un [:inventory.core/title\n",
    "                     :inventory.core/author\n",
    "                     :inventory.core/copies]))\n",
    "\n",
    "(s/valid? book-s {:title \"Emma\" :author \"Austen\" :copies 10})\n"
   ]
  },
  {
   "cell_type": "code",
   "execution_count": 29,
   "metadata": {},
   "outputs": [
    {
     "data": {
      "text/plain": [
       "false"
      ]
     },
     "execution_count": 29,
     "metadata": {},
     "output_type": "execute_result"
    }
   ],
   "source": [
    "(s/valid? book-s {:title \"Arabian Nights\" :copies 17})\n"
   ]
  },
  {
   "cell_type": "code",
   "execution_count": 30,
   "metadata": {},
   "outputs": [
    {
     "data": {
      "text/plain": [
       "true"
      ]
     },
     "execution_count": 30,
     "metadata": {},
     "output_type": "execute_result"
    }
   ],
   "source": [
    ";; Additional entries are OK\n",
    "\n",
    "(s/valid? book-s {:title \"2001\" :author \"Clarke\" :copies 1 :published 1968}) \n"
   ]
  },
  {
   "cell_type": "markdown",
   "metadata": {},
   "source": [
    "### Registering Specs\n"
   ]
  },
  {
   "cell_type": "code",
   "execution_count": 31,
   "metadata": {},
   "outputs": [
    {
     "data": {
      "text/plain": [
       ":inventory.core/book"
      ]
     },
     "execution_count": 31,
     "metadata": {},
     "output_type": "execute_result"
    }
   ],
   "source": [
    ";; You can register your spec in a JVM-wide registry of specs with 'def', as follows\n",
    "\n",
    "(s/def :inventory.core/book\n",
    "    (s/keys :req-un [:inventory.core/title\n",
    "                     :inventory.core/author\n",
    "                     :inventory.core/copies]))\n"
   ]
  },
  {
   "cell_type": "code",
   "execution_count": 33,
   "metadata": {},
   "outputs": [
    {
     "data": {
      "text/plain": [
       "true"
      ]
     },
     "execution_count": 33,
     "metadata": {},
     "output_type": "execute_result"
    }
   ],
   "source": [
    ";; Once a spec is registered, you can use the keyword as a spec, as follows\n",
    "\n",
    "(s/valid? :inventory.core/book \n",
    "    {:title \"Dracula\" :author \"Stoker\" :copies 10})\n"
   ]
  },
  {
   "cell_type": "code",
   "execution_count": 35,
   "metadata": {},
   "outputs": [
    {
     "data": {
      "text/plain": [
       "true"
      ]
     },
     "execution_count": 35,
     "metadata": {},
     "output_type": "execute_result"
    }
   ],
   "source": [
    ";; But if the current namespace is inventory.core, the previous example\n",
    ";; can be modified as follows\n",
    "\n",
    "(s/def ::book \n",
    "    (s/keys :req-un [::title ::author ::copies]))\n",
    "\n",
    "(s/valid? ::book \n",
    "    {:title \"Dracula\" :author \"Stoker\" :copies 10})\n"
   ]
  },
  {
   "cell_type": "markdown",
   "metadata": {},
   "source": [
    "### Spec’ing Maps (Again)\n"
   ]
  },
  {
   "cell_type": "code",
   "execution_count": 36,
   "metadata": {},
   "outputs": [
    {
     "data": {
      "text/plain": [
       ":inventory.core/copies"
      ]
     },
     "execution_count": 36,
     "metadata": {},
     "output_type": "execute_result"
    }
   ],
   "source": [
    ";; In the last snippet, we onle checked that the 'book' map has certain keys.\n",
    ";; To check the values themselves, we can add them to the spec, as follows\n",
    "\n",
    "(s/def ::title string?)\n",
    "\n",
    "(s/def ::author string?)\n",
    "\n",
    "(s/def ::copies int?)\n"
   ]
  },
  {
   "cell_type": "code",
   "execution_count": 41,
   "metadata": {},
   "outputs": [
    {
     "data": {
      "text/plain": [
       "false"
      ]
     },
     "execution_count": 41,
     "metadata": {},
     "output_type": "execute_result"
    }
   ],
   "source": [
    ";; This check will fail\n",
    "\n",
    "(s/valid? ::book {:author :austen :title :emma})\n"
   ]
  },
  {
   "cell_type": "code",
   "execution_count": 39,
   "metadata": {},
   "outputs": [
    {
     "name": "stdout",
     "output_type": "stream",
     "text": [
      ":austen - failed: string? in: [:author] at: [:author] spec: :inventory.core/author\n",
      ":emma - failed: string? in: [:title] at: [:title] spec: :inventory.core/title\n",
      "{:author :austen, :title :emma} - failed: (contains? % :copies) spec: :inventory.core/book\n"
     ]
    },
    {
     "data": {
      "text/plain": [
       "nil"
      ]
     },
     "execution_count": 39,
     "metadata": {},
     "output_type": "execute_result"
    }
   ],
   "source": [
    ";; To see an explanation of the failure, you can use 'explain' as follows\n",
    "\n",
    "(s/explain ::book {:author :austen :title :emma})\n"
   ]
  },
  {
   "cell_type": "code",
   "execution_count": 44,
   "metadata": {},
   "outputs": [
    {
     "data": {
      "text/plain": [
       "{:s1 \"Emma\", :n1 1815, :s2 \"Jaws\", :n2 1974}"
      ]
     },
     "execution_count": 44,
     "metadata": {},
     "output_type": "execute_result"
    }
   ],
   "source": [
    ";; To see what a successful check will look, you can use 'conform' and a target spec, as follows\n",
    "\n",
    "(s/conform s-n-s-n [\"Emma\" 1815 \"Jaws\" 1974])\n"
   ]
  },
  {
   "cell_type": "markdown",
   "metadata": {},
   "source": [
    "### Function Specs\n"
   ]
  },
  {
   "cell_type": "code",
   "execution_count": 47,
   "metadata": {},
   "outputs": [
    {
     "data": {
      "text/plain": [
       ":inventory.core/inventory"
      ]
     },
     "execution_count": 47,
     "metadata": {},
     "output_type": "execute_result"
    }
   ],
   "source": [
    ";; Assert that an inventory is a collection of books.\n",
    "\n",
    "(s/def :inventory.core/inventory\n",
    "    (s/coll-of ::book))\n"
   ]
  },
  {
   "cell_type": "code",
   "execution_count": 48,
   "metadata": {},
   "outputs": [
    {
     "data": {
      "text/plain": [
       "#'inventory.core/find-by-title"
      ]
     },
     "execution_count": 48,
     "metadata": {},
     "output_type": "execute_result"
    }
   ],
   "source": [
    ";; You can add a spec in the pre or post-conditions of a function, as follows\n",
    "\n",
    "(defn find-by-title\n",
    "    [title inventory]\n",
    "    {:pre [(s/valid? ::title title)\n",
    "           (s/valid? ::inventory inventory)]}\n",
    "    (some #(when (= (:title %) title) %) inventory))\n"
   ]
  },
  {
   "cell_type": "code",
   "execution_count": 50,
   "metadata": {},
   "outputs": [
    {
     "data": {
      "text/plain": [
       "inventory.core/find-by-title"
      ]
     },
     "execution_count": 50,
     "metadata": {},
     "output_type": "execute_result"
    }
   ],
   "source": [
    ";; But a better way is to separate the function and the spec, as follows\n",
    "\n",
    ";; The find-by-title function.\n",
    "\n",
    "(defn find-by-title [title inventory]\n",
    "    (some #(when (= (:title %) title) %) inventory))\n",
    "\n",
    ";; The spec for the find-by-title function.\n",
    "\n",
    "(s/fdef find-by-title\n",
    "    :args (s/cat :title ::title\n",
    "                 :inventory ::inventory))\n"
   ]
  },
  {
   "cell_type": "code",
   "execution_count": 51,
   "metadata": {},
   "outputs": [
    {
     "data": {
      "text/plain": [
       "[inventory.core/find-by-title]"
      ]
     },
     "execution_count": 51,
     "metadata": {},
     "output_type": "execute_result"
    }
   ],
   "source": [
    ";; To apply the argument checking, we need another namespace as follows\n",
    "\n",
    "(require '[clojure.spec.test.alpha :as st])\n",
    "\n",
    "(st/instrument 'inventory.core/find-by-title) ; Explicitly call the function\n"
   ]
  },
  {
   "cell_type": "code",
   "execution_count": 57,
   "metadata": {},
   "outputs": [
    {
     "name": "stderr",
     "output_type": "stream",
     "text": [
      "Execution error - invalid arguments to inventory.core/find-by-title at (REPL:4).\n",
      "\"Emma\" - failed: map? at: [:inventory] spec: :inventory.core/book\n",
      "\"2001\" - failed: map? at: [:inventory] spec: :inventory.core/book\n",
      "\"Jaws\" - failed: map? at: [:inventory] spec: :inventory.core/book\n"
     ]
    },
    {
     "ename": "class clojure.lang.ExceptionInfo",
     "evalue": "",
     "output_type": "error",
     "traceback": [
      "  alpha.clj:   132 clojure.spec.test.alpha$spec_checking_fn$conform_BANG___3024/invoke",
      "  alpha.clj:   140 clojure.spec.test.alpha$spec_checking_fn$fn__3026/doInvoke",
      "RestFn.java:   421 clojure.lang.RestFn/invoke",
      "   core.clj:  3214 clojure.core$eval/invokeStatic",
      "   core.clj:  3210 clojure.core$eval/invoke",
      "   main.clj:   437 clojure.main$repl$read_eval_print__9086$fn__9089/invoke",
      "   main.clj:   458 clojure.main$repl$fn__9095/invoke",
      "   main.clj:   368 clojure.main$repl/doInvoke",
      "RestFn.java:  1523 clojure.lang.RestFn/invoke",
      "   AFn.java:    22 clojure.lang.AFn/run",
      "   AFn.java:    22 clojure.lang.AFn/run",
      "Thread.java:   745 java.lang.Thread/run"
     ]
    }
   ],
   "source": [
    ";; Calling the function with wrong args will throw an exception\n",
    ";; with a description of the reasons\n",
    "\n",
    "(find-by-title \"Emma\" [\"Emma\" \"2001\" \"Jaws\"]) ; (*)\n",
    "\n",
    "; For performance reasons, enable specs in development/testing\n"
   ]
  },
  {
   "cell_type": "markdown",
   "metadata": {},
   "source": [
    "### Spec-Driven Tests\n"
   ]
  },
  {
   "cell_type": "code",
   "execution_count": 58,
   "metadata": {},
   "outputs": [
    {
     "data": {
      "text/plain": [
       "inventory.core/book-blurb"
      ]
     },
     "execution_count": 58,
     "metadata": {},
     "output_type": "execute_result"
    }
   ],
   "source": [
    ";; A simple function with its spec\n",
    "\n",
    "(defn book-blurb [book]\n",
    "    (str \"The best selling book \" (:title book) \" by \" (:author book)))\n",
    "\n",
    "(s/fdef book-blurb :args (s/cat :book ::book))\n"
   ]
  },
  {
   "cell_type": "code",
   "execution_count": 60,
   "metadata": {},
   "outputs": [
    {
     "data": {
      "text/plain": [
       "({:spec #object[clojure.spec.alpha$fspec_impl$reify__2524 0x62acd031 \"clojure.spec.alpha$fspec_impl$reify__2524@62acd031\"], :clojure.spec.test.check/ret {:result true, :pass? true, :num-tests 1000, :time-elapsed-ms 599, :seed 1646221360039}, :sym inventory.core/book-blurb})"
      ]
     },
     "execution_count": 60,
     "metadata": {},
     "output_type": "execute_result"
    }
   ],
   "source": [
    ";; Now we can run the function with 1000 random input data, as follows\n",
    "\n",
    "(require '[clojure.spec.test.alpha :as stest])\n",
    "\n",
    "(stest/check 'inventory.core/book-blurb)\n"
   ]
  },
  {
   "cell_type": "code",
   "execution_count": 61,
   "metadata": {},
   "outputs": [
    {
     "data": {
      "text/plain": [
       "inventory.core/book-blurb"
      ]
     },
     "execution_count": 61,
     "metadata": {},
     "output_type": "execute_result"
    }
   ],
   "source": [
    ";; We can also add a check for the return value, as follows\n",
    "\n",
    "(s/fdef book-blurb\n",
    "    :args (s/cat :book ::book)\n",
    "    :ret (s/and string? (partial re-find #\"The best selling\")))\n"
   ]
  },
  {
   "cell_type": "code",
   "execution_count": 65,
   "metadata": {},
   "outputs": [
    {
     "data": {
      "text/plain": [
       "inventory.core/book-blurb"
      ]
     },
     "execution_count": 65,
     "metadata": {},
     "output_type": "execute_result"
    }
   ],
   "source": [
    ";; We can add additional checks using external functions, as follows\n",
    "\n",
    "(defn check-return [{:keys [args ret]}]\n",
    "    (let [author (-> args :book :author)]\n",
    "    (not (neg? (.indexOf ret author)))))\n",
    "\n",
    "(s/fdef book-blurb\n",
    "    :args (s/cat :book ::book)\n",
    "    :ret (s/and string? (partial re-find #\"The best selling\"))\n",
    "    :fn check-return)\n"
   ]
  },
  {
   "cell_type": "markdown",
   "metadata": {},
   "source": [
    "Issues with clojure.spec"
   ]
  },
  {
   "cell_type": "code",
   "execution_count": 67,
   "metadata": {},
   "outputs": [
    {
     "data": {
      "text/plain": [
       "inventory.core/find-by-title"
      ]
     },
     "execution_count": 67,
     "metadata": {},
     "output_type": "execute_result"
    }
   ],
   "source": [
    ";; Be careful with mistyping keys\n",
    "\n",
    "(s/def ::author string?)\n",
    "\n",
    "(s/def ::titlo string?) ; Should be ::title\n",
    "\n",
    "(s/def ::copies pos-int?)\n",
    "\n",
    "(s/def ::book\n",
    "    (s/keys :req-un [::title ::author ::copies]))\n",
    "\n",
    ";; Register a spec for the find-by-title function.\n",
    "\n",
    "(s/fdef find-by-title\n",
    "    :args (s/cat :title ::title\n",
    "    :inventory ::inventory))\n"
   ]
  }
 ],
 "metadata": {
  "kernelspec": {
   "display_name": "Clojure (clojupyter=0.3.2=1)",
   "language": "clojure",
   "name": "python397jvsc74a57bd089a790bea3b9cadff6bf73491f7cf161e4e94bfc015afe6a535623fbe4142b79"
  },
  "language_info": {
   "file_extension": ".clj",
   "mimetype": "text/x-clojure",
   "name": "clojure",
   "version": "1.10.1"
  },
  "orig_nbformat": 4
 },
 "nbformat": 4,
 "nbformat_minor": 2
}
